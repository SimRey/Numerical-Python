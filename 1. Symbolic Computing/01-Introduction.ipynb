{
 "cells": [
  {
   "cell_type": "markdown",
   "metadata": {},
   "source": [
    "## <center> Introduction to symbolic computing </center>"
   ]
  },
  {
   "cell_type": "code",
   "execution_count": 1,
   "metadata": {},
   "outputs": [],
   "source": [
    "import sympy\n",
    "import numpy as np"
   ]
  },
  {
   "cell_type": "markdown",
   "metadata": {},
   "source": [
    "### Defining a variable\n",
    "The name of a Symbol object is set when it is created. Symbols can be created in a few different ways in SymPy,\n",
    "for example, using sympy.Symbol, sympy.symbols, and sympy.var."
   ]
  },
  {
   "cell_type": "code",
   "execution_count": 2,
   "metadata": {},
   "outputs": [
    {
     "name": "stdout",
     "output_type": "stream",
     "text": [
      "The symbols defined are x, y, z, a\n"
     ]
    }
   ],
   "source": [
    "x = sympy.Symbol(\"x\")\n",
    "y, z = sympy.symbols(\"y, z\")  # --> easiest way to define all the symbols used in an exercise\n",
    "w = sympy.var(\"a\")\n",
    "\n",
    "print(f\"The symbols defined are {x}, {y}, {z}, {w}\")"
   ]
  },
  {
   "cell_type": "code",
   "execution_count": 3,
   "metadata": {},
   "outputs": [],
   "source": [
    "# Symbols must be further defined:\n",
    "# Assumption                                        Keyword Arguments\n",
    "# real, imaginary                                   is_real, is_imaginary\n",
    "# positive, negative                                is_positive, is_negative\n",
    "# integer                                           is_integer\n",
    "# odd, even                                         is_odd, is_even\n",
    "# prime                                             is_prime\n",
    "# finite, infinite                                  is_finite, is_infinite\n"
   ]
  },
  {
   "cell_type": "code",
   "execution_count": 4,
   "metadata": {},
   "outputs": [
    {
     "data": {
      "text/latex": [
       "$\\displaystyle x_{1}$"
      ],
      "text/plain": [
       "x1"
      ]
     },
     "execution_count": 4,
     "metadata": {},
     "output_type": "execute_result"
    }
   ],
   "source": [
    "x1 = sympy.Symbol(\"x1\", positive=True, finite=True, even=True)\n",
    "sympy.sqrt(x1 ** 2)  # Has information, simplifies the expression\n"
   ]
  },
  {
   "cell_type": "code",
   "execution_count": 5,
   "metadata": {},
   "outputs": [
    {
     "data": {
      "text/latex": [
       "$\\displaystyle \\sqrt{y_{1}^{2}}$"
      ],
      "text/plain": [
       "sqrt(y1**2)"
      ]
     },
     "execution_count": 5,
     "metadata": {},
     "output_type": "execute_result"
    }
   ],
   "source": [
    "y1 = sympy.Symbol(\"y1\")\n",
    "sympy.sqrt(y1 ** 2) # No information, can't simplify the expression\n"
   ]
  },
  {
   "cell_type": "code",
   "execution_count": 6,
   "metadata": {},
   "outputs": [
    {
     "data": {
      "text/latex": [
       "$\\displaystyle -1$"
      ],
      "text/plain": [
       "-1"
      ]
     },
     "execution_count": 6,
     "metadata": {},
     "output_type": "execute_result"
    }
   ],
   "source": [
    "n = sympy.Symbol(\"n\", integer=True, odd=True)\n",
    "sympy.cos(n * sympy.pi)"
   ]
  },
  {
   "cell_type": "markdown",
   "metadata": {},
   "source": [
    "### Functions"
   ]
  },
  {
   "cell_type": "code",
   "execution_count": 7,
   "metadata": {},
   "outputs": [
    {
     "data": {
      "text/latex": [
       "$\\displaystyle f{\\left(x \\right)}$"
      ],
      "text/plain": [
       "f(x)"
      ]
     },
     "execution_count": 7,
     "metadata": {},
     "output_type": "execute_result"
    }
   ],
   "source": [
    "f = sympy.Function(\"f\")\n",
    "f(x)"
   ]
  },
  {
   "cell_type": "code",
   "execution_count": 8,
   "metadata": {},
   "outputs": [
    {
     "data": {
      "text/latex": [
       "$\\displaystyle \\left(1 - x\\right)^{2}$"
      ],
      "text/plain": [
       "(1 - x)**2"
      ]
     },
     "execution_count": 8,
     "metadata": {},
     "output_type": "execute_result"
    }
   ],
   "source": [
    "# Lambda functions\n",
    "l_fun = sympy.Lambda(x, x ** 2)\n",
    "l_fun(1 - x)"
   ]
  },
  {
   "cell_type": "code",
   "execution_count": 9,
   "metadata": {},
   "outputs": [
    {
     "data": {
      "text/latex": [
       "$\\displaystyle 25$"
      ],
      "text/plain": [
       "25"
      ]
     },
     "execution_count": 9,
     "metadata": {},
     "output_type": "execute_result"
    }
   ],
   "source": [
    "l_fun(5)"
   ]
  },
  {
   "cell_type": "markdown",
   "metadata": {},
   "source": [
    "### Expressions"
   ]
  },
  {
   "cell_type": "code",
   "execution_count": 10,
   "metadata": {},
   "outputs": [],
   "source": [
    "# Function                        Description\n",
    "# sympy.simplify                  Attempt various methods and approaches to obtain a simpler form of a given expression.\n",
    "# sympy.trigsimp                  Attempt to simplify an expression using trigonometric identities.\n",
    "# sympy.powsimp                   Attempt to simplify an expression using laws of powers.\n",
    "# sympy.compsimp                  Simplify combinatorial expressions.\n",
    "# sympy.ratsimp                   Simplify an expression by writing on a common denominator.\n",
    "# sympy.factor                    Factors the expression\n",
    "# sympy.expand                    Expands the expression\n",
    "# expression.collect              Collects a certain variable"
   ]
  },
  {
   "cell_type": "code",
   "execution_count": 11,
   "metadata": {},
   "outputs": [
    {
     "name": "stdout",
     "output_type": "stream",
     "text": [
      "exp(x)*exp(y)\n",
      "exp(x + y)\n"
     ]
    }
   ],
   "source": [
    "expr = sympy.exp(x) * sympy.exp(y)\n",
    "print(expr)\n",
    "print(sympy.simplify(expr))"
   ]
  },
  {
   "cell_type": "code",
   "execution_count": 12,
   "metadata": {},
   "outputs": [
    {
     "name": "stdout",
     "output_type": "stream",
     "text": [
      "(x + 1)*(x + 2)\n",
      "x**2 + 3*x + 2\n"
     ]
    }
   ],
   "source": [
    "expr2 = (x + 1) * (x + 2)\n",
    "print(expr2)\n",
    "print(sympy.expand(expr2))"
   ]
  },
  {
   "cell_type": "code",
   "execution_count": 13,
   "metadata": {},
   "outputs": [
    {
     "name": "stdout",
     "output_type": "stream",
     "text": [
      "(x - 1)*(x + 1)\n"
     ]
    }
   ],
   "source": [
    "fac = sympy.factor(x ** 2 - 1)\n",
    "print(fac)"
   ]
  },
  {
   "cell_type": "code",
   "execution_count": 14,
   "metadata": {},
   "outputs": [
    {
     "name": "stdout",
     "output_type": "stream",
     "text": [
      "x*(y*z - z + 1) - y*z\n"
     ]
    }
   ],
   "source": [
    "expr3 = x + y * x * z - 2 * x * z + x * z - y * z\n",
    "print(expr3.collect(x))"
   ]
  },
  {
   "cell_type": "code",
   "execution_count": 15,
   "metadata": {},
   "outputs": [
    {
     "name": "stdout",
     "output_type": "stream",
     "text": [
      "-1/(x + 2) + 1/(x + 1)\n"
     ]
    }
   ],
   "source": [
    "# Apart, Together and cancel\n",
    "expr4 = 1 / (x ** 2 + 3 * x + 2)\n",
    "print(sympy.apart(expr4, x))"
   ]
  },
  {
   "cell_type": "code",
   "execution_count": 16,
   "metadata": {},
   "outputs": [
    {
     "name": "stdout",
     "output_type": "stream",
     "text": [
      "(y + 1)/(y*(x + 1))\n"
     ]
    }
   ],
   "source": [
    "expr5 = 1 / (y * x + y) + 1 / (1 + x)\n",
    "print(sympy.together(expr5))"
   ]
  },
  {
   "cell_type": "code",
   "execution_count": 17,
   "metadata": {},
   "outputs": [
    {
     "name": "stdout",
     "output_type": "stream",
     "text": [
      "1/(x + 1)\n"
     ]
    }
   ],
   "source": [
    "expr6 = y / (y * x + y)\n",
    "print(sympy.cancel(expr6, y))"
   ]
  },
  {
   "cell_type": "markdown",
   "metadata": {},
   "source": [
    "###                                               Substitutions\n",
    "In the most basic use of subs, the method is called in an expression, and the symbol or expression that is to be replaced (x) is given as the first argument, and the new symbol or the expression (y) is given as the second argument.\n"
   ]
  },
  {
   "cell_type": "code",
   "execution_count": 18,
   "metadata": {},
   "outputs": [
    {
     "data": {
      "text/latex": [
       "$\\displaystyle 2 y$"
      ],
      "text/plain": [
       "2*y"
      ]
     },
     "execution_count": 18,
     "metadata": {},
     "output_type": "execute_result"
    }
   ],
   "source": [
    "a = x + y\n",
    "a_sub = a.subs(x, y)\n",
    "a_sub"
   ]
  },
  {
   "cell_type": "code",
   "execution_count": 19,
   "metadata": {},
   "outputs": [
    {
     "data": {
      "text/latex": [
       "$\\displaystyle \\log{\\left(y^{2} e^{y} \\right)}$"
      ],
      "text/plain": [
       "log(y**2*exp(y))"
      ]
     },
     "execution_count": 19,
     "metadata": {},
     "output_type": "execute_result"
    }
   ],
   "source": [
    "# Instead of chaining multiple subs calls when multiple substitutions are required, we can alternatively pass a\n",
    "# dictionary as the first and only argument to subs that maps old symbols or expressions to new symbols or expressions:\n",
    "\n",
    "b = sympy.sin(x * z)\n",
    "b_sub = b.subs({x: y ** 2, z: sympy.exp(y), sympy.sin: sympy.log})\n",
    "b_sub"
   ]
  },
  {
   "cell_type": "code",
   "execution_count": 20,
   "metadata": {},
   "outputs": [
    {
     "data": {
      "text/latex": [
       "$\\displaystyle 13.3$"
      ],
      "text/plain": [
       "13.30"
      ]
     },
     "execution_count": 20,
     "metadata": {},
     "output_type": "execute_result"
    }
   ],
   "source": [
    "c = x * y + z ** 2 * x\n",
    "values = {x: 1.25, y: 0.4, z: 3.2}\n",
    "c_evalueted = c.subs(values).evalf(4)  # .evalf specifies the number of significant digits to which the expression is to be evaluated\n",
    "c_evalueted"
   ]
  },
  {
   "cell_type": "code",
   "execution_count": 21,
   "metadata": {},
   "outputs": [
    {
     "data": {
      "text/plain": [
       "array([ 0.        ,  0.77394269,  0.64198244,  0.72163867,  0.94361635,\n",
       "        0.20523391,  0.97398794,  0.97734066, -0.87034418, -0.69512687])"
      ]
     },
     "execution_count": 21,
     "metadata": {},
     "output_type": "execute_result"
    }
   ],
   "source": [
    "# Evaluating over a range of values\n",
    "d = sympy.sin(sympy.pi * x * sympy.exp(x))\n",
    "d_expre = sympy.lambdify(x, d, \"numpy\")\n",
    "\n",
    "vals = np.arange(0, 10)\n",
    "d_expre(vals)"
   ]
  }
 ],
 "metadata": {
  "kernelspec": {
   "display_name": "Python 3.9.12 ('base')",
   "language": "python",
   "name": "python3"
  },
  "language_info": {
   "codemirror_mode": {
    "name": "ipython",
    "version": 3
   },
   "file_extension": ".py",
   "mimetype": "text/x-python",
   "name": "python",
   "nbconvert_exporter": "python",
   "pygments_lexer": "ipython3",
   "version": "3.9.12"
  },
  "orig_nbformat": 4,
  "vscode": {
   "interpreter": {
    "hash": "20a9e06a1eee47c4abbed4ec8225ad91d78d9800d202b71b6b0a6e47016c6abd"
   }
  }
 },
 "nbformat": 4,
 "nbformat_minor": 2
}
