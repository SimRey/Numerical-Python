{
 "cells": [
  {
   "cell_type": "markdown",
   "metadata": {},
   "source": [
    "## <center> Equations </center>\n",
    "\n",
    "Equation solving is a fundamental part of mathematics with applications in nearly every branch of science and\n",
    "technology, and it is therefore immensely important. SymPy can solve a wide variety of equations symbolically,\n",
    "although many equations cannot be solved analytically even in principle. If an equation, or a system of equations,\n",
    "can be solved analytically, there is a good chance that SymPy is able to find the solution. If not, numerical methods\n",
    "might be the only option\n"
   ]
  },
  {
   "cell_type": "code",
   "execution_count": 1,
   "metadata": {},
   "outputs": [],
   "source": [
    "import sympy"
   ]
  },
  {
   "cell_type": "code",
   "execution_count": 2,
   "metadata": {},
   "outputs": [
    {
     "data": {
      "text/plain": [
       "[{x: -3}, {x: 1}]"
      ]
     },
     "execution_count": 2,
     "metadata": {},
     "output_type": "execute_result"
    }
   ],
   "source": [
    "x, y = sympy.symbols(\"x, y\")\n",
    "eqn = x ** 2 + 2 * x - 3\n",
    "roots = sympy.solve(eqn, dict=True)  # Specifying dict=True, displays the results as a dictionary\n",
    "roots"
   ]
  },
  {
   "cell_type": "code",
   "execution_count": 3,
   "metadata": {},
   "outputs": [
    {
     "data": {
      "text/plain": [
       "[-LambertW(1/2)]"
      ]
     },
     "execution_count": 3,
     "metadata": {},
     "output_type": "execute_result"
    }
   ],
   "source": [
    "# Direct solving\n",
    "sympy.solve(sympy.exp(x) + 2 * x, x)"
   ]
  },
  {
   "cell_type": "code",
   "execution_count": 4,
   "metadata": {},
   "outputs": [
    {
     "name": "stdout",
     "output_type": "stream",
     "text": [
      "[{x: -1/3, y: 2/3}]\n",
      "True\n"
     ]
    }
   ],
   "source": [
    "# System of equations\n",
    "eq1 = x + 2 * y - 1\n",
    "eq2 = x - y + 1\n",
    "\n",
    "sols = sympy.solve([eq1, eq2], [x, y], dict=True)\n",
    "print(sols)\n",
    "\n",
    "# Validation of the obtained results\n",
    "\n",
    "for sol in sols:\n",
    "    if eq1.subs(sol).simplify() == 0 and eq2.subs(sol).simplify() == 0:\n",
    "        print(True)\n",
    "    else:\n",
    "        print(False)"
   ]
  }
 ],
 "metadata": {
  "kernelspec": {
   "display_name": "Python 3.9.12 ('base')",
   "language": "python",
   "name": "python3"
  },
  "language_info": {
   "codemirror_mode": {
    "name": "ipython",
    "version": 3
   },
   "file_extension": ".py",
   "mimetype": "text/x-python",
   "name": "python",
   "nbconvert_exporter": "python",
   "pygments_lexer": "ipython3",
   "version": "3.9.12"
  },
  "orig_nbformat": 4,
  "vscode": {
   "interpreter": {
    "hash": "20a9e06a1eee47c4abbed4ec8225ad91d78d9800d202b71b6b0a6e47016c6abd"
   }
  }
 },
 "nbformat": 4,
 "nbformat_minor": 2
}
