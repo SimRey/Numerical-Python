{
 "cells": [
  {
   "attachments": {},
   "cell_type": "markdown",
   "metadata": {},
   "source": [
    "## <center> Equation solving <center>"
   ]
  },
  {
   "cell_type": "code",
   "execution_count": 1,
   "metadata": {},
   "outputs": [],
   "source": [
    "from gekko import GEKKO"
   ]
  },
  {
   "attachments": {},
   "cell_type": "markdown",
   "metadata": {},
   "source": [
    "### 1. Linear equations\n",
    "\n",
    "$$ 3x + 2y = 1$$\n",
    "$$ x + 2y = 0$$"
   ]
  },
  {
   "cell_type": "code",
   "execution_count": 2,
   "metadata": {},
   "outputs": [
    {
     "name": "stdout",
     "output_type": "stream",
     "text": [
      "[0.5] [-0.25]\n"
     ]
    }
   ],
   "source": [
    "m = GEKKO()            # create GEKKO model\n",
    "x = m.Var()            # define new variable, default=0\n",
    "y = m.Var()            # define new variable, default=0\n",
    "\n",
    "m.Equations(\n",
    "    [3*x+2*y==1, \n",
    "    x+2*y==0])  # equations\n",
    "\n",
    "m.solve(disp=False)    # solve\n",
    "print(x.value,y.value) # print solution"
   ]
  },
  {
   "attachments": {},
   "cell_type": "markdown",
   "metadata": {},
   "source": [
    "### 2. Non-linear equations\n",
    "\n",
    "$$ \\sqrt{x} + 2y = 0$$\n",
    "$$ x^2 + 2y^2 = 1$$"
   ]
  },
  {
   "cell_type": "code",
   "execution_count": 3,
   "metadata": {},
   "outputs": [
    {
     "name": "stdout",
     "output_type": "stream",
     "text": [
      "[0.7807764648, -0.44180779116]\n"
     ]
    }
   ],
   "source": [
    "m = GEKKO()             # create GEKKO model\n",
    "x = m.Var(value=0)      # define new variable, initial value=0\n",
    "y = m.Var(value=1)      # define new variable, initial value=1\n",
    "\n",
    "m.Equations(\n",
    "    [m.sqrt(x) + 2*y==0, \n",
    "    x**2 + 2*y**2==1]) # equations\n",
    "\n",
    "m.solve(disp=False)     # solve\n",
    "print([x.value[0],y.value[0]]) # print solution"
   ]
  }
 ],
 "metadata": {
  "kernelspec": {
   "display_name": "myenv",
   "language": "python",
   "name": "python3"
  },
  "language_info": {
   "codemirror_mode": {
    "name": "ipython",
    "version": 3
   },
   "file_extension": ".py",
   "mimetype": "text/x-python",
   "name": "python",
   "nbconvert_exporter": "python",
   "pygments_lexer": "ipython3",
   "version": "3.9.13"
  },
  "orig_nbformat": 4
 },
 "nbformat": 4,
 "nbformat_minor": 2
}
