{
 "cells": [
  {
   "cell_type": "markdown",
   "metadata": {},
   "source": [
    "### **Introduction**\n",
    "\n",
    "Let's start with a purely mathematical example:\n",
    "\n",
    "$$\n",
    "\\begin{alignat*}{3}\n",
    "\\text{max  }  & x + y && \\\\\n",
    "\\text{subject to  }\n",
    "& -x + 2y \\le 8\\\\\n",
    "& 2𝑥+𝑦 \\le 14\\\\\n",
    "& 2x - y \\le 10\\\\\n",
    "& x,y \\ge 0\\\\\n",
    "\\end{alignat*}\n",
    "$$"
   ]
  },
  {
   "cell_type": "code",
   "execution_count": 1,
   "metadata": {},
   "outputs": [],
   "source": [
    "import pyomo.environ as pe\n",
    "import pyomo.opt as po"
   ]
  },
  {
   "cell_type": "code",
   "execution_count": 2,
   "metadata": {},
   "outputs": [],
   "source": [
    "model = pe.ConcreteModel()"
   ]
  },
  {
   "cell_type": "code",
   "execution_count": 3,
   "metadata": {},
   "outputs": [
    {
     "name": "stdout",
     "output_type": "stream",
     "text": [
      "# ==========================================================\n",
      "# = Solver Results                                         =\n",
      "# ==========================================================\n",
      "# ----------------------------------------------------------\n",
      "#   Problem Information\n",
      "# ----------------------------------------------------------\n",
      "Problem: \n",
      "- Name: unknown\n",
      "  Lower bound: 10.0\n",
      "  Upper bound: 10.0\n",
      "  Number of objectives: 1\n",
      "  Number of constraints: 4\n",
      "  Number of variables: 3\n",
      "  Number of nonzeros: 7\n",
      "  Sense: maximize\n",
      "# ----------------------------------------------------------\n",
      "#   Solver Information\n",
      "# ----------------------------------------------------------\n",
      "Solver: \n",
      "- Status: ok\n",
      "  Termination condition: optimal\n",
      "  Statistics: \n",
      "    Branch and bound: \n",
      "      Number of bounded subproblems: 0\n",
      "      Number of created subproblems: 0\n",
      "  Error rc: 0\n",
      "  Time: 0.1288316249847412\n",
      "# ----------------------------------------------------------\n",
      "#   Solution Information\n",
      "# ----------------------------------------------------------\n",
      "Solution: \n",
      "- number of solutions: 0\n",
      "  number of solutions displayed: 0\n"
     ]
    }
   ],
   "source": [
    "# Variables\n",
    "model.x = pe.Var(bounds=(0,10), domain=pe.NonNegativeReals)\n",
    "model.y = pe.Var(bounds=(0,10), domain=pe.NonNegativeReals)\n",
    "\n",
    "x = model.x \n",
    "y = model.y \n",
    "\n",
    "# Constraints\n",
    "model.C1 = pe.Constraint(\n",
    "    expr= -x + 2*y <= 8\n",
    ")\n",
    "model.C2 = pe.Constraint(\n",
    "    expr= 2*x + y <= 14\n",
    ")\n",
    "model.C3 = pe.Constraint(\n",
    "    expr= 2*x - y <= 10\n",
    ")\n",
    "\n",
    "model.obj = pe.Objective(\n",
    "    expr= x + y, sense=pe.maximize\n",
    ")\n",
    "\n",
    "\n",
    "solver = po.SolverFactory('glpk').solve(model)\n",
    "solver.write()"
   ]
  },
  {
   "cell_type": "code",
   "execution_count": 4,
   "metadata": {},
   "outputs": [
    {
     "name": "stdout",
     "output_type": "stream",
     "text": [
      "x: 4.0\n",
      "y: 6.0\n",
      "Objective: 10.0\n"
     ]
    }
   ],
   "source": [
    "print(f\"x: {pe.value(x)}\")\n",
    "print(f\"y: {pe.value(y)}\")\n",
    "print(f\"Objective: {pe.value(model.obj)}\")"
   ]
  }
 ],
 "metadata": {
  "kernelspec": {
   "display_name": "myenv",
   "language": "python",
   "name": "python3"
  },
  "language_info": {
   "codemirror_mode": {
    "name": "ipython",
    "version": 3
   },
   "file_extension": ".py",
   "mimetype": "text/x-python",
   "name": "python",
   "nbconvert_exporter": "python",
   "pygments_lexer": "ipython3",
   "version": "3.9.13"
  },
  "orig_nbformat": 4
 },
 "nbformat": 4,
 "nbformat_minor": 2
}
