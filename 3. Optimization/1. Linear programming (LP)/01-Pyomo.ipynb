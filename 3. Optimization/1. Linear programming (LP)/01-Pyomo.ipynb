{
 "cells": [
  {
   "cell_type": "markdown",
   "metadata": {},
   "source": [
    "### **Introduction**\n",
    "\n",
    "Let's start with a purely mathematical example:\n",
    "\n",
    "$$ max\\ x+𝑦$$\n",
    "$ s.t.$\n",
    "$−𝑥+2𝑦≤8$\n",
    "\n",
    "$2𝑥+𝑦≤14$\n",
    "\n",
    "$2𝑥−𝑦≤10$\n",
    "\n",
    "$𝑥,𝑦≥0$"
   ]
  },
  {
   "cell_type": "code",
   "execution_count": 1,
   "metadata": {},
   "outputs": [],
   "source": [
    "import pyomo.environ as pe\n",
    "import pyomo.opt as po"
   ]
  },
  {
   "cell_type": "code",
   "execution_count": 2,
   "metadata": {},
   "outputs": [],
   "source": [
    "model = pe.ConcreteModel()"
   ]
  },
  {
   "cell_type": "code",
   "execution_count": 3,
   "metadata": {},
   "outputs": [],
   "source": [
    "# Variables\n",
    "model.x = pe.Var(bounds=(0,10))\n",
    "model.y = pe.Var(bounds=(0,10))\n",
    "\n",
    "x = model.x \n",
    "y = model.y \n",
    "\n",
    "# Constraints\n",
    "model.C1 = pe.Constraint(\n",
    "    expr= -x + 2*y <= 8\n",
    ")\n",
    "model.C2 = pe.Constraint(\n",
    "    expr= 2*x + y <= 14\n",
    ")\n",
    "model.C3 = pe.Constraint(\n",
    "    expr= 2*x - y <= 10\n",
    ")\n",
    "\n",
    "model.obj = pe.Objective(\n",
    "    expr= x + y, sense=pe.maximize\n",
    ")\n",
    "\n",
    "\n",
    "solver = po.SolverFactory('glpk')\n",
    "results = solver.solve(model)"
   ]
  },
  {
   "cell_type": "code",
   "execution_count": 4,
   "metadata": {},
   "outputs": [
    {
     "name": "stdout",
     "output_type": "stream",
     "text": [
      "2 Var Declarations\n",
      "    x : Size=1, Index=None\n",
      "        Key  : Lower : Value : Upper : Fixed : Stale : Domain\n",
      "        None :     0 :   4.0 :    10 : False : False :  Reals\n",
      "    y : Size=1, Index=None\n",
      "        Key  : Lower : Value : Upper : Fixed : Stale : Domain\n",
      "        None :     0 :   6.0 :    10 : False : False :  Reals\n",
      "\n",
      "1 Objective Declarations\n",
      "    obj : Size=1, Index=None, Active=True\n",
      "        Key  : Active : Sense    : Expression\n",
      "        None :   True : maximize : x + y\n",
      "\n",
      "3 Constraint Declarations\n",
      "    C1 : Size=1, Index=None, Active=True\n",
      "        Key  : Lower : Body      : Upper : Active\n",
      "        None :  -Inf : - x + 2*y :   8.0 :   True\n",
      "    C2 : Size=1, Index=None, Active=True\n",
      "        Key  : Lower : Body    : Upper : Active\n",
      "        None :  -Inf : 2*x + y :  14.0 :   True\n",
      "    C3 : Size=1, Index=None, Active=True\n",
      "        Key  : Lower : Body    : Upper : Active\n",
      "        None :  -Inf : 2*x - y :  10.0 :   True\n",
      "\n",
      "6 Declarations: x y C1 C2 C3 obj\n",
      "-------------------------------------------------------------------\n",
      "x: 4.0\n",
      "y: 6.0\n"
     ]
    }
   ],
   "source": [
    "model.pprint()\n",
    "print(\"-------------------------------------------------------------------\")\n",
    "print(f\"x: {pe.value(x)}\")\n",
    "print(f\"y: {pe.value(y)}\")"
   ]
  },
  {
   "cell_type": "markdown",
   "metadata": {},
   "source": [
    "#### **Another example**\n",
    "$$ max\\ -4x - 2y$$\n",
    "$ s.t.$\n",
    "$𝑥+y≤8$\n",
    "\n",
    "$8x + 3y >= -24$\n",
    "\n",
    "$-6x + 8y <= 48$\n",
    "\n",
    "$3𝑥+5𝑦≤15$\n",
    "\n",
    "$𝑥≤3$\n",
    "\n",
    "$y≥0$"
   ]
  },
  {
   "cell_type": "code",
   "execution_count": 5,
   "metadata": {},
   "outputs": [],
   "source": [
    "m = pe.ConcreteModel()"
   ]
  },
  {
   "cell_type": "code",
   "execution_count": 6,
   "metadata": {},
   "outputs": [
    {
     "name": "stdout",
     "output_type": "stream",
     "text": [
      "2 Var Declarations\n",
      "    x : Size=1, Index=None\n",
      "        Key  : Lower : Value : Upper : Fixed : Stale : Domain\n",
      "        None :  None :   3.0 :     3 : False : False :  Reals\n",
      "    y : Size=1, Index=None\n",
      "        Key  : Lower : Value : Upper : Fixed : Stale : Domain\n",
      "        None :     0 :   1.2 :  None : False : False :  Reals\n",
      "\n",
      "1 Objective Declarations\n",
      "    obj : Size=1, Index=None, Active=True\n",
      "        Key  : Active : Sense    : Expression\n",
      "        None :   True : minimize : -4*x - 2*y\n",
      "\n",
      "4 Constraint Declarations\n",
      "    C1 : Size=1, Index=None, Active=True\n",
      "        Key  : Lower : Body  : Upper : Active\n",
      "        None :  -Inf : x + y :   8.0 :   True\n",
      "    C2 : Size=1, Index=None, Active=True\n",
      "        Key  : Lower : Body      : Upper : Active\n",
      "        None : -24.0 : 8*x + 3*y :  +Inf :   True\n",
      "    C3 : Size=1, Index=None, Active=True\n",
      "        Key  : Lower : Body       : Upper : Active\n",
      "        None :  -Inf : -6*x + 8*y :  48.0 :   True\n",
      "    C4 : Size=1, Index=None, Active=True\n",
      "        Key  : Lower : Body      : Upper : Active\n",
      "        None :  -Inf : 3*x + 5*y :  15.0 :   True\n",
      "\n",
      "7 Declarations: x y C1 C2 C3 C4 obj\n",
      "-------------------------------------------------------------------\n",
      "x: 3.0\n",
      "y: 1.2\n"
     ]
    }
   ],
   "source": [
    "# Variables\n",
    "m.x = pe.Var(bounds=(None, 3))\n",
    "m.y = pe.Var(bounds=(0,None))\n",
    "\n",
    "x = m.x \n",
    "y = m.y \n",
    "\n",
    "# Constraints\n",
    "m.C1 = pe.Constraint(\n",
    "    expr= x + y <= 8\n",
    ")\n",
    "m.C2 = pe.Constraint(\n",
    "    expr= 8*x + 3*y >= -24\n",
    ")\n",
    "m.C3 = pe.Constraint(\n",
    "    expr= -6*x + 8*y <= 48\n",
    ")\n",
    "\n",
    "m.C4 = pe.Constraint(\n",
    "    expr= 3*x + 5*y <= 15\n",
    ")\n",
    "\n",
    "m.obj = pe.Objective(\n",
    "    expr= -4*x - 2*y, sense=pe.minimize)\n",
    "\n",
    "\n",
    "solver = po.SolverFactory('glpk')\n",
    "results = solver.solve(m)\n",
    "\n",
    "m.pprint()\n",
    "print(\"-------------------------------------------------------------------\")\n",
    "print(f\"x: {pe.value(x)}\")\n",
    "print(f\"y: {pe.value(y)}\")"
   ]
  }
 ],
 "metadata": {
  "kernelspec": {
   "display_name": "myenv",
   "language": "python",
   "name": "python3"
  },
  "language_info": {
   "codemirror_mode": {
    "name": "ipython",
    "version": 3
   },
   "file_extension": ".py",
   "mimetype": "text/x-python",
   "name": "python",
   "nbconvert_exporter": "python",
   "pygments_lexer": "ipython3",
   "version": "3.9.13"
  },
  "orig_nbformat": 4
 },
 "nbformat": 4,
 "nbformat_minor": 2
}
