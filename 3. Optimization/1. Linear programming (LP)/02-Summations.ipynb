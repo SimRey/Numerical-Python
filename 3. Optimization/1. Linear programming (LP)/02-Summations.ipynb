{
 "cells": [
  {
   "cell_type": "markdown",
   "metadata": {},
   "source": [
    "### **Summations in Pyomo**\n",
    "\n",
    "$$\n",
    "\\begin{alignat*}{3}\n",
    "\\text{minimize  }  & \\sum_{i \\in I} C(i)*P(i) && \\\\\n",
    "\\text{subject to  }\n",
    "& \\sum_{i \\in I} P(i) = \\sum_{s \\in S} P_d(s)\\\\\n",
    "& P_d(1) \\le P(1) + P(4)\\\\\n",
    "& 0 \\le P(i) \n",
    "&& \\qquad \\forall i \\in I \\\\\n",
    "& P(i) \\le P(i)^{lim}\n",
    "&& \\qquad \\forall i \\in I\n",
    "\\end{alignat*}\n",
    "$$"
   ]
  },
  {
   "cell_type": "code",
   "execution_count": 1,
   "metadata": {},
   "outputs": [],
   "source": [
    "import pyomo.environ as pe\n",
    "import pyomo.opt as po"
   ]
  },
  {
   "cell_type": "code",
   "execution_count": 2,
   "metadata": {},
   "outputs": [],
   "source": [
    "m = pe.ConcreteModel()"
   ]
  },
  {
   "cell_type": "code",
   "execution_count": 3,
   "metadata": {},
   "outputs": [],
   "source": [
    "# Sets\n",
    "m.I = pe.RangeSet(1, 5)\n",
    "m.S = pe.RangeSet(1, 3)\n",
    "\n",
    "_cost = {\n",
    "    1: 0.1,\n",
    "    2: 0.05,\n",
    "    3: 0.3,\n",
    "    4: 0.4,\n",
    "    5: 0.01\n",
    "}\n",
    "m.C = pe.Param(m.I, initialize=_cost)\n",
    "\n",
    "_powergen = {\n",
    "    1: 20,\n",
    "    2: 10,\n",
    "    3: 40,\n",
    "    4: 50,\n",
    "    5: 5\n",
    "}\n",
    "m.P_lim = pe.Param(m.I, initialize=_powergen)\n",
    "\n",
    "_demand = {\n",
    "    1: 50,\n",
    "    2: 20,\n",
    "    3: 30 \n",
    "}\n",
    "m.Pd = pe.Param(m.S, initialize=_demand)"
   ]
  },
  {
   "cell_type": "code",
   "execution_count": 4,
   "metadata": {},
   "outputs": [],
   "source": [
    "m.P = pe.Var(m.I, domain=pe.NonNegativeReals)"
   ]
  },
  {
   "cell_type": "code",
   "execution_count": 5,
   "metadata": {},
   "outputs": [],
   "source": [
    "# Constraints\n",
    "def _UP_lim(m, i):\n",
    "    return m.P[i] <= m.P_lim[i]\n",
    "m.UP_lim = pe.Constraint(m.I, rule=_UP_lim)\n",
    "\n",
    "m.sum_cons = pe.Constraint(expr=(\n",
    "    sum(m.Pd[s] for s in m.S) == sum(m.P[i] for i in m.I)\n",
    "))\n",
    "\n",
    "m.cons = pe.Constraint(expr=(\n",
    "    m.Pd[1] <= m.P[1] + m.P[4]\n",
    "))\n",
    "\n",
    "expr = sum(m.C[i] * m.P[i] for i in m.I)\n",
    "m.objective = pe.Objective(sense=pe.minimize, expr=expr)"
   ]
  },
  {
   "cell_type": "code",
   "execution_count": 6,
   "metadata": {},
   "outputs": [],
   "source": [
    "solver = po.SolverFactory('glpk')\n",
    "results = solver.solve(m)"
   ]
  },
  {
   "cell_type": "code",
   "execution_count": 7,
   "metadata": {},
   "outputs": [
    {
     "name": "stdout",
     "output_type": "stream",
     "text": [
      "P : Size=5, Index=I\n",
      "    Key : Lower : Value : Upper : Fixed : Stale : Domain\n",
      "      1 :     0 :  20.0 :  None : False : False : NonNegativeReals\n",
      "      2 :     0 :  10.0 :  None : False : False : NonNegativeReals\n",
      "      3 :     0 :  35.0 :  None : False : False : NonNegativeReals\n",
      "      4 :     0 :  30.0 :  None : False : False : NonNegativeReals\n",
      "      5 :     0 :   5.0 :  None : False : False : NonNegativeReals\n"
     ]
    }
   ],
   "source": [
    "m.P.display()"
   ]
  }
 ],
 "metadata": {
  "kernelspec": {
   "display_name": "myenv",
   "language": "python",
   "name": "python3"
  },
  "language_info": {
   "codemirror_mode": {
    "name": "ipython",
    "version": 3
   },
   "file_extension": ".py",
   "mimetype": "text/x-python",
   "name": "python",
   "nbconvert_exporter": "python",
   "pygments_lexer": "ipython3",
   "version": "3.9.13"
  },
  "orig_nbformat": 4
 },
 "nbformat": 4,
 "nbformat_minor": 2
}
