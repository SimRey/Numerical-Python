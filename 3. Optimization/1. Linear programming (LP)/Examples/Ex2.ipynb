{
 "cells": [
  {
   "attachments": {},
   "cell_type": "markdown",
   "metadata": {
    "colab_type": "text",
    "id": "jMxww7mcmaBK",
    "pycharm": {}
   },
   "source": [
    "### **Transportation Networks**"
   ]
  },
  {
   "cell_type": "code",
   "execution_count": 2,
   "metadata": {
    "colab": {},
    "colab_type": "code",
    "id": "WdqEo2IbmjQu",
    "pycharm": {}
   },
   "outputs": [],
   "source": [
    "from pyomo.environ import *"
   ]
  },
  {
   "attachments": {},
   "cell_type": "markdown",
   "metadata": {
    "pycharm": {
     "metadata": false,
     "name": "#%% md\n"
    }
   },
   "source": [
    "### Background\n",
    "\n",
    "The prototypical transportation problem deals with the distribution of a commodity from a set of sources to a set of destinations. The object is to minimize total transportation costs while satisfying constraints on the supplies available at each of the sources, and satisfying demand requirements at each of the destinations.\n",
    "\n",
    "Here we illustrate the transportation problem using an example from Chapter 5 of Johannes Bisschop, \"AIMMS Optimization Modeling\", Paragon Decision Sciences, 1999. In this example there are two factories and six customer sites located in 8 European cities as shown in the following map. The customer sites are labeled in red, the factories are labeled in blue."
   ]
  },
  {
   "cell_type": "markdown",
   "metadata": {
    "colab_type": "text",
    "id": "i2uB5hYLmaBN",
    "pycharm": {}
   },
   "source": [
    "![TransportationNetworksMap.png](https://github.com/jckantor/ND-Pyomo-Cookbook/blob/master/notebooks/figures/TransportationNetworksMap.png?raw=1)"
   ]
  },
  {
   "cell_type": "markdown",
   "metadata": {
    "colab_type": "text",
    "id": "P7FCxssgmaBP",
    "pycharm": {}
   },
   "source": [
    "Transportation costs between sources and destinations are given in units of &euro;/ton of goods shipped, and list in the following table along with source capacity and demand requirements.\n"
   ]
  },
  {
   "attachments": {},
   "cell_type": "markdown",
   "metadata": {
    "pycharm": {
     "metadata": false,
     "name": "#%% md\n"
    }
   },
   "source": [
    "#### Table of transportation costs, customer demand, and available supplies\n",
    "\n",
    "| Customer\\Source | Arnhem [&euro;/ton] | Gouda [&euro;/ton] | Demand [tons]|\n",
    "| :--: | :----: | :---: | :----: |\n",
    "| London | - | 2.5 | 125 |\n",
    "| Berlin | 2.5 | - | 175 |\n",
    "| Maastricht | 1.6 | 2.0 | 225 |\n",
    "| Amsterdam | 1.4 | 1.0 | 250 |\n",
    "| Utrecht | 0.8 | 1.0 | 225 |\n",
    "| The Hague | 1.4 | 0.8 | 200 |\n",
    "| **Supply [tons]** | 550 tons | 700 tons |  |\n",
    "\n",
    "The situation can be modeled by links connecting a set nodes representing sources to a set of nodes representing customers.\n",
    "\n",
    "![TransportNet.png](https://github.com/jckantor/ND-Pyomo-Cookbook/blob/master/notebooks/figures/TransportNet.png?raw=1)\n",
    "\n",
    "For each link we can have a parameter $T[c,s]$ denoting the cost of shipping a ton of goods over the link. What we need to determine is the amount of goods to be shipped over each link, which we will represent as a non-negative decision variable $x[c,s]$.\n",
    "\n",
    "The problem objective is to minimize the total shipping cost to all customers from all sources. \n",
    "\n",
    "$$minimize:\\quad Cost = \\sum_{c \\in Customers}\\sum_{s \\in Sources} T[c,s] x[c,s]$$\n",
    "\n",
    "Shipments from all sources can not exceed the manufacturing capacity of the source.\n",
    "\n",
    "$$\\sum_{c \\in Customers} x[c,s] \\leq Supply[s] \\qquad \\forall s \\in Sources$$\n",
    "\n",
    "Shipments to each customer must satisfy their demand.\n",
    "\n",
    "$$\\sum_{s\\in Sources} x[c,s] = Demand[c] \\qquad \\forall c \\in Customers$$"
   ]
  },
  {
   "cell_type": "code",
   "execution_count": 3,
   "metadata": {
    "colab": {},
    "colab_type": "code",
    "id": "PWTg-VkImaBR",
    "pycharm": {}
   },
   "outputs": [],
   "source": [
    "Demand = {\n",
    "   'Lon': 125,        # London\n",
    "   'Ber': 175,        # Berlin\n",
    "   'Maa': 225,        # Maastricht\n",
    "   'Ams': 250,        # Amsterdam\n",
    "   'Utr': 225,        # Utrecht\n",
    "   'Hag': 200         # The Hague\n",
    "}\n",
    "\n",
    "Supply = {\n",
    "   'Arn': 550,        # Arnhem\n",
    "   'Gou': 700         # Gouda\n",
    "}\n",
    "\n",
    "T = {\n",
    "    ('Lon', 'Arn'): 1000, # Big numbers to discourage choice\n",
    "    ('Lon', 'Gou'): 2.5,\n",
    "    ('Ber', 'Arn'): 2.5,\n",
    "    ('Ber', 'Gou'): 1000,\n",
    "    ('Maa', 'Arn'): 1.6,\n",
    "    ('Maa', 'Gou'): 2.0,\n",
    "    ('Ams', 'Arn'): 1.4,\n",
    "    ('Ams', 'Gou'): 1.0,\n",
    "    ('Utr', 'Arn'): 0.8,\n",
    "    ('Utr', 'Gou'): 1.0,\n",
    "    ('Hag', 'Arn'): 1.4,\n",
    "    ('Hag', 'Gou'): 0.8\n",
    "}"
   ]
  },
  {
   "cell_type": "code",
   "execution_count": 4,
   "metadata": {
    "colab": {
     "base_uri": "https://localhost:8080/",
     "height": 527
    },
    "colab_type": "code",
    "executionInfo": {
     "elapsed": 7319,
     "status": "ok",
     "timestamp": 1555699291817,
     "user": {
      "displayName": "Jeffrey Kantor",
      "photoUrl": "https://lh5.googleusercontent.com/-8zK5aAW5RMQ/AAAAAAAAAAI/AAAAAAAAKB0/kssUQyz8DTQ/s64/photo.jpg",
      "userId": "09038942003589296665"
     },
     "user_tz": 240
    },
    "id": "cVoqn1ozmaBX",
    "outputId": "2a0fc8aa-3d16-4128-a12c-95b4e8b6dd55",
    "pycharm": {}
   },
   "outputs": [
    {
     "name": "stdout",
     "output_type": "stream",
     "text": [
      "# ==========================================================\n",
      "# = Solver Results                                         =\n",
      "# ==========================================================\n",
      "# ----------------------------------------------------------\n",
      "#   Problem Information\n",
      "# ----------------------------------------------------------\n",
      "Problem: \n",
      "- Name: unknown\n",
      "  Lower bound: 1715.0\n",
      "  Upper bound: 1715.0\n",
      "  Number of objectives: 1\n",
      "  Number of constraints: 9\n",
      "  Number of variables: 13\n",
      "  Number of nonzeros: 25\n",
      "  Sense: minimize\n",
      "# ----------------------------------------------------------\n",
      "#   Solver Information\n",
      "# ----------------------------------------------------------\n",
      "Solver: \n",
      "- Status: ok\n",
      "  Termination condition: optimal\n",
      "  Statistics: \n",
      "    Branch and bound: \n",
      "      Number of bounded subproblems: 0\n",
      "      Number of created subproblems: 0\n",
      "  Error rc: 0\n",
      "  Time: 0.050310373306274414\n",
      "# ----------------------------------------------------------\n",
      "#   Solution Information\n",
      "# ----------------------------------------------------------\n",
      "Solution: \n",
      "- number of solutions: 0\n",
      "  number of solutions displayed: 0\n"
     ]
    }
   ],
   "source": [
    "# Step 0: Create an instance of the model\n",
    "model = ConcreteModel()\n",
    "\n",
    "# Step 1: Define index sets\n",
    "CUS = list(Demand.keys())\n",
    "SRC = list(Supply.keys())\n",
    "\n",
    "# Step 2: Define the decision \n",
    "model.x = Var(CUS, SRC, domain = NonNegativeReals)\n",
    "\n",
    "# Step 3: Define Objective\n",
    "@model.Objective(sense=minimize)\n",
    "def cost(m):\n",
    "    return sum([T[c,s]*model.x[c,s] for c in CUS for s in SRC])\n",
    "\n",
    "# Step 4: Constraints\n",
    "@model.Constraint(SRC)\n",
    "def src(m, s):\n",
    "    return sum([model.x[c,s] for c in CUS]) <= Supply[s]\n",
    "\n",
    "@model.Constraint(CUS)\n",
    "def dmd(m, c):\n",
    "    return sum([model.x[c,s] for s in SRC]) == Demand[c]\n",
    "    \n",
    "results = SolverFactory('glpk').solve(model)\n",
    "results.write()"
   ]
  },
  {
   "cell_type": "code",
   "execution_count": 5,
   "metadata": {},
   "outputs": [
    {
     "name": "stdout",
     "output_type": "stream",
     "text": [
      "x : Size=12, Index=x_index\n",
      "    Key            : Lower : Value : Upper : Fixed : Stale : Domain\n",
      "    ('Ams', 'Arn') :     0 :   0.0 :  None : False : False : NonNegativeReals\n",
      "    ('Ams', 'Gou') :     0 : 250.0 :  None : False : False : NonNegativeReals\n",
      "    ('Ber', 'Arn') :     0 : 175.0 :  None : False : False : NonNegativeReals\n",
      "    ('Ber', 'Gou') :     0 :   0.0 :  None : False : False : NonNegativeReals\n",
      "    ('Hag', 'Arn') :     0 :   0.0 :  None : False : False : NonNegativeReals\n",
      "    ('Hag', 'Gou') :     0 : 200.0 :  None : False : False : NonNegativeReals\n",
      "    ('Lon', 'Arn') :     0 :   0.0 :  None : False : False : NonNegativeReals\n",
      "    ('Lon', 'Gou') :     0 : 125.0 :  None : False : False : NonNegativeReals\n",
      "    ('Maa', 'Arn') :     0 : 225.0 :  None : False : False : NonNegativeReals\n",
      "    ('Maa', 'Gou') :     0 :   0.0 :  None : False : False : NonNegativeReals\n",
      "    ('Utr', 'Arn') :     0 : 150.0 :  None : False : False : NonNegativeReals\n",
      "    ('Utr', 'Gou') :     0 :  75.0 :  None : False : False : NonNegativeReals\n"
     ]
    }
   ],
   "source": [
    "model.x.display()"
   ]
  },
  {
   "cell_type": "code",
   "execution_count": 6,
   "metadata": {
    "colab": {
     "base_uri": "https://localhost:8080/",
     "height": 221
    },
    "colab_type": "code",
    "executionInfo": {
     "elapsed": 7308,
     "status": "ok",
     "timestamp": 1555699291818,
     "user": {
      "displayName": "Jeffrey Kantor",
      "photoUrl": "https://lh5.googleusercontent.com/-8zK5aAW5RMQ/AAAAAAAAAAI/AAAAAAAAKB0/kssUQyz8DTQ/s64/photo.jpg",
      "userId": "09038942003589296665"
     },
     "user_tz": 240
    },
    "id": "c9oQxQsxmaBe",
    "outputId": "be89d8bd-d1f7-40b8-be40-84d37e401dbf",
    "pycharm": {}
   },
   "outputs": [
    {
     "name": "stdout",
     "output_type": "stream",
     "text": [
      "Lon Arn 0.0\n",
      "Lon Gou 125.0\n",
      "Ber Arn 175.0\n",
      "Ber Gou 0.0\n",
      "Maa Arn 225.0\n",
      "Maa Gou 0.0\n",
      "Ams Arn 0.0\n",
      "Ams Gou 250.0\n",
      "Utr Arn 150.0\n",
      "Utr Gou 75.0\n",
      "Hag Arn 0.0\n",
      "Hag Gou 200.0\n"
     ]
    }
   ],
   "source": [
    "for c in CUS:\n",
    "    for s in SRC:\n",
    "        print(c, s, model.x[c,s]())"
   ]
  },
  {
   "cell_type": "code",
   "execution_count": 7,
   "metadata": {
    "colab": {
     "base_uri": "https://localhost:8080/",
     "height": 187
    },
    "colab_type": "code",
    "executionInfo": {
     "elapsed": 7289,
     "status": "ok",
     "timestamp": 1555699291819,
     "user": {
      "displayName": "Jeffrey Kantor",
      "photoUrl": "https://lh5.googleusercontent.com/-8zK5aAW5RMQ/AAAAAAAAAAI/AAAAAAAAKB0/kssUQyz8DTQ/s64/photo.jpg",
      "userId": "09038942003589296665"
     },
     "user_tz": 240
    },
    "id": "dfLXRj7umaBz",
    "outputId": "e40c0ffd-ce4b-43c0-f926-c211aa0b0245",
    "pycharm": {}
   },
   "outputs": [
    {
     "name": "stdout",
     "output_type": "stream",
     "text": [
      "Total Shipping Costs =  1715.0\n",
      "\n",
      "Shipping Table:\n",
      "Ship from  Arn  to  Ber : 175.0\n",
      "Ship from  Arn  to  Maa : 225.0\n",
      "Ship from  Arn  to  Utr : 150.0\n",
      "Ship from  Gou  to  Lon : 125.0\n",
      "Ship from  Gou  to  Ams : 250.0\n",
      "Ship from  Gou  to  Utr : 75.0\n",
      "Ship from  Gou  to  Hag : 200.0\n"
     ]
    }
   ],
   "source": [
    "if 'ok' == str(results.Solver.status):\n",
    "    print(\"Total Shipping Costs = \", model.cost())\n",
    "    print(\"\\nShipping Table:\")\n",
    "    for s in SRC:\n",
    "        for c in CUS:\n",
    "            if model.x[c,s]() > 0:\n",
    "                print(\"Ship from \", s,\" to \", c, \":\", model.x[c,s]())\n",
    "else:\n",
    "    print(\"No Valid Solution Found\")"
   ]
  }
 ],
 "metadata": {
  "colab": {
   "collapsed_sections": [],
   "name": "03.01-Transportation-Networks.ipynb",
   "provenance": [],
   "version": "0.3.2"
  },
  "kernelspec": {
   "display_name": "Python 3 (ipykernel)",
   "language": "python",
   "name": "python3"
  },
  "language_info": {
   "codemirror_mode": {
    "name": "ipython",
    "version": 3
   },
   "file_extension": ".py",
   "mimetype": "text/x-python",
   "name": "python",
   "nbconvert_exporter": "python",
   "pygments_lexer": "ipython3",
   "version": "3.9.13"
  }
 },
 "nbformat": 4,
 "nbformat_minor": 4
}
