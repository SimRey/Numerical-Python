{
 "cells": [
  {
   "cell_type": "markdown",
   "metadata": {},
   "source": [
    "### **Student Diet Example**\n",
    "You want to save money eating while remaining healthy. A healthy diet requires at least P=6 units of protein, C=15 units of carbohydrates, F=5 units of fats and V=7 units of vitamins. Due to compounding factors (blizzard during Lent), our campus only has these options:\n"
   ]
  },
  {
   "cell_type": "code",
   "execution_count": 5,
   "metadata": {},
   "outputs": [],
   "source": [
    "import pyomo.environ as pe\n",
    "import pyomo.opt as po\n",
    "import pandas as pd"
   ]
  },
  {
   "cell_type": "code",
   "execution_count": 6,
   "metadata": {},
   "outputs": [],
   "source": [
    "df = pd.read_csv(\"https://ndcbe.github.io/CBE60499/data/student_diet.csv\")\n",
    "df.head()\n",
    "m = pe.ConcreteModel()"
   ]
  },
  {
   "cell_type": "markdown",
   "metadata": {},
   "source": [
    "**Sets**"
   ]
  },
  {
   "cell_type": "code",
   "execution_count": 7,
   "metadata": {},
   "outputs": [
    {
     "name": "stdout",
     "output_type": "stream",
     "text": [
      "WARNING: Initializing ordered Set N with a fundamentally unordered data source\n",
      "    (type: set).  This WILL potentially lead to nondeterministic behavior in\n",
      "    Pyomo\n",
      "WARNING: Initializing ordered Set M with a fundamentally unordered data source\n",
      "    (type: set).  This WILL potentially lead to nondeterministic behavior in\n",
      "    Pyomo\n"
     ]
    }
   ],
   "source": [
    "nutrients = {'P', 'C', \"F\", \"V\"}\n",
    "modes = {\"takeaway\", \"vegtables\", \"bread\"}\n",
    "\n",
    "m.N = pe.Set(initialize=nutrients)\n",
    "m.M = pe.Set(initialize=modes)"
   ]
  },
  {
   "cell_type": "markdown",
   "metadata": {},
   "source": [
    "**Parameters**"
   ]
  },
  {
   "cell_type": "code",
   "execution_count": 8,
   "metadata": {},
   "outputs": [],
   "source": [
    "price = {\n",
    "    \"takeaway\": 5,\n",
    "    \"vegtables\": 1,\n",
    "    \"bread\": 2\n",
    "}\n",
    "\n",
    "m.price = pe.Param(m.M, initialize=price)\n",
    "\n",
    "vals = {\n",
    "    ('takeaway', 'P'): 3.0,\n",
    "    ('takeaway', 'C'): 3.0,\n",
    "    ('takeaway', 'F'): 2.0,\n",
    "    ('takeaway', 'V'): 1.0,\n",
    "    ('vegtables', 'P'): 1.0,\n",
    "    ('vegtables', 'C'): 2.0,\n",
    "    ('vegtables', 'F'): 0.0,\n",
    "    ('vegtables', 'V'): 4.0,\n",
    "    ('bread', 'P'): 0.5,\n",
    "    ('bread', 'C'): 4.0,\n",
    "    ('bread', 'F'): 1.0,\n",
    "    ('bread', 'V'): 0.0\n",
    " }\n",
    "\n",
    "m.vals = pe.Param(m.M, m.N, initialize=vals)\n",
    "\n",
    "nr = {\n",
    "    'P':6, \n",
    "    'C':15, \n",
    "    \"F\": 5, \n",
    "    \"V\": 7\n",
    "}\n",
    "\n",
    "m.nr = pe.Param(m.N, initialize=nr)"
   ]
  },
  {
   "cell_type": "markdown",
   "metadata": {},
   "source": [
    "**Variables**"
   ]
  },
  {
   "cell_type": "code",
   "execution_count": 9,
   "metadata": {},
   "outputs": [],
   "source": [
    "m.x = pe.Var(m.M, domain=pe.NonNegativeReals)"
   ]
  },
  {
   "cell_type": "markdown",
   "metadata": {},
   "source": [
    "**Constraints**"
   ]
  },
  {
   "cell_type": "code",
   "execution_count": 10,
   "metadata": {},
   "outputs": [],
   "source": [
    "def cons1(m, j):\n",
    "    return sum(m.x[i]*m.vals[i, j] for i in m.M) >= m.nr[j]\n",
    "m.cons = pe.Constraint(m.N, rule=cons1)\n"
   ]
  },
  {
   "cell_type": "markdown",
   "metadata": {},
   "source": [
    "**Objective**"
   ]
  },
  {
   "cell_type": "code",
   "execution_count": 11,
   "metadata": {},
   "outputs": [],
   "source": [
    "def objective(m):\n",
    "    a =  sum(m.x[i]*m.price[i] for i in m.M)\n",
    "    return a\n",
    "\n",
    "m.TotCost = pe.Objective(rule=objective, sense=pe.minimize)"
   ]
  },
  {
   "cell_type": "markdown",
   "metadata": {},
   "source": [
    "**Degree of Freedom Analysis**\n",
    "\n",
    "We will later learn more about how to factor inequality constraints into degree of freedom analysis. For now, please count the number of equality and inequality constraints separately.\n"
   ]
  },
  {
   "cell_type": "code",
   "execution_count": 12,
   "metadata": {},
   "outputs": [
    {
     "name": "stdout",
     "output_type": "stream",
     "text": [
      "x[bread] \t 3.0\n",
      "x[vegtables] \t 1.5\n",
      "x[takeaway] \t 1.0\n"
     ]
    }
   ],
   "source": [
    "# Specify the solver\n",
    "solver = po.SolverFactory('glpk')\n",
    "\n",
    "# Solve\n",
    "results = solver.solve(m)\n",
    "for c in m.component_data_objects(pe.Var):\n",
    "    print(c.name,\"\\t\", pe.value(c))"
   ]
  },
  {
   "cell_type": "markdown",
   "metadata": {},
   "source": [
    "**Take Away Messages**\n",
    "\n",
    "Linear programs are convex. We will learn this means all local optima are global optima.\n",
    "Nonlinear programs may be nonconvex. For nonconvex problems, there often existings many local optima that are not also global optima."
   ]
  }
 ],
 "metadata": {
  "kernelspec": {
   "display_name": "myenv",
   "language": "python",
   "name": "python3"
  },
  "language_info": {
   "codemirror_mode": {
    "name": "ipython",
    "version": 3
   },
   "file_extension": ".py",
   "mimetype": "text/x-python",
   "name": "python",
   "nbconvert_exporter": "python",
   "pygments_lexer": "ipython3",
   "version": "3.9.13"
  },
  "orig_nbformat": 4
 },
 "nbformat": 4,
 "nbformat_minor": 2
}
