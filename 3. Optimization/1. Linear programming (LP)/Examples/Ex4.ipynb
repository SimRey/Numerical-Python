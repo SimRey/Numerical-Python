{
 "cells": [
  {
   "cell_type": "markdown",
   "metadata": {},
   "source": [
    "### Machine example\n",
    "\n",
    "Suppose you have 4 machines on your computer’s factory. You have to define the number of computers that each machine must produce during the next 10 hours in order to maximize the total production. The objective function of our problem is given by:\n",
    "$$ max  \\sum_{m \\in M}\\sum_{t \\in T}x_{m,t}$$\n",
    "\n",
    "where $𝑥_{𝑚,𝑡}$ represents the number of computers produced by a machine $m$ at hour $t$ Some machines have dependencies on others and the constraints are (for each $𝑡$)\n",
    "$$2x_{2,t} - 8x_{3,t} \\leq 0 \\quad (1)$$\n",
    "$$ x_{2,t} - 2x_{3,t-2} + x_{4,t} \\ge 1\\quad (2)$$\n",
    "\n",
    "And the capacity production is given by (for all $t$):\n",
    "$$ \\sum_{m \\in M}x_{m,t}\\le 50 \\qquad \\forall t \\in T \\quad (3)$$\n",
    "$$ 𝑥_{1,𝑡}+𝑥_{2,𝑡−1}+𝑥_{3,𝑡}+𝑥_{4,𝑡} \\le 10 \\quad (4)$$\n",
    "$$ 0 \\le x_{m,t} \\le 10\\quad (5)$$\n",
    "\n",
    "Solve the problem and find the optimal production of computers for each machine for each hour of the next 10 hours\n",
    "Note the $𝑥_{2,𝑡−1}$, in the last constraint, represents the second machine at hour $t-1$\n",
    "\n",
    "Obs: Constraints (2) and (4) does not exist for t<3 and t<2, respectively\n"
   ]
  },
  {
   "cell_type": "code",
   "execution_count": 1,
   "metadata": {},
   "outputs": [],
   "source": [
    "import pyomo.environ as pe\n",
    "import pyomo.opt as po"
   ]
  },
  {
   "cell_type": "code",
   "execution_count": 2,
   "metadata": {},
   "outputs": [],
   "source": [
    "m = pe.ConcreteModel()"
   ]
  },
  {
   "cell_type": "code",
   "execution_count": 3,
   "metadata": {},
   "outputs": [],
   "source": [
    "# Sets\n",
    "m.M = pe.RangeSet(1, 4)\n",
    "m.T = pe.RangeSet(1, 10)\n",
    "\n",
    "m.x = pe.Var(m.M, m.T, domain=pe.NonNegativeReals, bounds=(0,10))\n",
    "\n",
    "# Constraints\n",
    "def _cons1(m, t):\n",
    "    return 2*m.x[2,t] - 8*m.x[3,t] <= 0\n",
    "m.cons1 = pe.Constraint(m.T, rule=_cons1)\n",
    "\n",
    "def _cons2(m, t):\n",
    "    if t == 1 or t == 2:\n",
    "        return pe.Constraint.Skip\n",
    "    return m.x[2,t] - 2*m.x[3,t-2] + m.x[4,t] >= 1\n",
    "m.cons2 = pe.Constraint(m.T, rule=_cons2)\n",
    "\n",
    "def _cons3(m, t):\n",
    "    return sum(m.x[i,t] for i in m.M) <= 50\n",
    "m.cons3 = pe.Constraint(m.T, rule=_cons3)\n",
    "\n",
    "def _cons4(m, t):\n",
    "    if t == 1:\n",
    "        return pe.Constraint.Skip\n",
    "    return m.x[1,t] + m.x[2,t-1] + m.x[3,t] + m.x[4,t] <= 10\n",
    "m.cons4 = pe.Constraint(m.T, rule=_cons4)\n",
    "\n",
    "\n",
    "m.objective = pe.Objective(expr=pe.summation(m.x), sense=pe.maximize)"
   ]
  },
  {
   "cell_type": "code",
   "execution_count": 4,
   "metadata": {},
   "outputs": [
    {
     "name": "stdout",
     "output_type": "stream",
     "text": [
      "GLPSOL: GLPK LP/MIP Solver, v4.65\n",
      "Parameter(s) specified in the command line:\n",
      " --mipgap 0.01 --tmlim 50 --write C:\\Users\\Lenovo\\AppData\\Local\\Temp\\tmpf9uoaue_.glpk.raw\n",
      " --wglp C:\\Users\\Lenovo\\AppData\\Local\\Temp\\tmp8egjnn8z.glpk.glp --cpxlp C:\\Users\\Lenovo\\AppData\\Local\\Temp\\tmp2dfgjd4x.pyomo.lp\n",
      "Reading problem data from 'C:\\Users\\Lenovo\\AppData\\Local\\Temp\\tmp2dfgjd4x.pyomo.lp'...\n",
      "38 rows, 41 columns, 121 non-zeros\n",
      "323 lines were read\n",
      "Writing problem data to 'C:\\Users\\Lenovo\\AppData\\Local\\Temp\\tmp8egjnn8z.glpk.glp'...\n",
      "321 lines were written\n",
      "GLPK Simplex Optimizer, v4.65\n",
      "38 rows, 41 columns, 121 non-zeros\n",
      "Preprocessing...\n",
      "27 rows, 38 columns, 80 non-zeros\n",
      "Scaling...\n",
      " A: min|aij| =  1.000e+00  max|aij| =  8.000e+00  ratio =  8.000e+00\n",
      "Problem data seem to be well scaled\n",
      "Constructing initial basis...\n",
      "Size of triangular part is 27\n",
      "      0: obj =   2.000000000e+01 inf =   8.000e+00 (8)\n",
      "     16: obj =   2.800000000e+01 inf =   0.000e+00 (0)\n",
      "*    32: obj =   1.281562500e+02 inf =   0.000e+00 (0)\n",
      "OPTIMAL LP SOLUTION FOUND\n",
      "Time used:   0.0 secs\n",
      "Memory used: 0.1 Mb (78793 bytes)\n",
      "Writing basic solution to 'C:\\Users\\Lenovo\\AppData\\Local\\Temp\\tmpf9uoaue_.glpk.raw'...\n",
      "88 lines were written\n"
     ]
    }
   ],
   "source": [
    "solver = po.SolverFactory('glpk')\n",
    "\n",
    "# Gap limit\n",
    "mip_gap = 0.01 # Set your desired MIP gap here (e.g., 1%)\n",
    "solver.options['mipgap'] = mip_gap\n",
    "\n",
    "# Time limit\n",
    "time_limit = 50  # Set your desired time limit in seconds\n",
    "solver.options['tmlim'] = time_limit\n",
    "\n",
    "\n",
    "results = solver.solve(m, tee=True)"
   ]
  },
  {
   "cell_type": "code",
   "execution_count": 5,
   "metadata": {},
   "outputs": [
    {
     "name": "stdout",
     "output_type": "stream",
     "text": [
      "128.15625\n"
     ]
    }
   ],
   "source": [
    "print(pe.value(m.objective))"
   ]
  },
  {
   "cell_type": "code",
   "execution_count": 6,
   "metadata": {},
   "outputs": [
    {
     "name": "stdout",
     "output_type": "stream",
     "text": [
      "x(1, 1): 10.0\n",
      "x(1, 5): 7.53125\n",
      "x(1, 10): 7.5\n",
      "x(2, 1): 10.0\n",
      "x(2, 3): 9.75\n",
      "x(2, 4): 1.0\n",
      "x(2, 5): 5.875\n",
      "x(2, 6): 7.85\n",
      "x(2, 7): 8.6\n",
      "x(2, 8): 4.7\n",
      "x(2, 10): 10.0\n",
      "x(3, 1): 8.15625\n",
      "x(3, 3): 2.4375\n",
      "x(3, 4): 0.25\n",
      "x(3, 5): 1.46875\n",
      "x(3, 6): 1.9625\n",
      "x(3, 7): 2.15\n",
      "x(3, 8): 1.175\n",
      "x(3, 10): 2.5\n",
      "x(4, 1): 10.0\n",
      "x(4, 3): 7.5625\n",
      "x(4, 6): 2.1625\n",
      "x(4, 8): 0.224999999999999\n",
      "x(4, 9): 5.3\n"
     ]
    }
   ],
   "source": [
    "for i in m.M:\n",
    "    for t in m.T:\n",
    "        if pe.value(m.x[i,t]) != 0:\n",
    "            print(f\"x({i}, {t}): {pe.value(m.x[i,t])}\")"
   ]
  }
 ],
 "metadata": {
  "kernelspec": {
   "display_name": "myenv",
   "language": "python",
   "name": "python3"
  },
  "language_info": {
   "codemirror_mode": {
    "name": "ipython",
    "version": 3
   },
   "file_extension": ".py",
   "mimetype": "text/x-python",
   "name": "python",
   "nbconvert_exporter": "python",
   "pygments_lexer": "ipython3",
   "version": "3.9.13"
  },
  "orig_nbformat": 4
 },
 "nbformat": 4,
 "nbformat_minor": 2
}
