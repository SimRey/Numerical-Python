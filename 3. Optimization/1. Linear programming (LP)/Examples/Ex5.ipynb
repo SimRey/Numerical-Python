{
 "cells": [
  {
   "cell_type": "markdown",
   "metadata": {},
   "source": [
    "### More routing examples"
   ]
  },
  {
   "cell_type": "markdown",
   "metadata": {},
   "source": [
    "$$\n",
    "\\begin{alignat*}{3}\n",
    "\\text{min  }  & \\sum_{(i, j)} x_{i,j}D_{i,j} && \\\\\n",
    "\\text{subject to  }\n",
    "& \\sum_{j \\in \\Omega_{origin}^{out}} x_{origin, j} = 1\\\\\n",
    "& \\sum_{i \\in \\Omega_{dest}^{in}} x_{i, dest} = 1\\\\\n",
    "& \\sum_{j \\in \\Omega_{i}^{out}} x_{i, j} = \\sum_{j \\in \\Omega_{i}^{in}} x_{j, i} \n",
    "&& \\qquad \\forall i \\not {{origin, dest}}\\\\\n",
    "\\end{alignat*}\n",
    "$$\n"
   ]
  },
  {
   "cell_type": "code",
   "execution_count": 1,
   "metadata": {},
   "outputs": [],
   "source": [
    "import pyomo.environ as pe\n",
    "import pyomo.opt as po\n",
    "import pandas as pd"
   ]
  },
  {
   "cell_type": "code",
   "execution_count": 2,
   "metadata": {},
   "outputs": [],
   "source": [
    "nodes_df = pd.read_excel(\"data.xlsx\", sheet_name=\"nodes\")\n",
    "paths_df = pd.read_excel(\"data.xlsx\", sheet_name=\"paths\")\n",
    "paths_df.index = range(1, paths_df.shape[0]+1)"
   ]
  },
  {
   "cell_type": "code",
   "execution_count": 3,
   "metadata": {},
   "outputs": [],
   "source": [
    "m = pe.ConcreteModel()\n",
    "m.I = pe.RangeSet(1, paths_df.shape[0])\n",
    "m.x = pe.Var(m.I, domain=pe.Binary)"
   ]
  },
  {
   "cell_type": "code",
   "execution_count": 4,
   "metadata": {},
   "outputs": [],
   "source": [
    "origin_node = nodes_df.node[nodes_df.desc == \"origin\"].item()\n",
    "end_node = nodes_df.node[nodes_df.desc == \"end\"].item()"
   ]
  },
  {
   "cell_type": "code",
   "execution_count": 5,
   "metadata": {},
   "outputs": [],
   "source": [
    "# Constraints\n",
    "\n",
    "m.cons = pe.ConstraintList()\n",
    "for node in nodes_df.node:\n",
    "    in_index = paths_df[paths_df['f'] == node].index\n",
    "    out_index = paths_df[paths_df['t'] == node].index\n",
    "\n",
    "    if node  == origin_node:\n",
    "        m.cons.add(sum(m.x[i] for i in in_index) == 1)\n",
    "    elif node  == end_node:\n",
    "        m.cons.add(sum(m.x[i] for i in out_index) == 1)\n",
    "    else:\n",
    "        m.cons.add(sum(m.x[i] for i in in_index) == sum(m.x[j] for j in out_index))\n",
    "        \n",
    "        \n",
    "# Objective\n",
    "m.obj = pe.Objective(\n",
    "    expr=(sum(m.x[i]*paths_df.loc[i, \"dis\"] for i in m.I)),\n",
    "    sense=pe.minimize\n",
    ")"
   ]
  },
  {
   "cell_type": "code",
   "execution_count": 6,
   "metadata": {},
   "outputs": [
    {
     "name": "stdout",
     "output_type": "stream",
     "text": [
      "20.0\n"
     ]
    },
    {
     "name": "stderr",
     "output_type": "stream",
     "text": [
      "C:\\Users\\Lenovo\\AppData\\Local\\Temp\\ipykernel_16156\\353106947.py:6: SettingWithCopyWarning: \n",
      "A value is trying to be set on a copy of a slice from a DataFrame\n",
      "\n",
      "See the caveats in the documentation: https://pandas.pydata.org/pandas-docs/stable/user_guide/indexing.html#returning-a-view-versus-a-copy\n",
      "  paths_df.activated[i] = pe.value(m.x[i])\n"
     ]
    }
   ],
   "source": [
    "solver = po.SolverFactory('glpk')\n",
    "results = solver.solve(m)\n",
    "\n",
    "paths_df['activated'] = 0\n",
    "for i in m.I:\n",
    "    paths_df.activated[i] = pe.value(m.x[i])\n",
    "print(pe.value(m.obj))\n"
   ]
  },
  {
   "cell_type": "code",
   "execution_count": 7,
   "metadata": {},
   "outputs": [
    {
     "data": {
      "text/html": [
       "<div>\n",
       "<style scoped>\n",
       "    .dataframe tbody tr th:only-of-type {\n",
       "        vertical-align: middle;\n",
       "    }\n",
       "\n",
       "    .dataframe tbody tr th {\n",
       "        vertical-align: top;\n",
       "    }\n",
       "\n",
       "    .dataframe thead th {\n",
       "        text-align: right;\n",
       "    }\n",
       "</style>\n",
       "<table border=\"1\" class=\"dataframe\">\n",
       "  <thead>\n",
       "    <tr style=\"text-align: right;\">\n",
       "      <th></th>\n",
       "      <th>f</th>\n",
       "      <th>t</th>\n",
       "      <th>dis</th>\n",
       "      <th>activated</th>\n",
       "    </tr>\n",
       "  </thead>\n",
       "  <tbody>\n",
       "    <tr>\n",
       "      <th>1</th>\n",
       "      <td>A</td>\n",
       "      <td>P1</td>\n",
       "      <td>2</td>\n",
       "      <td>0</td>\n",
       "    </tr>\n",
       "    <tr>\n",
       "      <th>2</th>\n",
       "      <td>A</td>\n",
       "      <td>P2</td>\n",
       "      <td>7</td>\n",
       "      <td>1</td>\n",
       "    </tr>\n",
       "    <tr>\n",
       "      <th>3</th>\n",
       "      <td>P1</td>\n",
       "      <td>P2</td>\n",
       "      <td>10</td>\n",
       "      <td>0</td>\n",
       "    </tr>\n",
       "    <tr>\n",
       "      <th>4</th>\n",
       "      <td>P2</td>\n",
       "      <td>P1</td>\n",
       "      <td>10</td>\n",
       "      <td>0</td>\n",
       "    </tr>\n",
       "    <tr>\n",
       "      <th>5</th>\n",
       "      <td>P1</td>\n",
       "      <td>B</td>\n",
       "      <td>30</td>\n",
       "      <td>0</td>\n",
       "    </tr>\n",
       "    <tr>\n",
       "      <th>6</th>\n",
       "      <td>P2</td>\n",
       "      <td>P3</td>\n",
       "      <td>8</td>\n",
       "      <td>1</td>\n",
       "    </tr>\n",
       "    <tr>\n",
       "      <th>7</th>\n",
       "      <td>P3</td>\n",
       "      <td>B</td>\n",
       "      <td>5</td>\n",
       "      <td>1</td>\n",
       "    </tr>\n",
       "  </tbody>\n",
       "</table>\n",
       "</div>"
      ],
      "text/plain": [
       "    f   t  dis  activated\n",
       "1   A  P1    2          0\n",
       "2   A  P2    7          1\n",
       "3  P1  P2   10          0\n",
       "4  P2  P1   10          0\n",
       "5  P1   B   30          0\n",
       "6  P2  P3    8          1\n",
       "7  P3   B    5          1"
      ]
     },
     "execution_count": 7,
     "metadata": {},
     "output_type": "execute_result"
    }
   ],
   "source": [
    "paths_df"
   ]
  }
 ],
 "metadata": {
  "kernelspec": {
   "display_name": "myenv",
   "language": "python",
   "name": "python3"
  },
  "language_info": {
   "codemirror_mode": {
    "name": "ipython",
    "version": 3
   },
   "file_extension": ".py",
   "mimetype": "text/x-python",
   "name": "python",
   "nbconvert_exporter": "python",
   "pygments_lexer": "ipython3",
   "version": "3.9.13"
  },
  "orig_nbformat": 4
 },
 "nbformat": 4,
 "nbformat_minor": 2
}
