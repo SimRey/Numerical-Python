{
 "cells": [
  {
   "attachments": {},
   "cell_type": "markdown",
   "metadata": {},
   "source": [
    "### **Integer programming**\n",
    "\n",
    "Consider the following integer program:\n",
    "\n",
    "$$\\begin{align}\\min_{x_1,x_2} \\quad & x_2 \\\\\n",
    "\\mathrm{s.t.} \\quad & 2 x_1 + x_2 \\geq 13 \\\\\n",
    "& 5 x_1 + 2 x_2 \\leq 30 \\\\\n",
    "& -x_1 + x_2 \\geq 5 \\\\\n",
    "& x_1, x_2 \\in \\mathcal{Z} := \\{0,1,2,...\\}\n",
    "\\end{align}$$"
   ]
  },
  {
   "cell_type": "code",
   "execution_count": 1,
   "metadata": {},
   "outputs": [],
   "source": [
    "import pyomo.environ as pe\n",
    "import pyomo.opt as po"
   ]
  },
  {
   "cell_type": "code",
   "execution_count": 2,
   "metadata": {},
   "outputs": [],
   "source": [
    "m = pe.ConcreteModel()\n",
    "solver = po.SolverFactory(\"glpk\")"
   ]
  },
  {
   "cell_type": "code",
   "execution_count": 3,
   "metadata": {},
   "outputs": [
    {
     "name": "stdout",
     "output_type": "stream",
     "text": [
      "2 Var Declarations\n",
      "    x1 : Size=1, Index=None\n",
      "        Key  : Lower : Value : Upper : Fixed : Stale : Domain\n",
      "        None :     1 :  None :  None : False :  True : PositiveIntegers\n",
      "    x2 : Size=1, Index=None\n",
      "        Key  : Lower : Value : Upper : Fixed : Stale : Domain\n",
      "        None :     1 :  None :  None : False :  True : PositiveIntegers\n",
      "\n",
      "1 Objective Declarations\n",
      "    obj : Size=1, Index=None, Active=True\n",
      "        Key  : Active : Sense    : Expression\n",
      "        None :   True : minimize :         x2\n",
      "\n",
      "3 Constraint Declarations\n",
      "    con1 : Size=1, Index=None, Active=True\n",
      "        Key  : Lower : Body      : Upper : Active\n",
      "        None :  13.0 : 2*x1 + x2 :  +Inf :   True\n",
      "    con2 : Size=1, Index=None, Active=True\n",
      "        Key  : Lower : Body        : Upper : Active\n",
      "        None :  -Inf : 5*x1 + 2*x2 :  30.0 :   True\n",
      "    con3 : Size=1, Index=None, Active=True\n",
      "        Key  : Lower : Body      : Upper : Active\n",
      "        None :   5.0 : - x1 + x2 :  +Inf :   True\n",
      "\n",
      "6 Declarations: x1 x2 con1 con2 con3 obj\n"
     ]
    }
   ],
   "source": [
    "m.x1 = pe.Var(domain=pe.PositiveIntegers)\n",
    "m.x2 = pe.Var(domain=pe.PositiveIntegers)\n",
    "\n",
    "# Constraint 1\n",
    "m.con1 = pe.Constraint(expr=2*m.x1 + m.x2 >= 13)\n",
    "\n",
    "# Constraint 2\n",
    "m.con2 = pe.Constraint(expr=5*m.x1 + 2*m.x2 <= 30)\n",
    "\n",
    "# Constraint 3\n",
    "m.con3 = pe.Constraint(expr=-m.x1 + m.x2 >= 5)\n",
    "\n",
    "# Objective\n",
    "m.obj = pe.Objective(expr=m.x2)\n",
    "\n",
    "m.pprint()"
   ]
  },
  {
   "cell_type": "code",
   "execution_count": 4,
   "metadata": {},
   "outputs": [
    {
     "name": "stdout",
     "output_type": "stream",
     "text": [
      "GLPSOL: GLPK LP/MIP Solver, v4.65\n",
      "Parameter(s) specified in the command line:\n",
      " --write C:\\Users\\Lenovo\\AppData\\Local\\Temp\\tmp9pwvarip.glpk.raw --wglp C:\\Users\\Lenovo\\AppData\\Local\\Temp\\tmpfj0obp9x.glpk.glp\n",
      " --cpxlp C:\\Users\\Lenovo\\AppData\\Local\\Temp\\tmp93tkyr2n.pyomo.lp\n",
      "Reading problem data from 'C:\\Users\\Lenovo\\AppData\\Local\\Temp\\tmp93tkyr2n.pyomo.lp'...\n",
      "4 rows, 3 columns, 7 non-zeros\n",
      "2 integer variables, none of which are binary\n",
      "33 lines were read\n",
      "Writing problem data to 'C:\\Users\\Lenovo\\AppData\\Local\\Temp\\tmpfj0obp9x.glpk.glp'...\n",
      "25 lines were written\n",
      "GLPK Integer Optimizer, v4.65\n",
      "4 rows, 3 columns, 7 non-zeros\n",
      "2 integer variables, none of which are binary\n",
      "Preprocessing...\n",
      "3 rows, 2 columns, 6 non-zeros\n",
      "2 integer variables, none of which are binary\n",
      "Scaling...\n",
      " A: min|aij| =  1.000e+00  max|aij| =  5.000e+00  ratio =  5.000e+00\n",
      "Problem data seem to be well scaled\n",
      "Constructing initial basis...\n",
      "Size of triangular part is 3\n",
      "Solving LP relaxation...\n",
      "GLPK Simplex Optimizer, v4.65\n",
      "3 rows, 2 columns, 6 non-zeros\n",
      "      0: obj =   7.000000000e+00 inf =   4.000e+00 (1)\n",
      "      2: obj =   7.666666667e+00 inf =   0.000e+00 (0)\n",
      "OPTIMAL LP SOLUTION FOUND\n",
      "Integer optimization begins...\n",
      "Long-step dual simplex will be used\n",
      "+     2: mip =     not found yet >=              -inf        (1; 0)\n",
      "+     3: >>>>>   9.000000000e+00 >=   9.000000000e+00   0.0% (1; 0)\n",
      "+     3: mip =   9.000000000e+00 >=     tree is empty   0.0% (0; 1)\n",
      "INTEGER OPTIMAL SOLUTION FOUND\n",
      "Time used:   0.0 secs\n",
      "Memory used: 0.1 Mb (60612 bytes)\n",
      "Writing MIP solution to 'C:\\Users\\Lenovo\\AppData\\Local\\Temp\\tmp9pwvarip.glpk.raw'...\n",
      "16 lines were written\n",
      "x1 =  2.0\n",
      "x2 =  9.0\n"
     ]
    }
   ],
   "source": [
    "solver.solve(m,tee=True)\n",
    "\n",
    "# Print solution\n",
    "print(\"x1 = \",m.x1())\n",
    "print(\"x2 = \",m.x2())"
   ]
  },
  {
   "attachments": {},
   "cell_type": "markdown",
   "metadata": {},
   "source": [
    "#### Knapsack optimization  --> Binary variables\n",
    "\n",
    "$$\\begin{align}\\max_{x_i} \\quad &  \\sum^{i=1}_{n} v_ix_i \\\\\n",
    "\\mathrm{s.t.} \\quad & \\sum^{i=1}_{n} w_ix_i \\leq W \\\\\n",
    "& x_i \\in \\{0,1\\}\n",
    "\\end{align}$$"
   ]
  },
  {
   "cell_type": "code",
   "execution_count": 5,
   "metadata": {},
   "outputs": [
    {
     "name": "stdout",
     "output_type": "stream",
     "text": [
      "1.0\n",
      "1.0\n",
      "0.0\n",
      "1.0\n"
     ]
    }
   ],
   "source": [
    "ks = pe.ConcreteModel()\n",
    "solver = po.SolverFactory(\"glpk\")\n",
    "\n",
    "ks.I = pe.RangeSet(4)\n",
    "ks.x = pe.Var(ks.I, domain=pe.Binary)\n",
    "\n",
    "v = {\n",
    "    1: 11,\n",
    "    2: 8,\n",
    "    3: 3,\n",
    "    4: 6}\n",
    "w = {\n",
    "    1: 3,\n",
    "    2: 5,\n",
    "    3: 7,\n",
    "    4: 4}\n",
    "\n",
    "ks.v = pe.Param(ks.I, initialize=v)\n",
    "ks.w = pe.Param(ks.I, initialize=w)\n",
    "ks.W = pe.Param(initialize=14.0)\n",
    "\n",
    "# Constraint \n",
    "ks.con1 = pe.Constraint(expr=(\n",
    "    sum(ks.x[i]*ks.w[i] for i in ks.I) <= ks.W\n",
    "))\n",
    "\n",
    "# Objective\n",
    "ks.obj = pe.Objective(\n",
    "    expr=sum(ks.x[i]*ks.v[i] for i in ks.I),\n",
    "    sense=pe.maximize)\n",
    "\n",
    "solver.solve(ks)\n",
    "\n",
    "for i in ks.I:\n",
    "    print(pe.value(ks.x[i]))"
   ]
  }
 ],
 "metadata": {
  "interpreter": {
   "hash": "20a9e06a1eee47c4abbed4ec8225ad91d78d9800d202b71b6b0a6e47016c6abd"
  },
  "kernelspec": {
   "display_name": "Python 3.9.7 ('base')",
   "language": "python",
   "name": "python3"
  },
  "language_info": {
   "codemirror_mode": {
    "name": "ipython",
    "version": 3
   },
   "file_extension": ".py",
   "mimetype": "text/x-python",
   "name": "python",
   "nbconvert_exporter": "python",
   "pygments_lexer": "ipython3",
   "version": "3.9.13"
  },
  "orig_nbformat": 4
 },
 "nbformat": 4,
 "nbformat_minor": 2
}
