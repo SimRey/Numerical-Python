{
 "cells": [
  {
   "attachments": {},
   "cell_type": "markdown",
   "metadata": {},
   "source": [
    "### **Disjunctive programming**"
   ]
  },
  {
   "cell_type": "code",
   "execution_count": 6,
   "metadata": {},
   "outputs": [],
   "source": [
    "import matplotlib.pyplot as plt\n",
    "import pandas as pd\n",
    "\n",
    "from pyomo.environ import *\n",
    "from pyomo.gdp import *\n",
    "import pandas as pd"
   ]
  },
  {
   "cell_type": "code",
   "execution_count": 7,
   "metadata": {},
   "outputs": [
    {
     "data": {
      "text/html": [
       "<div>\n",
       "<style scoped>\n",
       "    .dataframe tbody tr th:only-of-type {\n",
       "        vertical-align: middle;\n",
       "    }\n",
       "\n",
       "    .dataframe tbody tr th {\n",
       "        vertical-align: top;\n",
       "    }\n",
       "\n",
       "    .dataframe thead th {\n",
       "        text-align: right;\n",
       "    }\n",
       "</style>\n",
       "<table border=\"1\" class=\"dataframe\">\n",
       "  <thead>\n",
       "    <tr style=\"text-align: right;\">\n",
       "      <th></th>\n",
       "      <th>cost</th>\n",
       "      <th>Vit A</th>\n",
       "      <th>Vit B</th>\n",
       "    </tr>\n",
       "  </thead>\n",
       "  <tbody>\n",
       "    <tr>\n",
       "      <th>A</th>\n",
       "      <td>2.0</td>\n",
       "      <td>0.5</td>\n",
       "      <td>0.2</td>\n",
       "    </tr>\n",
       "    <tr>\n",
       "      <th>B</th>\n",
       "      <td>2.0</td>\n",
       "      <td>0.4</td>\n",
       "      <td>0.1</td>\n",
       "    </tr>\n",
       "    <tr>\n",
       "      <th>C</th>\n",
       "      <td>5.0</td>\n",
       "      <td>0.3</td>\n",
       "      <td>0.3</td>\n",
       "    </tr>\n",
       "  </tbody>\n",
       "</table>\n",
       "</div>"
      ],
      "text/plain": [
       "   cost  Vit A  Vit B\n",
       "A   2.0    0.5    0.2\n",
       "B   2.0    0.4    0.1\n",
       "C   5.0    0.3    0.3"
      ]
     },
     "execution_count": 7,
     "metadata": {},
     "output_type": "execute_result"
    }
   ],
   "source": [
    "# load data as dictionary of components\n",
    "# component data consists of cost and composition \n",
    "comp_data = {\n",
    "    \"A\": {\"cost\": 2.0, \"Vit A\": 0.5, \"Vit B\": 0.2},\n",
    "    \"B\": {\"cost\": 2.0, \"Vit A\": 0.4, \"Vit B\": 0.1},\n",
    "    \"C\": {\"cost\": 5.0, \"Vit A\": 0.3, \"Vit B\": 0.3},\n",
    "}\n",
    "\n",
    "pd.DataFrame.from_dict(comp_data, orient='index')"
   ]
  },
  {
   "attachments": {},
   "cell_type": "markdown",
   "metadata": {},
   "source": [
    "##### Product Composition Requirements\n",
    "\n",
    "Find the lowest cost blend\n",
    "\n",
    "* Vit A: less than 0.4\n",
    "* Vit B: greater than 0.2\n",
    "\n",
    "Your code should be able to accept alternative specification for data and product requirements.\n"
   ]
  },
  {
   "cell_type": "code",
   "execution_count": 8,
   "metadata": {},
   "outputs": [
    {
     "data": {
      "text/html": [
       "<div>\n",
       "<style scoped>\n",
       "    .dataframe tbody tr th:only-of-type {\n",
       "        vertical-align: middle;\n",
       "    }\n",
       "\n",
       "    .dataframe tbody tr th {\n",
       "        vertical-align: top;\n",
       "    }\n",
       "\n",
       "    .dataframe thead th {\n",
       "        text-align: right;\n",
       "    }\n",
       "</style>\n",
       "<table border=\"1\" class=\"dataframe\">\n",
       "  <thead>\n",
       "    <tr style=\"text-align: right;\">\n",
       "      <th></th>\n",
       "      <th>lb</th>\n",
       "      <th>ub</th>\n",
       "    </tr>\n",
       "  </thead>\n",
       "  <tbody>\n",
       "    <tr>\n",
       "      <th>Vit A</th>\n",
       "      <td>0.0</td>\n",
       "      <td>0.4</td>\n",
       "    </tr>\n",
       "    <tr>\n",
       "      <th>Vit B</th>\n",
       "      <td>0.2</td>\n",
       "      <td>1.0</td>\n",
       "    </tr>\n",
       "  </tbody>\n",
       "</table>\n",
       "</div>"
      ],
      "text/plain": [
       "        lb   ub\n",
       "Vit A  0.0  0.4\n",
       "Vit B  0.2  1.0"
      ]
     },
     "execution_count": 8,
     "metadata": {},
     "output_type": "execute_result"
    }
   ],
   "source": [
    "prod_req = {\n",
    "    \"Vit A\": {\"lb\": 0.0, \"ub\": 0.4},\n",
    "    \"Vit B\": {\"lb\": 0.2, \"ub\": 1.0},\n",
    "}\n",
    "pd.DataFrame.from_dict(prod_req, orient='index')"
   ]
  },
  {
   "attachments": {},
   "cell_type": "markdown",
   "metadata": {},
   "source": [
    "##### Component Compatibility\n",
    "\n",
    "For this application, we consider an additional type of constraint specifying the incompatability of certain blends of components. For example, suppose we have a constraint:\n",
    "\n",
    "* A and B cannot be mixed together in the final product\n",
    "\n",
    "The constraint is specified by creating a list of incompatabile pairs."
   ]
  },
  {
   "cell_type": "code",
   "execution_count": 9,
   "metadata": {},
   "outputs": [],
   "source": [
    "excl_pairs = [(\"A\", \"B\")] # Exclusive pair"
   ]
  },
  {
   "cell_type": "code",
   "execution_count": 14,
   "metadata": {},
   "outputs": [
    {
     "name": "stdout",
     "output_type": "stream",
     "text": [
      "A = 0.3333333333333336\n",
      "B = 0.33333333333333315\n",
      "C = 0.33333333333333326\n"
     ]
    }
   ],
   "source": [
    "# Solving the problem neglecting exclusive pair\n",
    "\n",
    "m = ConcreteModel()\n",
    "\n",
    "# define sets that will be used to index decision variables and constraints\n",
    "# remember to use initialize keyword\n",
    "m.comp = Set(initialize=comp_data.keys())\n",
    "m.req = Set(initialize=prod_req.keys())\n",
    "\n",
    "# decision variables\n",
    "m.x = Var(m.comp, domain=NonNegativeReals)\n",
    "\n",
    "# objective function\n",
    "m.cost = Objective(expr=sum(m.x[c]*comp_data[c][\"cost\"] for c in m.comp), sense=minimize)\n",
    "\n",
    "# structural constraints\n",
    "m.massfraction = Constraint(expr=sum(m.x[c] for c in m.comp)==1)\n",
    "\n",
    "# composition constraints\n",
    "m.lb = Constraint(m.req, rule=lambda m, r: sum(m.x[c]*comp_data[c][r] for c in m.comp) >= prod_req[r][\"lb\"])\n",
    "m.ub = Constraint(m.req, rule=lambda m, r: sum(m.x[c]*comp_data[c][r] for c in m.comp) <= prod_req[r][\"ub\"])\n",
    "\n",
    "solver = SolverFactory('CBC')\n",
    "solver.solve(m)\n",
    "\n",
    "for c in m.comp:\n",
    "    print(f\"{c} = {m.x[c]()}\")"
   ]
  }
 ],
 "metadata": {
  "kernelspec": {
   "display_name": "myenv",
   "language": "python",
   "name": "python3"
  },
  "language_info": {
   "codemirror_mode": {
    "name": "ipython",
    "version": 3
   },
   "file_extension": ".py",
   "mimetype": "text/x-python",
   "name": "python",
   "nbconvert_exporter": "python",
   "pygments_lexer": "ipython3",
   "version": "3.9.13"
  },
  "orig_nbformat": 4
 },
 "nbformat": 4,
 "nbformat_minor": 2
}
