{
 "cells": [
  {
   "cell_type": "code",
   "execution_count": 2,
   "metadata": {},
   "outputs": [],
   "source": [
    "from pyomo.environ import *\n",
    "from pyomo.network import *\n",
    "m = ConcreteModel()\n",
    "m.unit1 = Block()\n",
    "m.unit1.x = Var()\n",
    "m.unit1.y = Var(['a', 'b'])\n",
    "m.unit2 = Block()\n",
    "m.unit2.x = Var()\n",
    "m.unit2.y = Var(['a', 'b'])\n",
    "m.unit1.port = Port(initialize=[m.unit1.x, (m.unit1.y, Port.Extensive)])\n",
    "m.unit2.port = Port(initialize=[m.unit2.x, (m.unit2.y, Port.Extensive)])\n",
    "m.a = Arc(source=m.unit1.port, destination=m.unit2.port)\n",
    "TransformationFactory(\"network.expand_arcs\").apply_to(m)\n"
   ]
  },
  {
   "cell_type": "code",
   "execution_count": 3,
   "metadata": {},
   "outputs": [
    {
     "name": "stdout",
     "output_type": "stream",
     "text": [
      "3 Block Declarations\n",
      "    a_expanded : Size=1, Index=None, Active=True\n",
      "        2 Constraint Declarations\n",
      "            x_equality : Size=1, Index=None, Active=True\n",
      "                Key  : Lower : Body              : Upper : Active\n",
      "                None :   0.0 : unit1.x - unit2.x :   0.0 :   True\n",
      "            y_equality : Size=2, Index=unit1.y_index, Active=True\n",
      "                Key : Lower : Body                    : Upper : Active\n",
      "                  a :   0.0 : unit1.y[a] - unit2.y[a] :   0.0 :   True\n",
      "                  b :   0.0 : unit1.y[b] - unit2.y[b] :   0.0 :   True\n",
      "\n",
      "        2 Declarations: x_equality y_equality\n",
      "    unit1 : Size=1, Index=None, Active=True\n",
      "        1 Set Declarations\n",
      "            y_index : Size=1, Index=None, Ordered=Insertion\n",
      "                Key  : Dimen : Domain : Size : Members\n",
      "                None :     1 :    Any :    2 : {'a', 'b'}\n",
      "\n",
      "        2 Var Declarations\n",
      "            x : Size=1, Index=None\n",
      "                Key  : Lower : Value : Upper : Fixed : Stale : Domain\n",
      "                None :  None :  None :  None : False :  True :  Reals\n",
      "            y : Size=2, Index=unit1.y_index\n",
      "                Key : Lower : Value : Upper : Fixed : Stale : Domain\n",
      "                  a :  None :  None :  None : False :  True :  Reals\n",
      "                  b :  None :  None :  None : False :  True :  Reals\n",
      "\n",
      "        1 Port Declarations\n",
      "            port : Size=1, Index=None\n",
      "                Key  : Name : Size : Variable\n",
      "                None :    x :    1 :  unit1.x\n",
      "                     :    y :    2 :  unit1.y\n",
      "\n",
      "        4 Declarations: x y_index y port\n",
      "    unit2 : Size=1, Index=None, Active=True\n",
      "        1 Set Declarations\n",
      "            y_index : Size=1, Index=None, Ordered=Insertion\n",
      "                Key  : Dimen : Domain : Size : Members\n",
      "                None :     1 :    Any :    2 : {'a', 'b'}\n",
      "\n",
      "        2 Var Declarations\n",
      "            x : Size=1, Index=None\n",
      "                Key  : Lower : Value : Upper : Fixed : Stale : Domain\n",
      "                None :  None :  None :  None : False :  True :  Reals\n",
      "            y : Size=2, Index=unit2.y_index\n",
      "                Key : Lower : Value : Upper : Fixed : Stale : Domain\n",
      "                  a :  None :  None :  None : False :  True :  Reals\n",
      "                  b :  None :  None :  None : False :  True :  Reals\n",
      "\n",
      "        1 Port Declarations\n",
      "            port : Size=1, Index=None\n",
      "                Key  : Name : Size : Variable\n",
      "                None :    x :    1 :  unit2.x\n",
      "                     :    y :    2 :  unit2.y\n",
      "\n",
      "        4 Declarations: x y_index y port\n",
      "\n",
      "1 Arc Declarations\n",
      "    a : Size=1, Index=None, Active=False\n",
      "        Key  : Ports                    : Directed : Active\n",
      "        None : (unit1.port, unit2.port) :     True :  False\n",
      "\n",
      "4 Declarations: unit1 unit2 a a_expanded\n"
     ]
    }
   ],
   "source": [
    "m.pprint()"
   ]
  }
 ],
 "metadata": {
  "kernelspec": {
   "display_name": "myenv",
   "language": "python",
   "name": "python3"
  },
  "language_info": {
   "codemirror_mode": {
    "name": "ipython",
    "version": 3
   },
   "file_extension": ".py",
   "mimetype": "text/x-python",
   "name": "python",
   "nbconvert_exporter": "python",
   "pygments_lexer": "ipython3",
   "version": "3.9.13"
  },
  "orig_nbformat": 4
 },
 "nbformat": 4,
 "nbformat_minor": 2
}
