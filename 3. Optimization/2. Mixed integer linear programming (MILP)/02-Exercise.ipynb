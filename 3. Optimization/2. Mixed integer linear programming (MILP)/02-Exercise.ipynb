{
 "cells": [
  {
   "cell_type": "markdown",
   "metadata": {},
   "source": [
    "#### Exercise problem\n",
    "\n",
    "$$\n",
    "\\begin{alignat*}{3}\n",
    "\\text{minimize  }  & \\sum_{i \\in I} x_i + y && \\\\\n",
    "\\text{subject to  }\n",
    "& \\sum_{i \\in I} x_i + y \\le 20\\\\\n",
    "& 15 \\le x_i + y \n",
    "&& \\qquad \\forall i \\in I \\\\\n",
    "& \\sum_{i \\in I} i*x_i \\ge 10\\\\\n",
    "& 30 \\le x_5 + 2y \n",
    "\\end{alignat*}\n",
    "$$"
   ]
  },
  {
   "cell_type": "code",
   "execution_count": 1,
   "metadata": {},
   "outputs": [],
   "source": [
    "import pyomo.environ as pe\n",
    "import pyomo.opt as po"
   ]
  },
  {
   "cell_type": "code",
   "execution_count": 2,
   "metadata": {},
   "outputs": [],
   "source": [
    "m = pe.ConcreteModel()\n",
    "solver = po.SolverFactory(\"glpk\")"
   ]
  },
  {
   "cell_type": "code",
   "execution_count": 3,
   "metadata": {},
   "outputs": [
    {
     "name": "stdout",
     "output_type": "stream",
     "text": [
      "1 RangeSet Declarations\n",
      "    I : Dimen=1, Size=5, Bounds=(1, 5)\n",
      "        Key  : Finite : Members\n",
      "        None :   True :   [1:5]\n",
      "\n",
      "2 Var Declarations\n",
      "    x : Size=5, Index=I\n",
      "        Key : Lower : Value : Upper : Fixed : Stale : Domain\n",
      "          1 :     0 :  None :  None : False :  True : NonNegativeIntegers\n",
      "          2 :     0 :  None :  None : False :  True : NonNegativeIntegers\n",
      "          3 :     0 :  None :  None : False :  True : NonNegativeIntegers\n",
      "          4 :     0 :  None :  None : False :  True : NonNegativeIntegers\n",
      "          5 :     0 :  None :  None : False :  True : NonNegativeIntegers\n",
      "    y : Size=1, Index=None\n",
      "        Key  : Lower : Value : Upper : Fixed : Stale : Domain\n",
      "        None :     0 :  None :  None : False :  True : PositiveReals\n",
      "\n",
      "1 Objective Declarations\n",
      "    objective : Size=1, Index=None, Active=True\n",
      "        Key  : Active : Sense    : Expression\n",
      "        None :   True : minimize : x[1] + x[2] + x[3] + x[4] + x[5] + y\n",
      "\n",
      "4 Constraint Declarations\n",
      "    cons : Size=5, Index=I, Active=True\n",
      "        Key : Lower : Body     : Upper : Active\n",
      "          1 :  15.0 : x[1] + y :  +Inf :   True\n",
      "          2 :  15.0 : x[2] + y :  +Inf :   True\n",
      "          3 :  15.0 : x[3] + y :  +Inf :   True\n",
      "          4 :  15.0 : x[4] + y :  +Inf :   True\n",
      "          5 :  15.0 : x[5] + y :  +Inf :   True\n",
      "    cons1 : Size=1, Index=None, Active=True\n",
      "        Key  : Lower : Body                                 : Upper : Active\n",
      "        None :  -Inf : x[1] + x[2] + x[3] + x[4] + x[5] + y :  20.0 :   True\n",
      "    cons2 : Size=1, Index=None, Active=True\n",
      "        Key  : Lower : Body                                     : Upper : Active\n",
      "        None :  10.0 : x[1] + 2*x[2] + 3*x[3] + 4*x[4] + 5*x[5] :  +Inf :   True\n",
      "    cons3 : Size=1, Index=None, Active=True\n",
      "        Key  : Lower : Body       : Upper : Active\n",
      "        None :  30.0 : x[5] + 2*y :  +Inf :   True\n",
      "\n",
      "8 Declarations: I x y cons1 cons2 cons cons3 objective\n"
     ]
    }
   ],
   "source": [
    "m.I = pe.RangeSet(1,5)\n",
    "\n",
    "m.x = pe.Var(m.I, domain=pe.NonNegativeIntegers)\n",
    "m.y = pe.Var(domain=pe.PositiveReals)\n",
    "\n",
    "\n",
    "m.cons1 = pe.Constraint(\n",
    "    expr=(sum([m.x[i] for i in m.I]) + m.y <= 20)\n",
    ")\n",
    "m.cons2 = pe.Constraint(\n",
    "    expr=(sum([m.x[i]*i for i in m.I]) >= 10)\n",
    ")\n",
    "\n",
    "def _cons(m, i):\n",
    "    return m.x[i] + m.y >= 15\n",
    "m.cons = pe.Constraint(m.I, rule=_cons)\n",
    "\n",
    "m.cons3 =  pe.Constraint(\n",
    "    expr= (30 <= m.x[5] + 2*m.y)\n",
    ")\n",
    "\n",
    "expr = sum([m.x[i] for i in m.I]) + m.y\n",
    "m.objective = pe.Objective(sense=pe.minimize, expr=expr)\n",
    "m.pprint()"
   ]
  },
  {
   "cell_type": "code",
   "execution_count": 4,
   "metadata": {},
   "outputs": [
    {
     "name": "stdout",
     "output_type": "stream",
     "text": [
      "x1: 0.0\n",
      "x2: 0.0\n",
      "x3: 0.0\n",
      "x4: 0.0\n",
      "x5: 2.0\n",
      "y: 15.0\n",
      "Obj:  17.0\n"
     ]
    }
   ],
   "source": [
    "results = solver.solve(m)\n",
    "for i in m.I:\n",
    "    print(f\"x{i}: {pe.value(m.x[i])}\")\n",
    "print(f\"y: {pe.value(m.y)}\")\n",
    "print('Obj: ', pe.value(m.objective))"
   ]
  }
 ],
 "metadata": {
  "kernelspec": {
   "display_name": "myenv",
   "language": "python",
   "name": "python3"
  },
  "language_info": {
   "codemirror_mode": {
    "name": "ipython",
    "version": 3
   },
   "file_extension": ".py",
   "mimetype": "text/x-python",
   "name": "python",
   "nbconvert_exporter": "python",
   "pygments_lexer": "ipython3",
   "version": "3.9.13"
  },
  "orig_nbformat": 4
 },
 "nbformat": 4,
 "nbformat_minor": 2
}
