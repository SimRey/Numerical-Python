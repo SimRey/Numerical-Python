{
 "cells": [
  {
   "attachments": {},
   "cell_type": "markdown",
   "metadata": {},
   "source": [
    "### **Introduction**\n",
    "\n",
    "Let's start with a purely mathematical example:\n",
    "\n",
    "$$\\begin{align*} \\min_{x} \\quad & x_1^2 + 2 x_2^2 - x_3 \\\\\n",
    "\\mathrm{s.t.} \\quad & x_1 + x_2 = 1 \\\\\n",
    "& x_1 + 2 x_2 - x_3 = 5 \\\\\n",
    "& -10 \\leq x_1, x_2, x_3 \\leq 10 \n",
    "\\end{align*} $$\n",
    "\n",
    "We want to solve the constrained optimization problem numerically."
   ]
  },
  {
   "cell_type": "code",
   "execution_count": 1,
   "metadata": {},
   "outputs": [],
   "source": [
    "import pyomo.environ as pe\n",
    "import pyomo.opt as po\n",
    "import pandas as pd\n",
    "from pyomo.environ import *"
   ]
  },
  {
   "cell_type": "code",
   "execution_count": 2,
   "metadata": {},
   "outputs": [
    {
     "name": "stdout",
     "output_type": "stream",
     "text": [
      "3 Var Declarations\n",
      "    x1 : Size=1, Index=None\n",
      "        Key  : Lower : Value : Upper : Fixed : Stale : Domain\n",
      "        None :   -10 :    -2 :    10 : False : False :  Reals\n",
      "    x2 : Size=1, Index=None\n",
      "        Key  : Lower : Value : Upper : Fixed : Stale : Domain\n",
      "        None :   -10 :    -2 :    10 : False : False :  Reals\n",
      "    x3 : Size=1, Index=None\n",
      "        Key  : Lower : Value : Upper : Fixed : Stale : Domain\n",
      "        None :   -10 :  None :    10 : False :  True :  Reals\n",
      "\n",
      "1 Objective Declarations\n",
      "    OBJ : Size=1, Index=None, Active=True\n",
      "        Key  : Active : Sense    : Expression\n",
      "        None :   True : minimize : x1**2 + 2*x2**2 - x3\n",
      "\n",
      "2 Constraint Declarations\n",
      "    con1 : Size=1, Index=None, Active=True\n",
      "        Key  : Lower : Body    : Upper : Active\n",
      "        None :   1.0 : x1 + x2 :   1.0 :   True\n",
      "    con2 : Size=1, Index=None, Active=True\n",
      "        Key  : Lower : Body           : Upper : Active\n",
      "        None :   5.0 : x1 + 2*x2 - x3 :   5.0 :   True\n",
      "\n",
      "6 Declarations: x1 x2 x3 OBJ con1 con2\n"
     ]
    }
   ],
   "source": [
    "# Create instance of concrete pemo model.\n",
    "# concrete means all of the sets and model data are specified at the time of model construction.\n",
    "# In this class, you'll use a concrete model.\n",
    "m = pe.ConcreteModel()\n",
    "\n",
    "## Declare variables with initial values with bounds\n",
    "bnds = (-10, 10)\n",
    "m.x1 = pe.Var(bounds=bnds, initialize=-2)\n",
    "m.x2 = pe.Var(bounds=bnds, initialize=-2)\n",
    "m.x3 = pe.Var(bounds=bnds)\n",
    "\n",
    "## Declare objective\n",
    "m.OBJ = pe.Objective(expr=m.x1**2 + 2*m.x2**2 - m.x3, sense = pe.minimize)\n",
    "\n",
    "## Declare equality constraints\n",
    "m.con1 = pe.Constraint(expr= m.x1 + m.x2 == 1)\n",
    "m.con2 = pe.Constraint(expr= m.x1 + 2*m.x2 - m.x3 == 5)\n",
    "\n",
    "\n",
    "## Display model\n",
    "m.pprint()"
   ]
  },
  {
   "cell_type": "code",
   "execution_count": 3,
   "metadata": {},
   "outputs": [
    {
     "name": "stdout",
     "output_type": "stream",
     "text": [
      "x1: 0.49999999996668254\n",
      "x2: 0.5000000000333173\n",
      "x3: -3.4999999999666827\n",
      "Obj: 4.25\n",
      "-----------------------------------------------------------\n",
      "\n",
      "Problem: \n",
      "- Lower bound: -inf\n",
      "  Upper bound: inf\n",
      "  Number of objectives: 1\n",
      "  Number of constraints: 2\n",
      "  Number of variables: 3\n",
      "  Sense: unknown\n",
      "Solver: \n",
      "- Status: ok\n",
      "  Message: Ipopt 3.6.1\\x3a Optimal Solution Found\n",
      "  Termination condition: optimal\n",
      "  Id: 0\n",
      "  Error rc: 0\n",
      "  Time: 0.07277417182922363\n",
      "Solution: \n",
      "- number of solutions: 0\n",
      "  number of solutions displayed: 0\n",
      "\n"
     ]
    }
   ],
   "source": [
    "solver = po.SolverFactory('ipopt')\n",
    "results = solver.solve(m)\n",
    "\n",
    "print(f\"x1: {pe.value(m.x1)}\")\n",
    "print(f\"x2: {pe.value(m.x2)}\")\n",
    "print(f\"x3: {pe.value(m.x3)}\")\n",
    "print(f\"Obj: {pe.value(m.OBJ)}\")\n",
    "print(\"-----------------------------------------------------------\")\n",
    "print(results)"
   ]
  },
  {
   "cell_type": "markdown",
   "metadata": {},
   "source": [
    "----"
   ]
  },
  {
   "cell_type": "markdown",
   "metadata": {},
   "source": [
    "##### The importance of the initialization"
   ]
  },
  {
   "cell_type": "code",
   "execution_count": 4,
   "metadata": {},
   "outputs": [
    {
     "name": "stdout",
     "output_type": "stream",
     "text": [
      "x= -0.49999999790726224\n",
      "y= 0.0\n"
     ]
    }
   ],
   "source": [
    "model = pe.ConcreteModel()\n",
    "# Initializing values in 0\n",
    "model.x = pe.Var(bounds=(-5,5)) \n",
    "model.y = pe.Var(bounds=(-5,5))\n",
    "x = model.x\n",
    "y = model.y\n",
    "\n",
    "model.obj = pe.Objective(expr = cos(x+1) + cos(x)*cos(y), sense=maximize)\n",
    "\n",
    "solver = po.SolverFactory('ipopt')\n",
    "\n",
    "solver.options['tol']=1e-6\n",
    "solver.solve(model)\n",
    "\n",
    "print('x=',pe.value(x))\n",
    "print('y=',pe.value(y))"
   ]
  },
  {
   "cell_type": "code",
   "execution_count": 5,
   "metadata": {},
   "outputs": [
    {
     "name": "stdout",
     "output_type": "stream",
     "text": [
      "x= -2.070796307837297\n",
      "y= -3.1415925748454043\n"
     ]
    }
   ],
   "source": [
    "model = pe.ConcreteModel()\n",
    "# Initializing values in -2\n",
    "model.x = pe.Var(initialize=-2, bounds=(-5,5))\n",
    "model.y = pe.Var(initialize=-2, bounds=(-5,5))\n",
    "x = model.x\n",
    "y = model.y\n",
    "\n",
    "model.obj = pe.Objective(expr = cos(x+1) + cos(x)*cos(y), sense=maximize)\n",
    "\n",
    "solver = po.SolverFactory('ipopt')\n",
    "\n",
    "solver.options['tol']=1e-6\n",
    "solver.solve(model)\n",
    "\n",
    "print('x=',pe.value(x))\n",
    "print('y=',pe.value(y))"
   ]
  },
  {
   "cell_type": "markdown",
   "metadata": {},
   "source": [
    "**IPOPT** is a local solver, a global solver which is not sensible to initialization should be used, in this case the free solver **COUENNE** could be used"
   ]
  },
  {
   "cell_type": "code",
   "execution_count": 6,
   "metadata": {},
   "outputs": [
    {
     "name": "stdout",
     "output_type": "stream",
     "text": [
      "x= -0.49999999999365996\n",
      "y= 1.5576858828478713e-11\n"
     ]
    }
   ],
   "source": [
    "solver = po.SolverFactory('couenne')\n",
    "\n",
    "solver.options['tol']=1e-6\n",
    "solver.solve(model)\n",
    "\n",
    "print('x=',pe.value(x))\n",
    "print('y=',pe.value(y))"
   ]
  }
 ],
 "metadata": {
  "kernelspec": {
   "display_name": "myenv",
   "language": "python",
   "name": "python3"
  },
  "language_info": {
   "codemirror_mode": {
    "name": "ipython",
    "version": 3
   },
   "file_extension": ".py",
   "mimetype": "text/x-python",
   "name": "python",
   "nbconvert_exporter": "python",
   "pygments_lexer": "ipython3",
   "version": "3.9.13"
  },
  "orig_nbformat": 4
 },
 "nbformat": 4,
 "nbformat_minor": 2
}
