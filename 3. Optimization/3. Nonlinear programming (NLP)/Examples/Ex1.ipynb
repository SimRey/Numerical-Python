{
 "cells": [
  {
   "cell_type": "markdown",
   "metadata": {},
   "source": [
    "### Example 1\n",
    "\n",
    "Suppose that you have 3 machines to manufacture shoes, and the cost of each machine is:\n",
    "$$𝐶_1 = 0.01𝑛_1^2 + 2𝑛_1$$\n",
    "$$𝐶_2 = 6𝑛_2$$\n",
    "$$𝐶_3 = 7𝑛_3$$\n",
    "where $𝐶_𝑖$ is cost for production of machine $i$, $𝑛_𝑖$ is the number of shoes manufactured in machine $i$.\n",
    "Each machine has a limit of production of 1.000 shoes. For a total production of 2.100 shoes, how many shoes should each machine made in order to minimize the total cost?\n"
   ]
  },
  {
   "cell_type": "markdown",
   "metadata": {},
   "source": [
    "$$\\begin{align*} \\min \\quad & C_1 + C_2 + C_3 \\\\\n",
    "\\mathrm{s.t.} \\quad & 𝐶_1 = 0.01𝑛_1^2 + 2𝑛_1\\\\\n",
    "& 𝐶_2 = 6𝑛_2 \\\\\n",
    "& 𝐶_3 = 7𝑛_3 \\\\\n",
    "& 𝐶_3 = 7𝑛_3 \\\\\n",
    "& n_1 + n_2 + n_3 = 2100\\\\\n",
    "& 0 \\leq n_1, n_2, n_3 \\leq 1000\n",
    "&& n_i \\in \\mathrm{integers}\n",
    "\\end{align*} $$"
   ]
  },
  {
   "cell_type": "code",
   "execution_count": 1,
   "metadata": {},
   "outputs": [],
   "source": [
    "import pyomo.environ as pe\n",
    "import pyomo.opt as po"
   ]
  },
  {
   "cell_type": "code",
   "execution_count": 2,
   "metadata": {},
   "outputs": [],
   "source": [
    "m = pe.ConcreteModel()\n",
    "\n",
    "m.S = pe.RangeSet(1,3)\n",
    "m.n = pe.Var(m.S, domain=pe.NonNegativeIntegers, bounds=(0,1000))\n",
    "\n",
    "m.cons1 = pe.Constraint(expr=(pe.summation(m.n) == 2100)) # pe.summation sums all variables from all sets\n",
    "m.C1 = pe.Expression(expr=0.01*m.n[1]**2 + 2*m.n[1])\n",
    "m.C2 = pe.Expression(expr=6*m.n[2])\n",
    "m.C3 = pe.Expression(expr=7*m.n[3])\n",
    "\n",
    "m.obj = pe.Objective(expr=m.C1 + m.C2 + m.C3,sense=pe.minimize)"
   ]
  },
  {
   "cell_type": "code",
   "execution_count": 3,
   "metadata": {},
   "outputs": [
    {
     "name": "stdout",
     "output_type": "stream",
     "text": [
      "x1: 250.0\n",
      "x2: 1000.0\n",
      "x3: 850.0000000000001\n"
     ]
    }
   ],
   "source": [
    "solver = po.SolverFactory('couenne') \n",
    "results = solver.solve(m)\n",
    "\n",
    "# If solved with gurobi\n",
    "# solver = po.SolverFactory('gurobi')\n",
    "# Problem can be solved mainly due to the fact that it is a SOCP\n",
    "\n",
    "for s in m.S:\n",
    "    print(f\"x{s}: {pe.value(m.n[s])}\")"
   ]
  },
  {
   "cell_type": "markdown",
   "metadata": {},
   "source": [
    "**Now suppose that the cost of the second machine changes to**:\n",
    "$$ C_2 = 6n_2n_1$$\n",
    "\n",
    "The problem is not a SOCP anymore it becomes a Nonconvex QP\n",
    "\n",
    "$$\\begin{align*} \\min \\quad & C_1 + C_2 + C_3 \\\\\n",
    "\\mathrm{s.t.} \\quad & 𝐶_1 = 0.01𝑛_1^2 + 2𝑛_1\\\\\n",
    "& 𝐶_2 = 6𝑛_2n_1 \\\\\n",
    "& 𝐶_3 = 7𝑛_3 \\\\\n",
    "& 𝐶_3 = 7𝑛_3 \\\\\n",
    "& n_1 + n_2 + n_3 = 2100\\\\\n",
    "& 0 \\leq n_1, n_2, n_3 \\leq 1000\n",
    "&& n_i \\in \\mathrm{integers}\n",
    "\\end{align*} $$"
   ]
  },
  {
   "cell_type": "code",
   "execution_count": 4,
   "metadata": {},
   "outputs": [
    {
     "name": "stdout",
     "output_type": "stream",
     "text": [
      "x1: 100.00000000000001\n",
      "x2: 999.9999999999998\n",
      "x3: 1000.0\n"
     ]
    }
   ],
   "source": [
    "m = pe.ConcreteModel()\n",
    "\n",
    "m.S = pe.RangeSet(1,3)\n",
    "m.n = pe.Var(m.S, domain=pe.NonNegativeIntegers, bounds=(0,1000))\n",
    "\n",
    "m.cons1 = pe.Constraint(expr=(pe.summation(m.n) == 2100)) # pe.summation sums all variables from all sets\n",
    "m.C1 = pe.Expression(expr=0.01*m.n[1]**2 + 2*m.n[1])\n",
    "m.C2 = pe.Expression(expr=6*m.n[2]*m.n[1])\n",
    "m.C3 = pe.Expression(expr=7*m.n[3])\n",
    "\n",
    "m.obj = pe.Objective(expr=m.C1 + m.C2 + m.C3,sense=pe.minimize)\n",
    "\n",
    "solver = po.SolverFactory('couenne')\n",
    "results = solver.solve(m)\n",
    "\n",
    "# If solved with gurobi\n",
    "# solver = po.SolverFactory('gurobi')\n",
    "# solver.options[\"NonConvex\"] = 2\n",
    "\n",
    "for s in m.S:\n",
    "    print(f\"x{s}: {pe.value(m.n[s])}\")"
   ]
  }
 ],
 "metadata": {
  "kernelspec": {
   "display_name": "myenv",
   "language": "python",
   "name": "python3"
  },
  "language_info": {
   "codemirror_mode": {
    "name": "ipython",
    "version": 3
   },
   "file_extension": ".py",
   "mimetype": "text/x-python",
   "name": "python",
   "nbconvert_exporter": "python",
   "pygments_lexer": "ipython3",
   "version": "3.9.13"
  },
  "orig_nbformat": 4
 },
 "nbformat": 4,
 "nbformat_minor": 2
}
