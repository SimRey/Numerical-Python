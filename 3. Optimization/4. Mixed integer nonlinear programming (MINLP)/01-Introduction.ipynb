{
 "cells": [
  {
   "cell_type": "markdown",
   "metadata": {},
   "source": [
    "### **Introduction**\n",
    "\n",
    "Let's start with a purely mathematical example:\n",
    "\n",
    "$$\\begin{align*} \\max_{x} \\quad & x + yx \\\\\n",
    "\\mathrm{s.t.} \\quad & -x + 2yx \\le 8 \\\\\n",
    "& 2x+y \\le 14 \\\\\n",
    "& 2x-y \\le 10\n",
    "\\end{align*} $$\n",
    "\n",
    "We want to solve the constrained optimization problem numerically."
   ]
  },
  {
   "cell_type": "code",
   "execution_count": 1,
   "metadata": {},
   "outputs": [],
   "source": [
    "import pyomo.environ as pe\n",
    "import pyomo.opt as po"
   ]
  },
  {
   "cell_type": "code",
   "execution_count": 2,
   "metadata": {},
   "outputs": [],
   "source": [
    "model = pe.ConcreteModel()\n",
    "\n",
    "model.x = pe.Var(domain=pe.Integers, bounds=(0,10))\n",
    "model.y = pe.Var(bounds=(0,10), domain=pe.Reals)\n",
    "x = model.x\n",
    "y = model.y\n",
    "\n",
    "model.C1 = pe.Constraint(expr= -x+2*y*x<=8)\n",
    "model.C2 = pe.Constraint(expr= 2*x+y<=14)\n",
    "model.C3 = pe.Constraint(expr= 2*x-y<=10)\n",
    "\n",
    "model.obj = pe.Objective(expr= x+y*x, sense=pe.maximize)\n"
   ]
  },
  {
   "cell_type": "markdown",
   "metadata": {},
   "source": [
    "#### **Solving the model using a global solver**"
   ]
  },
  {
   "cell_type": "code",
   "execution_count": 3,
   "metadata": {},
   "outputs": [
    {
     "name": "stdout",
     "output_type": "stream",
     "text": [
      "ERROR: Solver (asl) returned non-zero return code (3221225477)\n",
      "ERROR: Solver log: couenne: tol=1e-06 tol=1e-06\n",
      "\n",
      "    ANALYSIS TEST: objectives: min (-((x_0*y_1) +1*y_1)) constraints:\n",
      "    ((y_1*(2*x_0)) -1*y_1) <= 8 ( +2*y_1 +1*x_0) <= 14 ( +2*y_1 -1*x_0) <= 10\n",
      "    variables: x_0 [ 0 , 10 ] y_1 [ 0 , 10 ] integer y_2 [ -9.47765e-311 ,\n",
      "    -1.08654e-310 ] integer y_3 [ 1.63733e-306 , 2.25826e-306 ] integer end\n",
      "    Problem size before reformulation: 4 variables (3 integer), 3 constraints.\n",
      "    Problem size after  reformulation: 9 variables (3 integer), 3 constraints.\n",
      "\n",
      "    **************************************************************************\n",
      "    **** This program contains Ipopt, a library for large-scale nonlinear\n",
      "    optimization.\n",
      "     Ipopt is released as open source code under the Common Public License\n",
      "     (CPL).\n",
      "             For more information visit http://projects.coin-or.org/Ipopt\n",
      "    **************************************************************************\n",
      "    ****\n",
      "\n",
      "    NOTE: You are using Ipopt by default with the MUMPS linear solver.\n",
      "          Other linear solvers might be more efficient (see Ipopt\n",
      "          documentation).\n"
     ]
    },
    {
     "ename": "ApplicationError",
     "evalue": "Solver (asl) did not exit normally",
     "output_type": "error",
     "traceback": [
      "\u001b[1;31m---------------------------------------------------------------------------\u001b[0m",
      "\u001b[1;31mApplicationError\u001b[0m                          Traceback (most recent call last)",
      "\u001b[1;32m~\\AppData\\Local\\Temp\\ipykernel_11356\\4256462338.py\u001b[0m in \u001b[0;36m<module>\u001b[1;34m\u001b[0m\n\u001b[0;32m      1\u001b[0m \u001b[0msolver\u001b[0m \u001b[1;33m=\u001b[0m \u001b[0mpo\u001b[0m\u001b[1;33m.\u001b[0m\u001b[0mSolverFactory\u001b[0m\u001b[1;33m(\u001b[0m\u001b[1;34m'couenne'\u001b[0m\u001b[1;33m)\u001b[0m\u001b[1;33m\u001b[0m\u001b[1;33m\u001b[0m\u001b[0m\n\u001b[0;32m      2\u001b[0m \u001b[0msolver\u001b[0m\u001b[1;33m.\u001b[0m\u001b[0moptions\u001b[0m\u001b[1;33m[\u001b[0m\u001b[1;34m'tol'\u001b[0m\u001b[1;33m]\u001b[0m\u001b[1;33m=\u001b[0m\u001b[1;36m1e-6\u001b[0m\u001b[1;33m\u001b[0m\u001b[1;33m\u001b[0m\u001b[0m\n\u001b[1;32m----> 3\u001b[1;33m \u001b[0msolver\u001b[0m\u001b[1;33m.\u001b[0m\u001b[0msolve\u001b[0m\u001b[1;33m(\u001b[0m\u001b[0mmodel\u001b[0m\u001b[1;33m)\u001b[0m\u001b[1;33m\u001b[0m\u001b[1;33m\u001b[0m\u001b[0m\n\u001b[0m\u001b[0;32m      4\u001b[0m \u001b[0mprint\u001b[0m\u001b[1;33m(\u001b[0m\u001b[0mpe\u001b[0m\u001b[1;33m.\u001b[0m\u001b[0mvalue\u001b[0m\u001b[1;33m(\u001b[0m\u001b[0mmodel\u001b[0m\u001b[1;33m.\u001b[0m\u001b[0mx\u001b[0m\u001b[1;33m)\u001b[0m\u001b[1;33m)\u001b[0m\u001b[1;33m\u001b[0m\u001b[1;33m\u001b[0m\u001b[0m\n\u001b[0;32m      5\u001b[0m \u001b[0mprint\u001b[0m\u001b[1;33m(\u001b[0m\u001b[0mpe\u001b[0m\u001b[1;33m.\u001b[0m\u001b[0mvalue\u001b[0m\u001b[1;33m(\u001b[0m\u001b[0mmodel\u001b[0m\u001b[1;33m.\u001b[0m\u001b[0my\u001b[0m\u001b[1;33m)\u001b[0m\u001b[1;33m)\u001b[0m\u001b[1;33m\u001b[0m\u001b[1;33m\u001b[0m\u001b[0m\n",
      "\u001b[1;32mc:\\Users\\Lenovo\\anaconda3\\envs\\myenv\\lib\\site-packages\\pyomo\\opt\\base\\solvers.py\u001b[0m in \u001b[0;36msolve\u001b[1;34m(self, *args, **kwds)\u001b[0m\n\u001b[0;32m    594\u001b[0m                 \u001b[1;32melif\u001b[0m \u001b[0mhasattr\u001b[0m\u001b[1;33m(\u001b[0m\u001b[0m_status\u001b[0m\u001b[1;33m,\u001b[0m \u001b[1;34m'log'\u001b[0m\u001b[1;33m)\u001b[0m \u001b[1;32mand\u001b[0m \u001b[0m_status\u001b[0m\u001b[1;33m.\u001b[0m\u001b[0mlog\u001b[0m\u001b[1;33m:\u001b[0m\u001b[1;33m\u001b[0m\u001b[1;33m\u001b[0m\u001b[0m\n\u001b[0;32m    595\u001b[0m                     \u001b[0mlogger\u001b[0m\u001b[1;33m.\u001b[0m\u001b[0merror\u001b[0m\u001b[1;33m(\u001b[0m\u001b[1;34m\"Solver log:\\n\"\u001b[0m \u001b[1;33m+\u001b[0m \u001b[0mstr\u001b[0m\u001b[1;33m(\u001b[0m\u001b[0m_status\u001b[0m\u001b[1;33m.\u001b[0m\u001b[0mlog\u001b[0m\u001b[1;33m)\u001b[0m\u001b[1;33m)\u001b[0m\u001b[1;33m\u001b[0m\u001b[1;33m\u001b[0m\u001b[0m\n\u001b[1;32m--> 596\u001b[1;33m                 raise ApplicationError(\n\u001b[0m\u001b[0;32m    597\u001b[0m                     \"Solver (%s) did not exit normally\" % self.name)\n\u001b[0;32m    598\u001b[0m             \u001b[0msolve_completion_time\u001b[0m \u001b[1;33m=\u001b[0m \u001b[0mtime\u001b[0m\u001b[1;33m.\u001b[0m\u001b[0mtime\u001b[0m\u001b[1;33m(\u001b[0m\u001b[1;33m)\u001b[0m\u001b[1;33m\u001b[0m\u001b[1;33m\u001b[0m\u001b[0m\n",
      "\u001b[1;31mApplicationError\u001b[0m: Solver (asl) did not exit normally"
     ]
    }
   ],
   "source": [
    "solver = po.SolverFactory('couenne')\n",
    "solver.options['tol']=1e-6\n",
    "solver.solve(model)\n",
    "print(pe.value(model.x))\n",
    "print(pe.value(model.y))"
   ]
  },
  {
   "cell_type": "markdown",
   "metadata": {},
   "source": [
    "#### **Solving the model using a decompostion method**"
   ]
  },
  {
   "cell_type": "code",
   "execution_count": 4,
   "metadata": {},
   "outputs": [
    {
     "name": "stderr",
     "output_type": "stream",
     "text": [
      "Starting MindtPy version 0.1.0 using OA algorithm\n",
      "iteration_limit: 50\n",
      "stalling_limit: 15\n",
      "time_limit: 3600\n",
      "strategy: OA\n",
      "add_regularization: None\n",
      "call_after_main_solve: <pyomo.contrib.gdpopt.util._DoNothing object at 0x0000027C6802E9A0>\n",
      "call_after_subproblem_solve: <pyomo.contrib.gdpopt.util._DoNothing object at 0x0000027C6802E9D0>\n",
      "call_after_subproblem_feasible: <pyomo.contrib.gdpopt.util._DoNothing object at 0x0000027C6802EA00>\n",
      "tee: true\n",
      "logger: <Logger pyomo.contrib.mindtpy (INFO)>\n",
      "logging_level: 20\n",
      "integer_to_binary: false\n",
      "add_no_good_cuts: false\n",
      "use_tabu_list: false\n",
      "single_tree: false\n",
      "solution_pool: false\n",
      "num_solution_iteration: 5\n",
      "cycling_check: true\n",
      "feasibility_norm: L_infinity\n",
      "differentiate_mode: reverse_symbolic\n",
      "use_mcpp: false\n",
      "calculate_dual_at_solution: false\n",
      "use_fbbt: false\n",
      "use_dual_bound: true\n",
      "partition_obj_nonlinear_terms: true\n",
      "quadratic_strategy: 0\n",
      "move_objective: false\n",
      "add_cuts_at_incumbent: false\n",
      "heuristic_nonconvex: false\n",
      "init_strategy: rNLP\n",
      "level_coef: 0.5\n",
      "solution_limit: 10\n",
      "reduce_level_coef: false\n",
      "use_bb_tree_incumbent: false\n",
      "sqp_lag_scaling_coef: fixed\n",
      "fp_cutoffdecr: 0.1\n",
      "fp_iteration_limit: 20\n",
      "fp_projcuts: true\n",
      "fp_transfercuts: true\n",
      "fp_projzerotol: 0.0001\n",
      "fp_mipgap: 0.01\n",
      "fp_discrete_only: true\n",
      "fp_main_norm: L1\n",
      "fp_norm_constraint: true\n",
      "fp_norm_constraint_coef: 1.0\n",
      "add_slack: false\n",
      "max_slack: 1000.0\n",
      "OA_penalty_factor: 1000.0\n",
      "equality_relaxation: false\n",
      "linearize_inactive: false\n",
      "nlp_solver: ipopt\n",
      "nlp_solver_args:\n",
      "mip_solver: glpk\n",
      "mip_solver_args:\n",
      "mip_solver_mipgap: 0.0001\n",
      "threads: 0\n",
      "regularization_mip_threads: 0\n",
      "solver_tee: false\n",
      "mip_solver_tee: false\n",
      "nlp_solver_tee: false\n",
      "mip_regularization_solver: None\n",
      "absolute_bound_tolerance: 0.0001\n",
      "relative_bound_tolerance: 0.001\n",
      "small_dual_tolerance: 1.0e-08\n",
      "integer_tolerance: 1.0e-05\n",
      "constraint_tolerance: 1.0e-06\n",
      "variable_tolerance: 1.0e-08\n",
      "zero_tolerance: 1.0e-08\n",
      "obj_bound: 1000000000000000.0\n",
      "continuous_var_bound: 10000000000.0\n",
      "integer_var_bound: 1000000000.0\n",
      "initial_bound_coef: 0.1\n",
      "\n",
      "-----------------------------------------------------------------------------------------------\n",
      "               Mixed-Integer Nonlinear Decomposition Toolbox in Pyomo (MindtPy)                \n",
      "-----------------------------------------------------------------------------------------------\n",
      "For more information, please visit \n",
      "https://pyomo.readthedocs.io/en/stable/contributed_packages/mindtpy.html\n",
      "If you use this software, please cite the following:\n",
      "Bernal, David E., et al. Mixed-integer nonlinear decomposition toolbox for Pyomo (MindtPy).\n",
      "Computer Aided Chemical Engineering. Vol. 44. Elsevier, 2018. 895-900.\n",
      "\n",
      "Original model has 3 constraints (1 nonlinear) and 0 disjunctions, with 2 variables, of which 0 are binary, 1 are integer, and 1 are continuous.\n",
      "rNLP is the initial strategy being used.\n",
      "\n",
      " ===============================================================================================\n",
      " Iteration | Subproblem Type | Objective Value | Primal Bound |   Dual Bound |   Gap   | Time(s)\n",
      "\n",
      "Objective is nonlinear. Moving it to constraint set.\n",
      "         -       Relaxed NLP           12.4101           -inf        12.4101      nan%      0.16\n",
      "         1              MILP              11.5           -inf           11.5      nan%      0.26\n",
      "*        1         Fixed NLP              11.5           11.5           11.5    -0.00%      0.34\n",
      "MindtPy exiting on bound convergence. Absolute gap: -1.1748232608965736e-07 <= absolute tolerance: 0.0001 \n",
      "\n",
      " ===============================================================================================\n",
      " Primal integral          :    0.0000 \n",
      " Dual integral            :    0.1461 \n",
      " Primal-dual gap integral :    0.1461 \n"
     ]
    },
    {
     "name": "stdout",
     "output_type": "stream",
     "text": [
      "----------------------------------------\n",
      "5.0\n",
      "1.300000012498684\n"
     ]
    }
   ],
   "source": [
    "solver = po.SolverFactory('mindtpy')\n",
    "solver.solve(model,\n",
    "            strategy='OA',\n",
    "            time_limit=3600,\n",
    "            mip_solver='glpk',\n",
    "            nlp_solver='ipopt',\n",
    "            tee=True)\n",
    "solver.solve(model)\n",
    "print(\"--\"*20)\n",
    "print(pe.value(model.x))\n",
    "print(pe.value(model.y))"
   ]
  }
 ],
 "metadata": {
  "kernelspec": {
   "display_name": "myenv",
   "language": "python",
   "name": "python3"
  },
  "language_info": {
   "codemirror_mode": {
    "name": "ipython",
    "version": 3
   },
   "file_extension": ".py",
   "mimetype": "text/x-python",
   "name": "python",
   "nbconvert_exporter": "python",
   "pygments_lexer": "ipython3",
   "version": "3.9.13"
  },
  "orig_nbformat": 4
 },
 "nbformat": 4,
 "nbformat_minor": 2
}
