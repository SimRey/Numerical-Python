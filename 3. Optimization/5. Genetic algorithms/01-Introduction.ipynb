{
 "cells": [
  {
   "cell_type": "markdown",
   "metadata": {},
   "source": [
    "### **Introduction**\n",
    "\n",
    "Let's start with a purely mathematical example:\n",
    "\n",
    "$$\\begin{align*} \\max_{x} \\quad & x + yx \\\\\n",
    "\\mathrm{s.t.} \\quad & -x + 2yx \\le 8 \\\\\n",
    "& 2x+y \\le 14 \\\\\n",
    "& 2x-y \\le 10\n",
    "\\end{align*} $$\n",
    "\n",
    "Genetic algorithms can be used to solve MINLP "
   ]
  },
  {
   "cell_type": "markdown",
   "metadata": {},
   "source": [
    "#### **Genetic algrotihm package**"
   ]
  },
  {
   "cell_type": "code",
   "execution_count": 5,
   "metadata": {},
   "outputs": [],
   "source": [
    "import numpy as np \n",
    "from geneticalgorithm2 import geneticalgorithm2 as ga"
   ]
  },
  {
   "cell_type": "code",
   "execution_count": 6,
   "metadata": {},
   "outputs": [
    {
     "name": "stdout",
     "output_type": "stream",
     "text": [
      "\n",
      "Set: Average time of function evaluating (secs): 0.0 (total = 0.0)\n",
      "\n",
      "Best score before optimization: -10.098046444162064\n",
      "||__________________ 10.6% GA is running...55 gen from 520...best value = -11.454068683024127"
     ]
    },
    {
     "name": "stderr",
     "output_type": "stream",
     "text": [
      "c:\\Users\\Lenovo\\anaconda3\\envs\\myenv\\lib\\site-packages\\geneticalgorithm2\\selections.py:35: RuntimeWarning: invalid value encountered in subtract\n",
      "  return (np.amax(normobj) + 1) - normobj\n"
     ]
    },
    {
     "name": "stdout",
     "output_type": "stream",
     "text": [
      "                                                                                                                                                                                                        \n",
      " The best found solution:\n",
      " [5.         1.29839534]\n",
      "\n",
      " Objective function:\n",
      " -11.491976704348545\n",
      "\n",
      " Used generations: 520\n",
      " Used time: 1.76 seconds\n"
     ]
    },
    {
     "data": {
      "image/png": "[encoded data removed]",
      "text/plain": [
       "<Figure size 640x480 with 1 Axes>"
      ]
     },
     "metadata": {},
     "output_type": "display_data"
    },
    {
     "data": {
      "text/plain": [
       "GAResult(last_generation=Generation(variables=array([[5.        , 1.29839534],\n",
       "       [5.        , 1.29839534],\n",
       "       [5.        , 1.29839534],\n",
       "       [5.        , 1.29839534],\n",
       "       [5.        , 1.29839534],\n",
       "       [5.        , 1.29839534],\n",
       "       [5.        , 1.29839534],\n",
       "       [5.        , 1.29839534],\n",
       "       [5.        , 1.29839534],\n",
       "       [5.        , 1.29839534],\n",
       "       [5.        , 1.29839534],\n",
       "       [5.        , 1.29839534],\n",
       "       [5.        , 1.29839534],\n",
       "       [5.        , 1.29839534],\n",
       "       [5.        , 1.29839534],\n",
       "       [5.        , 1.29839534],\n",
       "       [5.        , 1.29839534],\n",
       "       [5.        , 1.29839534],\n",
       "       [5.        , 1.29839534],\n",
       "       [5.        , 1.29839534],\n",
       "       [5.        , 1.29839534],\n",
       "       [5.        , 1.29839534],\n",
       "       [5.        , 1.29839534],\n",
       "       [5.        , 1.29839534],\n",
       "       [5.        , 1.29839534],\n",
       "       [5.        , 1.29839534],\n",
       "       [5.        , 1.29839534],\n",
       "       [5.        , 1.29839534],\n",
       "       [5.        , 1.29839534],\n",
       "       [5.        , 1.29839534],\n",
       "       [5.        , 1.29839534],\n",
       "       [5.        , 1.29839534],\n",
       "       [5.        , 1.29839534],\n",
       "       [5.        , 1.29839534],\n",
       "       [5.        , 1.29839534],\n",
       "       [5.        , 1.29839534],\n",
       "       [5.        , 1.29839534],\n",
       "       [5.        , 1.29839534],\n",
       "       [5.        , 1.29839534],\n",
       "       [5.        , 1.29839534],\n",
       "       [5.        , 1.29839534],\n",
       "       [5.        , 1.29839534],\n",
       "       [5.        , 1.29839534],\n",
       "       [5.        , 1.29839534],\n",
       "       [5.        , 1.29839534],\n",
       "       [5.        , 1.29839534],\n",
       "       [5.        , 1.29839534],\n",
       "       [5.        , 1.29839534],\n",
       "       [5.        , 1.29839534],\n",
       "       [5.        , 1.29839534],\n",
       "       [5.        , 1.29839534],\n",
       "       [5.        , 1.29839534],\n",
       "       [5.        , 1.29839534],\n",
       "       [5.        , 1.29839534],\n",
       "       [5.        , 1.29839534],\n",
       "       [5.        , 1.29839534],\n",
       "       [5.        , 1.29839534],\n",
       "       [5.        , 1.29839534],\n",
       "       [5.        , 1.29839534],\n",
       "       [5.        , 1.29839534],\n",
       "       [5.        , 1.29839534],\n",
       "       [5.        , 1.29839534],\n",
       "       [5.        , 1.29839534],\n",
       "       [5.        , 1.29839534],\n",
       "       [5.        , 1.29839534],\n",
       "       [5.        , 1.29839534],\n",
       "       [5.        , 1.29839534],\n",
       "       [5.        , 1.29839534],\n",
       "       [5.        , 1.29839534],\n",
       "       [5.        , 1.29839534],\n",
       "       [5.        , 1.29839534],\n",
       "       [5.        , 1.29839534],\n",
       "       [5.        , 1.29839534],\n",
       "       [5.        , 1.29839534],\n",
       "       [5.        , 1.29839534],\n",
       "       [5.        , 1.29839534],\n",
       "       [5.        , 1.29839534],\n",
       "       [5.        , 1.29839534],\n",
       "       [5.        , 1.29839534],\n",
       "       [5.        , 1.29839534],\n",
       "       [5.        , 1.29839534],\n",
       "       [5.        , 1.29839534],\n",
       "       [5.        , 1.29839534],\n",
       "       [5.        , 1.29839534],\n",
       "       [5.        , 1.29839534],\n",
       "       [5.        , 1.29839534],\n",
       "       [5.        , 1.29839534],\n",
       "       [5.        , 1.29839534],\n",
       "       [5.        , 1.29839534],\n",
       "       [5.        , 1.29839534],\n",
       "       [4.        , 1.29839534],\n",
       "       [3.        , 1.29839534],\n",
       "       [2.        , 1.29839534],\n",
       "       [5.        , 6.73069528],\n",
       "       [5.        , 5.93696277],\n",
       "       [5.        , 6.48469792],\n",
       "       [5.        , 4.14921252],\n",
       "       [5.        , 7.7877049 ],\n",
       "       [6.        , 1.29839534],\n",
       "       [7.        , 1.29839534]]), scores=array([-11.4919767 , -11.4919767 , -11.4919767 , -11.4919767 ,\n",
       "       -11.4919767 , -11.4919767 , -11.4919767 , -11.4919767 ,\n",
       "       -11.4919767 , -11.4919767 , -11.4919767 , -11.4919767 ,\n",
       "       -11.4919767 , -11.4919767 , -11.4919767 , -11.4919767 ,\n",
       "       -11.4919767 , -11.4919767 , -11.4919767 , -11.4919767 ,\n",
       "       -11.4919767 , -11.4919767 , -11.4919767 , -11.4919767 ,\n",
       "       -11.4919767 , -11.4919767 , -11.4919767 , -11.4919767 ,\n",
       "       -11.4919767 , -11.4919767 , -11.4919767 , -11.4919767 ,\n",
       "       -11.4919767 , -11.4919767 , -11.4919767 , -11.4919767 ,\n",
       "       -11.4919767 , -11.4919767 , -11.4919767 , -11.4919767 ,\n",
       "       -11.4919767 , -11.4919767 , -11.4919767 , -11.4919767 ,\n",
       "       -11.4919767 , -11.4919767 , -11.4919767 , -11.4919767 ,\n",
       "       -11.4919767 , -11.4919767 , -11.4919767 , -11.4919767 ,\n",
       "       -11.4919767 , -11.4919767 , -11.4919767 , -11.4919767 ,\n",
       "       -11.4919767 , -11.4919767 , -11.4919767 , -11.4919767 ,\n",
       "       -11.4919767 , -11.4919767 , -11.4919767 , -11.4919767 ,\n",
       "       -11.4919767 , -11.4919767 , -11.4919767 , -11.4919767 ,\n",
       "       -11.4919767 , -11.4919767 , -11.4919767 , -11.4919767 ,\n",
       "       -11.4919767 , -11.4919767 , -11.4919767 , -11.4919767 ,\n",
       "       -11.4919767 , -11.4919767 , -11.4919767 , -11.4919767 ,\n",
       "       -11.4919767 , -11.4919767 , -11.4919767 , -11.4919767 ,\n",
       "       -11.4919767 , -11.4919767 , -11.4919767 , -11.4919767 ,\n",
       "       -11.4919767 , -11.4919767 ,  -9.19358136,  -6.89518602,\n",
       "        -4.59679068,          inf,          inf,          inf,\n",
       "                inf,          inf,          inf,          inf])))"
      ]
     },
     "execution_count": 6,
     "metadata": {},
     "output_type": "execute_result"
    }
   ],
   "source": [
    "# Model\n",
    "\n",
    "def f(vars):\n",
    "    x = vars[0]\n",
    "    y = vars[1]\n",
    "\n",
    "\n",
    "    pen = 0\n",
    "    if not -x + 2*x*y <= 8:\n",
    "        pen = np.inf\n",
    "    if not 2*x + y <= 14:\n",
    "        pen = np.inf\n",
    "    if not 2*x - y <= 10:\n",
    "        pen = np.inf\n",
    "\n",
    "    return -(x + y*x) + pen\n",
    "\n",
    "\n",
    "varbounds = [[0, 10], [0, 10]]\n",
    "vartype = (\"int\", \"real\")\n",
    "\n",
    "model = ga(function=f, dimension=2, variable_type=vartype, variable_boundaries=varbounds)\n",
    "model.run()"
   ]
  },
  {
   "cell_type": "markdown",
   "metadata": {},
   "source": [
    "#### **Particle swarm**"
   ]
  },
  {
   "cell_type": "code",
   "execution_count": 7,
   "metadata": {},
   "outputs": [],
   "source": [
    "from pyswarm import  pso"
   ]
  },
  {
   "cell_type": "code",
   "execution_count": 8,
   "metadata": {},
   "outputs": [
    {
     "name": "stdout",
     "output_type": "stream",
     "text": [
      "Stopping search: Swarm best objective change less than 1e-08\n"
     ]
    },
    {
     "data": {
      "text/plain": [
       "(array([4.74506894, 1.3       ]), -11.499999994693649)"
      ]
     },
     "execution_count": 8,
     "metadata": {},
     "output_type": "execute_result"
    }
   ],
   "source": [
    "lb = np.array([0,0])\n",
    "ub = np.array([10,10])\n",
    "x0 = np.array([0,0])\n",
    "\n",
    "\n",
    "def model_obj(vars):\n",
    "    x = vars[0]\n",
    "    y = vars[1]\n",
    "    x = np.round(x, 0)\n",
    "    return -(x + y*x)\n",
    "\n",
    "def cons(vars):\n",
    "    x = vars[0]\n",
    "    y = vars[1]\n",
    "    x = np.round(x, 0)\n",
    "    c1 = 8 - (-x + 2*x*y)\n",
    "    c2 = 14 - (2*x + y)\n",
    "    c3 = 10 - (2*x - y)\n",
    "\n",
    "    cons = [c1, c2, c3]\n",
    "\n",
    "    return cons\n",
    "\n",
    "xopt, fopt = pso(model_obj, lb, ub, x0, f_ieqcons=cons)\n",
    "xopt, fopt"
   ]
  }
 ],
 "metadata": {
  "kernelspec": {
   "display_name": "myenv",
   "language": "python",
   "name": "python3"
  },
  "language_info": {
   "codemirror_mode": {
    "name": "ipython",
    "version": 3
   },
   "file_extension": ".py",
   "mimetype": "text/x-python",
   "name": "python",
   "nbconvert_exporter": "python",
   "pygments_lexer": "ipython3",
   "version": "3.9.13"
  },
  "orig_nbformat": 4
 },
 "nbformat": 4,
 "nbformat_minor": 2
}
