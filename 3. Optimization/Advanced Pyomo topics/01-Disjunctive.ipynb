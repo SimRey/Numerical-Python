{
 "cells": [
  {
   "cell_type": "markdown",
   "metadata": {},
   "source": [
    "### Introduction to Big-M reformulation - Disjunctive programming\n",
    "Suppose that you have 3 machines to manufacture shoes, and the cost of each machine is:\n",
    "$$𝐶_1 = 2𝑛_1$$\n",
    "$$𝐶_2 = 6𝑛_2$$\n",
    "$$𝐶_3 = 7𝑛_3$$\n",
    "where $𝐶_𝑖$ is cost for production of machine $i$, $𝑛_𝑖$ is the number of shoes manufactured in machine $i$.\n",
    "Each machine has a limit of production of 1.000 shoes. For a total production of 2.100 shoes, how many shoes should each machine made in order to minimize the total cost?\n",
    "\n",
    "**Machine 2 has a start cost of 1000.**"
   ]
  },
  {
   "cell_type": "markdown",
   "metadata": {},
   "source": [
    "$$\\begin{align*} \\min \\quad & C_1 + C_2 + C_3 \\\\\n",
    "\\mathrm{s.t.} \\quad & 𝐶_1 = 2𝑛_1\\\\\n",
    "& 𝐶_2 = 6𝑛_2 +1000y\\\\\n",
    "& n_2 \\le M*y\\\\\n",
    "& 𝐶_3 = 7𝑛_3 \\\\\n",
    "& n_1 + n_2 + n_3 = 2100\\\\\n",
    "& 0 \\leq n_1, n_2, n_3 \\leq 1000\n",
    "&& n_i \\in \\mathrm{integers}\\\\\n",
    "& y \\in \\mathrm{binary}\n",
    "\\end{align*} $$"
   ]
  },
  {
   "cell_type": "code",
   "execution_count": 7,
   "metadata": {},
   "outputs": [],
   "source": [
    "import pyomo.environ as pe\n",
    "import pyomo.opt as po"
   ]
  },
  {
   "cell_type": "code",
   "execution_count": 8,
   "metadata": {},
   "outputs": [],
   "source": [
    "m = pe.ConcreteModel()\n",
    "M = 1e4\n",
    "\n",
    "m.S = pe.RangeSet(1,3)\n",
    "m.n = pe.Var(m.S, domain=pe.NonNegativeIntegers, bounds=(0,1000))\n",
    "m.C = pe.Var(m.S, domain=pe.Reals)\n",
    "m.y = pe.Var(domain=pe.Binary)\n",
    "\n",
    "m.cons1 = pe.Constraint(expr=(pe.summation(m.n) == 2100)) # pe.summation sums all variables from all sets\n",
    "m.cons2 = pe.Constraint(expr=(2*m.n[1] == m.C[1]))\n",
    "m.cons3 = pe.Constraint(expr=((6*m.n[2] + 1000)*m.y == m.C[2]))\n",
    "m.cons4 = pe.Constraint(expr=(m.n[2] <= M*m.y))\n",
    "m.cons5 = pe.Constraint(expr=(7*m.n[3] == m.C[3]))\n",
    "\n",
    "m.obj = pe.Objective(expr=pe.summation(m.C),sense=pe.minimize)"
   ]
  },
  {
   "cell_type": "code",
   "execution_count": 9,
   "metadata": {},
   "outputs": [
    {
     "name": "stdout",
     "output_type": "stream",
     "text": [
      "n1 1000.0\n",
      "n2 1000.0\n",
      "n3 100.00000000000014\n",
      "Total 2100.0\n",
      "\n",
      "y 1.0\n",
      "\n",
      "C1 2000.0\n",
      "C2 7000.0\n",
      "C3 700.000000000001\n",
      "CTotal 9700.000000000002\n"
     ]
    }
   ],
   "source": [
    "solver = po.SolverFactory('couenne') \n",
    "results = solver.solve(m)\n",
    "\n",
    "print('n1', pe.value(m.n[1]))\n",
    "print('n2', pe.value(m.n[2]))\n",
    "print('n3', pe.value(m.n[3]))\n",
    "print('Total', pe.value(pe.summation(m.n)))\n",
    "\n",
    "print('\\ny', pe.value(m.y))\n",
    "\n",
    "print('\\nC1', pe.value(m.C[1]))\n",
    "print('C2', pe.value(m.C[2]))\n",
    "print('C3', pe.value(m.C[3]))\n",
    "print('CTotal', pe.value(pe.summation(m.C)))"
   ]
  },
  {
   "cell_type": "markdown",
   "metadata": {},
   "source": [
    "----"
   ]
  },
  {
   "cell_type": "markdown",
   "metadata": {},
   "source": [
    "Suppose that you have 3 machines to manufacture shoes, and the cost of each machine is:\n",
    "$$𝐶_1 = 2𝑛_1$$\n",
    "$$𝐶_2 = 6𝑛_2$$\n",
    "$$𝐶_3 = 7𝑛_3$$\n",
    "where $𝐶_𝑖$ is cost for production of machine $i$, $𝑛_𝑖$ is the number of shoes manufactured in machine $i$.\n",
    "Each machine has a limit of production of 1.000 shoes. For a total production of 2.100 shoes, how many shoes should each machine made in order to minimize the total cost?\n",
    "\n",
    "**Machine 2 can only be ON if Machine 1 is ON**"
   ]
  },
  {
   "cell_type": "markdown",
   "metadata": {},
   "source": [
    "$$\\begin{align*} \\min \\quad & C_1 + C_2 + C_3 \\\\\n",
    "\\mathrm{s.t.} \\quad & 𝐶_1 = 2𝑛_1\\\\\n",
    "& n_1 \\le M*y_1\\\\\n",
    "& 𝐶_2 = 6𝑛_2\\\\\n",
    "& n_2 \\le M*y_1*y_2\\\\\n",
    "& 𝐶_3 = 7𝑛_3 \\\\\n",
    "& n_1 + n_2 + n_3 = 2100\\\\\n",
    "& 0 \\leq n_1, n_2, n_3 \\leq 1000\n",
    "&& n_i \\in \\mathrm{integers}\\\\\n",
    "& y_i \\in \\mathrm{binary}\n",
    "\\end{align*} $$"
   ]
  },
  {
   "cell_type": "code",
   "execution_count": 10,
   "metadata": {},
   "outputs": [
    {
     "name": "stdout",
     "output_type": "stream",
     "text": [
      "n1 1000.0\n",
      "n2 999.9999909999849\n",
      "n3 100.0000090000151\n",
      "Total 2100.0\n",
      "\n",
      "y1 1.0\n",
      "y2 1.0\n",
      "\n",
      "C1 2000.0\n",
      "C2 5999.99994599991\n",
      "C3 700.0000630001057\n",
      "CTotal 8700.000009000016\n"
     ]
    }
   ],
   "source": [
    "m = pe.ConcreteModel()\n",
    "M = 1e7\n",
    "\n",
    "m.S = pe.RangeSet(1,3)\n",
    "m.n = pe.Var(m.S, domain=pe.NonNegativeIntegers, bounds=(0,1000))\n",
    "m.C = pe.Var(m.S, domain=pe.Reals)\n",
    "m.y1 = pe.Var(domain=pe.Binary)\n",
    "m.y2 = pe.Var(domain=pe.Binary)\n",
    "\n",
    "m.cons1 = pe.Constraint(expr=(pe.summation(m.n) == 2100))\n",
    "m.cons2 = pe.Constraint(expr=(2*m.n[1] == m.C[1]))\n",
    "m.conss2 = pe.Constraint(expr=(m.n[1] <= M*m.y1))\n",
    "m.cons3 = pe.Constraint(expr=(6*m.n[2] == m.C[2]))\n",
    "m.cons4 = pe.Constraint(expr=(m.n[2] <= M*m.y1*m.y2))\n",
    "m.cons5 = pe.Constraint(expr=(7*m.n[3] == m.C[3]))\n",
    "\n",
    "m.obj = pe.Objective(expr=pe.summation(m.C),sense=pe.minimize)\n",
    "\n",
    "\n",
    "solver = po.SolverFactory('couenne') \n",
    "results = solver.solve(m)\n",
    "\n",
    "print('n1', pe.value(m.n[1]))\n",
    "print('n2', pe.value(m.n[2]))\n",
    "print('n3', pe.value(m.n[3]))\n",
    "print('Total', pe.value(pe.summation(m.n)))\n",
    "\n",
    "print('\\ny1', pe.value(m.y1))\n",
    "print('y2', pe.value(m.y2))\n",
    "\n",
    "print('\\nC1', pe.value(m.C[1]))\n",
    "print('C2', pe.value(m.C[2]))\n",
    "print('C3', pe.value(m.C[3]))\n",
    "print('CTotal', pe.value(pe.summation(m.C)))"
   ]
  },
  {
   "cell_type": "markdown",
   "metadata": {},
   "source": [
    "In this case the problem can be transformed to a linear problem, adding a new variable $z$\n",
    "\n",
    "$$\\begin{align*} \\min \\quad & C_1 + C_2 + C_3 \\\\\n",
    "\\mathrm{s.t.} \\quad & 𝐶_1 = 2𝑛_1\\\\\n",
    "& n_1 \\le M*y_1\\\\\n",
    "& 𝐶_2 = 6𝑛_2\\\\\n",
    "& n_2 \\le M*z\\\\\n",
    "& z \\le y_1\\\\\n",
    "& z \\le y_2\\\\\n",
    "& z \\ge y_1 + y_2 -1 \\\\\n",
    "& 𝐶_3 = 7𝑛_3 \\\\\n",
    "& n_1 + n_2 + n_3 = 2100\\\\\n",
    "& 0 \\leq n_1, n_2, n_3 \\leq 1000\n",
    "&& n_i \\in \\mathrm{integers}\\\\\n",
    "& y_i, z \\in \\mathrm{binary}\n",
    "\\end{align*} $$"
   ]
  },
  {
   "cell_type": "code",
   "execution_count": 11,
   "metadata": {},
   "outputs": [
    {
     "name": "stdout",
     "output_type": "stream",
     "text": [
      "n1 1000.0\n",
      "n2 1000.0\n",
      "n3 100.0\n",
      "Total 2100.0\n",
      "\n",
      "y1 1.0\n",
      "y2 1.0\n",
      "z 1.0\n",
      "\n",
      "C1 2000.0\n",
      "C2 6000.0\n",
      "C3 700.0\n",
      "CTotal 8700.0\n"
     ]
    }
   ],
   "source": [
    "m = pe.ConcreteModel()\n",
    "M = 1e7\n",
    "\n",
    "m.S = pe.RangeSet(1,3)\n",
    "m.n = pe.Var(m.S, domain=pe.NonNegativeIntegers, bounds=(0,1000))\n",
    "m.C = pe.Var(m.S, domain=pe.Reals)\n",
    "m.y1 = pe.Var(domain=pe.Binary)\n",
    "m.y2 = pe.Var(domain=pe.Binary)\n",
    "m.z = pe.Var(domain=pe.Binary)\n",
    "\n",
    "m.cons1 = pe.Constraint(expr=(pe.summation(m.n) == 2100))\n",
    "m.cons2 = pe.Constraint(expr=(2*m.n[1] == m.C[1]))\n",
    "m.conss2 = pe.Constraint(expr=(m.n[1] <= M*m.y1))\n",
    "m.conss2z = pe.Constraint(expr=(m.z <= m.y1))\n",
    "m.cons3 = pe.Constraint(expr=(6*m.n[2] == m.C[2]))\n",
    "m.cons4 = pe.Constraint(expr=(m.n[2] <= M*m.z))\n",
    "m.conss4 = pe.Constraint(expr=(m.z <= m.y2))\n",
    "m.conss4z = pe.Constraint(expr=(m.z >= m.y1 + m.y2 - 1))\n",
    "m.cons5 = pe.Constraint(expr=(7*m.n[3] == m.C[3]))\n",
    "m.consos1 = pe.Constraint() \n",
    "\n",
    "m.obj = pe.Objective(expr=pe.summation(m.C),sense=pe.minimize)\n",
    "\n",
    "\n",
    "solver = po.SolverFactory('glpk') \n",
    "results = solver.solve(m)\n",
    "\n",
    "print('n1', pe.value(m.n[1]))\n",
    "print('n2', pe.value(m.n[2]))\n",
    "print('n3', pe.value(m.n[3]))\n",
    "print('Total', pe.value(pe.summation(m.n)))\n",
    "\n",
    "print('\\ny1', pe.value(m.y1))\n",
    "print('y2', pe.value(m.y2))\n",
    "print('z', pe.value(m.z))\n",
    "\n",
    "print('\\nC1', pe.value(m.C[1]))\n",
    "print('C2', pe.value(m.C[2]))\n",
    "print('C3', pe.value(m.C[3]))\n",
    "print('CTotal', pe.value(pe.summation(m.C)))"
   ]
  }
 ],
 "metadata": {
  "kernelspec": {
   "display_name": "myenv",
   "language": "python",
   "name": "python3"
  },
  "language_info": {
   "codemirror_mode": {
    "name": "ipython",
    "version": 3
   },
   "file_extension": ".py",
   "mimetype": "text/x-python",
   "name": "python",
   "nbconvert_exporter": "python",
   "pygments_lexer": "ipython3",
   "version": "3.9.13"
  },
  "orig_nbformat": 4
 },
 "nbformat": 4,
 "nbformat_minor": 2
}
