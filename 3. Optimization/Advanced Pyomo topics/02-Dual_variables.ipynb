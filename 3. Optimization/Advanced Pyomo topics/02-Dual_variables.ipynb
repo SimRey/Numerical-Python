{
 "cells": [
  {
   "cell_type": "markdown",
   "metadata": {},
   "source": [
    "### Dual variables of the Problem\n",
    "\n",
    "When we work with exact models in Pyomo we can have access to the dual variables of the problem (Lagrange multipliers or dual variables)\n",
    "\n",
    "*Quickly introduction to dual variables*\n",
    "\n",
    "Suppose you have a problem where we wish to minimize the total cost of production of two machines. And we have the following parameters and variables in the problem.\n",
    "\n",
    "- $C_1$: cost of production of machine 1 (parameter)\n",
    "- $C_2$: cost of production of machine 2 (parameter)\n",
    "- $N_1$: number of products from machine 1 (variable)\n",
    "- $N_2$: number of products from machine 2 (variable)\n",
    "- $N_{max1}$: capacity of production of machine 1 (parameter)\n",
    "- $N_{max2}$: capacity of production of machine 2 (parameter)\n",
    "- $D$: total demand of products (parameter)\n",
    "\n",
    "\n",
    "So, our problem is modelled as:\n",
    "\n",
    "$$\n",
    "\\begin{alignat*}{3}\n",
    "\\text{minimize  }  & C_1*N_1 + C_2*N_2 && \\\\\n",
    "\\text{subject to  }\n",
    "& N_1 + N_2 = D\\\\\n",
    "& N_1 <= N_{max1}\\\\\n",
    "& N_2 <= N_{max2}\n",
    "\\end{alignat*}\n",
    "$$\n",
    "\n",
    "\n",
    "\n",
    "In a mathematical model, each constraint has a dual variable:\n",
    "- $N_1 + N_2 = D$ [lambda]\n",
    "- $N_1 <= N_{max1}$ [phi1]\n",
    "- $N_2 <= N_{max2}$ [phi2]\n",
    "\n",
    "\n",
    "\n",
    "In the example above.\n",
    "\n",
    "If **phi1** is 0, it means that N1 < Nmax1. And this constraint is not in its boundary. \n",
    "If **phi1** is different than 0, it means that N1 = Nmax1. In other words, the constraint is in its boundary. And **phi1** is the \"shadow price\".\n",
    "\n",
    "What does this \"shadow price\" mean? It means that the value of phi1 represents how much you can improve in the objective function if you \"loosen/relax\" the constraint a little. This will be very clear for you in the example below.\n",
    "\n",
    "The same is applied to **phi2**; however, the interpretation of lambda (dual variable for = constraint) is quite more complex and not so important as **phi1** and **phi2**.\n"
   ]
  },
  {
   "cell_type": "code",
   "execution_count": 1,
   "metadata": {},
   "outputs": [],
   "source": [
    "import pyomo.environ as pe\n",
    "import pyomo.opt as po"
   ]
  },
  {
   "cell_type": "code",
   "execution_count": 3,
   "metadata": {},
   "outputs": [],
   "source": [
    "m = pe.ConcreteModel()\n",
    "\n",
    "#variables\n",
    "m.N1 = pe.Var()\n",
    "m.N2 = pe.Var()\n",
    "N1 = m.N1\n",
    "N2 = m.N2\n",
    "\n",
    "#parameters\n",
    "C1 = 100\n",
    "C2 = 300\n",
    "Nmax1 = 31\n",
    "Nmax2 = 100\n",
    "D = 50\n",
    "\n",
    "\n",
    "#objective function and constraints\n",
    "m.obj = pe.Objective(expr = C1*N1+C2*N2)\n",
    "m.C1 = pe.Constraint(expr = N1+N2 == D)\n",
    "m.C2 = pe.Constraint(expr = N1 <= Nmax1)\n",
    "m.C3 = pe.Constraint(expr = N2 <= Nmax2)\n",
    "\n",
    "\n",
    "#solving model\n",
    "m.dual = pe.Suffix(direction=pe.Suffix.IMPORT)\n",
    "opt = po.SolverFactory('glpk')\n",
    "m.results = opt.solve(m)\n"
   ]
  },
  {
   "cell_type": "code",
   "execution_count": 4,
   "metadata": {},
   "outputs": [
    {
     "name": "stdout",
     "output_type": "stream",
     "text": [
      "-------------------- MODEL --------------------\n",
      "2 Var Declarations\n",
      "    N1 : Size=1, Index=None\n",
      "        Key  : Lower : Value : Upper : Fixed : Stale : Domain\n",
      "        None :  None :  31.0 :  None : False : False :  Reals\n",
      "    N2 : Size=1, Index=None\n",
      "        Key  : Lower : Value : Upper : Fixed : Stale : Domain\n",
      "        None :  None :  19.0 :  None : False : False :  Reals\n",
      "\n",
      "1 Objective Declarations\n",
      "    obj : Size=1, Index=None, Active=True\n",
      "        Key  : Active : Sense    : Expression\n",
      "        None :   True : minimize : 100*N1 + 300*N2\n",
      "\n",
      "3 Constraint Declarations\n",
      "    C1 : Size=1, Index=None, Active=True\n",
      "        Key  : Lower : Body    : Upper : Active\n",
      "        None :  50.0 : N1 + N2 :  50.0 :   True\n",
      "    C2 : Size=1, Index=None, Active=True\n",
      "        Key  : Lower : Body : Upper : Active\n",
      "        None :  -Inf :   N1 :  31.0 :   True\n",
      "    C3 : Size=1, Index=None, Active=True\n",
      "        Key  : Lower : Body : Upper : Active\n",
      "        None :  -Inf :   N2 : 100.0 :   True\n",
      "\n",
      "1 Suffix Declarations\n",
      "    dual : Direction=Suffix.IMPORT, Datatype=Suffix.FLOAT\n",
      "        Key : Value\n",
      "         C1 :  300.0\n",
      "         C2 : -200.0\n",
      "         C3 :    0.0\n",
      "\n",
      "7 Declarations: N1 N2 obj C1 C2 C3 dual\n",
      "\n",
      "\n",
      "-------------------- DUAL VARIABLES --------------------\n",
      "dual : Direction=Suffix.IMPORT, Datatype=Suffix.FLOAT\n",
      "    Key : Value\n",
      "     C1 :  300.0\n",
      "     C2 : -200.0\n",
      "     C3 :    0.0\n",
      "\n",
      "\n",
      "-------------------- Value of ObjFun --------------------\n",
      "Objective Function is 8800.00\n"
     ]
    }
   ],
   "source": [
    "#dual variables\n",
    "print('-'*20 + ' MODEL ' + '-'*20)\n",
    "m.pprint() \n",
    " \n",
    "#prints the model\n",
    "print('\\n\\n'+'-'*20 + ' DUAL VARIABLES ' + '-'*20)\n",
    "m.dual.pprint() \n",
    " \n",
    "#prints the dual variables\n",
    "print('\\n\\n'+'-'*20 + ' Value of ObjFun ' + '-'*20)\n",
    "print('Objective Function is %.2f' % (pe.value(m.obj)))\n",
    " "
   ]
  },
  {
   "cell_type": "code",
   "execution_count": 5,
   "metadata": {},
   "outputs": [],
   "source": [
    "#access a single dual variable\n",
    "mydual = m.dual[m.C2]"
   ]
  },
  {
   "cell_type": "markdown",
   "metadata": {},
   "source": [
    "Now the dual variables can be accessed typing m.dual.pprint()."
   ]
  },
  {
   "cell_type": "markdown",
   "metadata": {},
   "source": [
    "This is very important.\n",
    "\n",
    "The dual variable for C2 (-200) means that if you increase the limit of constraint 2 by 1 unit (so 31), the objective function will be 8,800 (-200 from the previous one).\n",
    "\n",
    "\n",
    "\n",
    "\n",
    "Since the dual variable for C3 is 0, this is a constraint that is not in its boundary. In other words, the solution found is NOT is the boundary of this constraint. If you wish to know how far it is from the bounder, use: m.C3.uslack() or m.C3.lslack() to see the upper and lower slacks, which mean, how far the constraint is from its boundary.\n",
    "\n"
   ]
  }
 ],
 "metadata": {
  "kernelspec": {
   "display_name": "myenv",
   "language": "python",
   "name": "python3"
  },
  "language_info": {
   "codemirror_mode": {
    "name": "ipython",
    "version": 3
   },
   "file_extension": ".py",
   "mimetype": "text/x-python",
   "name": "python",
   "nbconvert_exporter": "python",
   "pygments_lexer": "ipython3",
   "version": "3.9.13"
  },
  "orig_nbformat": 4
 },
 "nbformat": 4,
 "nbformat_minor": 2
}
