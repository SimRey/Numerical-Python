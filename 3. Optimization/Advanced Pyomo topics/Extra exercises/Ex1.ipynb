{
 "cells": [
  {
   "cell_type": "markdown",
   "metadata": {},
   "source": [
    "### Construction example\n",
    "Peter has a construction company. He needs to assign 5 of the company’s teams to work in some of the constructions below:\n",
    "- A) Revenue of 500, requires 1 team\n",
    "- B) Revenue of 4,000, requires 3 teams\n",
    "- C) Revenue of 3,000, requires 2 teams\n",
    "- D) Revenue of 2,000, requires 1 team\n",
    "- E) Revenue of 2,000, requires 5 teams\n",
    "\n",
    "\n",
    "Select the constructions that would maximize the revenue:\n",
    "- Each construction can be made just once \n",
    "- Not all constructions will be selected"
   ]
  },
  {
   "cell_type": "code",
   "execution_count": 1,
   "metadata": {},
   "outputs": [],
   "source": [
    "import pyomo.environ as pe\n",
    "import pyomo.opt as po"
   ]
  },
  {
   "cell_type": "code",
   "execution_count": 2,
   "metadata": {},
   "outputs": [],
   "source": [
    "m = pe.ConcreteModel()\n",
    "\n",
    "m.I = pe.RangeSet(5)\n",
    "m.x = pe.Var(m.I, domain=pe.Binary)\n",
    "\n",
    "revs = {\n",
    "    1: 500,\n",
    "    2: 4000,\n",
    "    3: 3000,\n",
    "    4: 2000,\n",
    "    5: 2000\n",
    "}\n",
    "m.revs = pe.Param(m.I, initialize=revs)\n",
    "\n",
    "workers = {\n",
    "    1: 1,\n",
    "    2: 3,\n",
    "    3: 2,\n",
    "    4: 1,\n",
    "    5: 5\n",
    "}\n",
    "m.workers = pe.Param(m.I, initialize=workers)\n",
    "\n",
    "m.max_workers = pe.Param(initialize=5)\n",
    "\n",
    "\n",
    "m.cons1 = pe.Constraint(\n",
    "    expr=(sum(m.x[i]*m.workers[i] for i in m.I) <= m.max_workers)\n",
    ")\n",
    "\n",
    "m.obj = pe.Objective(\n",
    "    expr=(sum(m.x[i]*m.revs[i] for i in m.I)),\n",
    "    sense=pe.maximize\n",
    ")"
   ]
  },
  {
   "cell_type": "code",
   "execution_count": 3,
   "metadata": {},
   "outputs": [],
   "source": [
    "solver = po.SolverFactory('couenne') \n",
    "results = solver.solve(m)"
   ]
  },
  {
   "cell_type": "code",
   "execution_count": 4,
   "metadata": {},
   "outputs": [
    {
     "name": "stdout",
     "output_type": "stream",
     "text": [
      "x : Size=5, Index=I\n",
      "    Key : Lower : Value : Upper : Fixed : Stale : Domain\n",
      "      1 :     0 :   0.0 :     1 : False : False : Binary\n",
      "      2 :     0 :   1.0 :     1 : False : False : Binary\n",
      "      3 :     0 :   1.0 :     1 : False : False : Binary\n",
      "      4 :     0 :   0.0 :     1 : False : False : Binary\n",
      "      5 :     0 :   0.0 :     1 : False : False : Binary\n"
     ]
    }
   ],
   "source": [
    "m.x.display()"
   ]
  },
  {
   "cell_type": "markdown",
   "metadata": {},
   "source": [
    "**Two extra constraints**\n",
    "- Construction C can only be selected if A is selected\n",
    "- Construction D can only be selected if A and C are selected"
   ]
  },
  {
   "cell_type": "code",
   "execution_count": 5,
   "metadata": {},
   "outputs": [],
   "source": [
    "m = pe.ConcreteModel()\n",
    "\n",
    "m.I = pe.RangeSet(5)\n",
    "m.x = pe.Var(m.I, domain=pe.Binary)\n",
    "\n",
    "revs = {\n",
    "    1: 500,\n",
    "    2: 4000,\n",
    "    3: 3000,\n",
    "    4: 2000,\n",
    "    5: 2000\n",
    "}\n",
    "m.revs = pe.Param(m.I, initialize=revs)\n",
    "\n",
    "workers = {\n",
    "    1: 1,\n",
    "    2: 3,\n",
    "    3: 2,\n",
    "    4: 1,\n",
    "    5: 5\n",
    "}\n",
    "m.workers = pe.Param(m.I, initialize=workers)\n",
    "\n",
    "m.max_workers = pe.Param(initialize=5)\n",
    "\n",
    "\n",
    "m.cons1 = pe.Constraint(\n",
    "    expr=(sum(m.x[i]*m.workers[i] for i in m.I) <= m.max_workers)\n",
    ")\n",
    "m.cons2 = pe.Constraint(\n",
    "    expr=(m.x[3] <= m.x[1])\n",
    "    )\n",
    "\n",
    "m.cons3 = pe.Constraint(\n",
    "    expr=(m.x[4] <= m.x[1]*m.x[3])\n",
    "    ) \n",
    "\n",
    "m.obj = pe.Objective(\n",
    "    expr=(sum(m.x[i]*m.revs[i] for i in m.I)),\n",
    "    sense=pe.maximize)"
   ]
  },
  {
   "cell_type": "code",
   "execution_count": 6,
   "metadata": {},
   "outputs": [
    {
     "name": "stdout",
     "output_type": "stream",
     "text": [
      "x : Size=5, Index=I\n",
      "    Key : Lower : Value : Upper : Fixed : Stale : Domain\n",
      "      1 :     0 :   1.0 :     1 : False : False : Binary\n",
      "      2 :     0 :   0.0 :     1 : False : False : Binary\n",
      "      3 :     0 :   1.0 :     1 : False : False : Binary\n",
      "      4 :     0 :   1.0 :     1 : False : False : Binary\n",
      "      5 :     0 :   0.0 :     1 : False : False : Binary\n"
     ]
    }
   ],
   "source": [
    "solver = po.SolverFactory('couenne') \n",
    "results = solver.solve(m)\n",
    "m.x.display()"
   ]
  }
 ],
 "metadata": {
  "kernelspec": {
   "display_name": "myenv",
   "language": "python",
   "name": "python3"
  },
  "language_info": {
   "codemirror_mode": {
    "name": "ipython",
    "version": 3
   },
   "file_extension": ".py",
   "mimetype": "text/x-python",
   "name": "python",
   "nbconvert_exporter": "python",
   "pygments_lexer": "ipython3",
   "version": "3.9.13"
  },
  "orig_nbformat": 4
 },
 "nbformat": 4,
 "nbformat_minor": 2
}
