{
 "cells": [
  {
   "cell_type": "markdown",
   "metadata": {},
   "source": [
    "### Job assignment\n",
    "Mark wishes to define the scheduling of costumers that he must attend in the next 3 days. The list of jobs (demands) with the duration of job and its profit is defined below:\n",
    "- A) duration 2h, profit 200 USD\n",
    "- B) duration 3h, profit 500 USD\n",
    "- C) duration 5h, profit 300 USD\n",
    "- D) duration 2h, profit 100 USD\n",
    "- E) duration 6h, profit 1,000 USD\n",
    "- F) duration 4h, profit 300 USD\n",
    "\n",
    "\n",
    "Mark wants to maximize the profit for the next 3 days working 6h per day. Which demands he should attend per day?\n",
    "- Neglect the traveling time\n",
    "- Each demand only can be attended once\n",
    "- Mark wish to do a maximum of 1 job per day"
   ]
  },
  {
   "cell_type": "code",
   "execution_count": 1,
   "metadata": {},
   "outputs": [],
   "source": [
    "import pyomo.environ as pe\n",
    "import pyomo.opt as po"
   ]
  },
  {
   "cell_type": "code",
   "execution_count": 2,
   "metadata": {},
   "outputs": [],
   "source": [
    "m = pe.ConcreteModel()\n",
    "\n",
    "m.I = pe.RangeSet(6)\n",
    "m.T = pe.RangeSet(3)\n",
    "m.x = pe.Var(m.I, m.T, domain=pe.Binary)\n",
    "\n",
    "duration = {\n",
    "    1: 2,\n",
    "    2: 3,\n",
    "    3: 5,\n",
    "    4: 2,\n",
    "    5: 6,\n",
    "    6: 4\n",
    "}\n",
    "m.duration = pe.Param(m.I, initialize=duration)\n",
    "\n",
    "profit = {\n",
    "    1: 200,\n",
    "    2: 500,\n",
    "    3: 300,\n",
    "    4: 100,\n",
    "    5: 1000,\n",
    "    6: 300\n",
    "}\n",
    "m.profit = pe.Param(m.I, initialize=profit)\n",
    "m.max_hours = pe.Param(initialize=6)"
   ]
  },
  {
   "cell_type": "code",
   "execution_count": 3,
   "metadata": {},
   "outputs": [],
   "source": [
    "def _six_hours(m, t):\n",
    "    return sum(m.x[i, t]*m.duration[i] for i in m.I) <= m.max_hours\n",
    "m.six_hours = pe.Constraint(m.T, rule=_six_hours)\n",
    "\n",
    "def _one_job(m, i):\n",
    "    return sum(m.x[i, t] for t in m.T) <= 1\n",
    "m.one_job = pe.Constraint(m.I, rule=_one_job)\n",
    "\n",
    "def _one_job_per_day(m, t):\n",
    "    return sum(m.x[i, t] for i in m.I) <= 1\n",
    "m.one_job_per_day = pe.Constraint(m.T, rule=_one_job_per_day)\n",
    "\n",
    "m.obj = pe.Objective(\n",
    "    expr=sum(sum(m.x[i,t] * m.profit[i] for i in m.I) for t in m.T),\n",
    "    sense=pe.maximize)\n",
    "\n",
    "\n",
    "solver = po.SolverFactory('glpk')\n",
    "results = solver.solve(m)\n"
   ]
  },
  {
   "cell_type": "code",
   "execution_count": 4,
   "metadata": {},
   "outputs": [
    {
     "name": "stdout",
     "output_type": "stream",
     "text": [
      "x : Size=18, Index=x_index\n",
      "    Key    : Lower : Value : Upper : Fixed : Stale : Domain\n",
      "    (1, 1) :     0 :   0.0 :     1 : False : False : Binary\n",
      "    (1, 2) :     0 :   0.0 :     1 : False : False : Binary\n",
      "    (1, 3) :     0 :   0.0 :     1 : False : False : Binary\n",
      "    (2, 1) :     0 :   0.0 :     1 : False : False : Binary\n",
      "    (2, 2) :     0 :   1.0 :     1 : False : False : Binary\n",
      "    (2, 3) :     0 :   0.0 :     1 : False : False : Binary\n",
      "    (3, 1) :     0 :   0.0 :     1 : False : False : Binary\n",
      "    (3, 2) :     0 :   0.0 :     1 : False : False : Binary\n",
      "    (3, 3) :     0 :   0.0 :     1 : False : False : Binary\n",
      "    (4, 1) :     0 :   0.0 :     1 : False : False : Binary\n",
      "    (4, 2) :     0 :   0.0 :     1 : False : False : Binary\n",
      "    (4, 3) :     0 :   0.0 :     1 : False : False : Binary\n",
      "    (5, 1) :     0 :   1.0 :     1 : False : False : Binary\n",
      "    (5, 2) :     0 :   0.0 :     1 : False : False : Binary\n",
      "    (5, 3) :     0 :   0.0 :     1 : False : False : Binary\n",
      "    (6, 1) :     0 :   0.0 :     1 : False : False : Binary\n",
      "    (6, 2) :     0 :   0.0 :     1 : False : False : Binary\n",
      "    (6, 3) :     0 :   1.0 :     1 : False : False : Binary\n",
      "1800.0\n"
     ]
    }
   ],
   "source": [
    "m.x.display()\n",
    "print(pe.value(m.obj))"
   ]
  }
 ],
 "metadata": {
  "kernelspec": {
   "display_name": "myenv",
   "language": "python",
   "name": "python3"
  },
  "language_info": {
   "codemirror_mode": {
    "name": "ipython",
    "version": 3
   },
   "file_extension": ".py",
   "mimetype": "text/x-python",
   "name": "python",
   "nbconvert_exporter": "python",
   "pygments_lexer": "ipython3",
   "version": "3.9.13"
  },
  "orig_nbformat": 4
 },
 "nbformat": 4,
 "nbformat_minor": 2
}
