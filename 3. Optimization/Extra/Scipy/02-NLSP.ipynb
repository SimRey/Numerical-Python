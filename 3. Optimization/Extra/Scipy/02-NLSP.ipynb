{
 "cells": [
  {
   "cell_type": "markdown",
   "metadata": {},
   "source": [
    "## <center> Non-linear least square programming </center>\n",
    "\n",
    "In general, a least square problem can be viewed as an optimization problem with the objective function $$ g(\\beta) = \\sum^m _{i=0} r_i(\\beta)^2 = ||r(\\beta)||^2$$\n",
    "\n",
    "\n",
    "where $r(\\beta)$ is a vector with the residuals $r_i(\\beta) = y_i−f(x_i,\\beta)$ for a set of m observations $(x_i,y_i)$. Here $\\beta$ is a vector with unknown parameters that specifies the function f(x,$\\beta$). If this problem is nonlinear in the parameters $\\beta$, it is known as a nonlinear least square problem, and since it is nonlinear, it cannot be solved with the linear algebra techniques. We can use the multivariate optimization techniques described in the previous section, such as Newton’s method or a quasi-Newton method. However, this nonlinear least square optimization problem has a specific structure, and several methods that are tailored to solve this particular optimization problem have been developed. One example is the Levenberg-Marquardt method, which is based on the idea of successive linearizations of the problem in each iteration."
   ]
  },
  {
   "cell_type": "code",
   "execution_count": 1,
   "metadata": {},
   "outputs": [],
   "source": [
    "import scipy.optimize as opt\n",
    "import numpy as np\n",
    "import matplotlib.pyplot as plt "
   ]
  },
  {
   "cell_type": "code",
   "execution_count": 2,
   "metadata": {},
   "outputs": [],
   "source": [
    "beta = (0.25, 0.75, 0.5)\n",
    "def f(x, b0, b1, b2):\n",
    "    return b0 + b1 * np.exp(-b2 * x**2)\n",
    "\n",
    "\n",
    "xdata = np.linspace(0, 5, 50)\n",
    "y = f(xdata, *beta) # Unknown\n",
    "ydata = y + 0.05 * np.random.randn(len(xdata))\n"
   ]
  },
  {
   "cell_type": "code",
   "execution_count": 3,
   "metadata": {},
   "outputs": [
    {
     "data": {
      "text/plain": [
       "(array([0.25061187, 0.74839702, 0.52654034]), 1)"
      ]
     },
     "execution_count": 3,
     "metadata": {},
     "output_type": "execute_result"
    }
   ],
   "source": [
    "def g(beta):\n",
    "    return ydata - f(xdata, *beta)\n",
    "\n",
    "\n",
    "beta_start = (1, 1, 1)\n",
    "beta_opt, beta_cov = opt.leastsq(g, beta_start)\n",
    "\n",
    "beta_opt, beta_cov"
   ]
  },
  {
   "cell_type": "code",
   "execution_count": 6,
   "metadata": {},
   "outputs": [
    {
     "data": {
      "text/plain": [
       "<matplotlib.legend.Legend at 0x1e03945c3a0>"
      ]
     },
     "execution_count": 6,
     "metadata": {},
     "output_type": "execute_result"
    },
    {
     "data": {
      "image/png": "[encoded data removed]",
      "text/plain": [
       "<Figure size 432x288 with 1 Axes>"
      ]
     },
     "metadata": {
      "needs_background": "light"
     },
     "output_type": "display_data"
    }
   ],
   "source": [
    "fig, ax = plt.subplots()\n",
    "ax.scatter(xdata, ydata, label='samples')\n",
    "ax.plot(xdata, y, 'r', lw=2, label='true model')\n",
    "ax.plot(xdata, f(xdata, *beta_opt), 'b', lw=2, label='fitted model')\n",
    "ax.set_xlabel(r\"$x$\")\n",
    "ax.set_ylabel(r\"$f(x, \\beta)$\")\n",
    "ax.legend()"
   ]
  },
  {
   "cell_type": "markdown",
   "metadata": {},
   "source": [
    "The SciPy optimize module also provides an alternative interface to nonlinear least square fitting, through the function optimize.curve_fit. This is a convenience wrapper around optimize.leastsq, which eliminates the need to explicitly define the residual function for the least square problem."
   ]
  },
  {
   "cell_type": "code",
   "execution_count": 7,
   "metadata": {},
   "outputs": [
    {
     "data": {
      "text/plain": [
       "(array([0.25061187, 0.74839702, 0.52654034]),\n",
       " array([[ 8.23749264e-05, -6.02125449e-05,  1.62079884e-04],\n",
       "        [-6.02125449e-05,  3.67894307e-04,  1.85354782e-04],\n",
       "        [ 1.62079884e-04,  1.85354782e-04,  1.22447140e-03]]))"
      ]
     },
     "execution_count": 7,
     "metadata": {},
     "output_type": "execute_result"
    }
   ],
   "source": [
    "beta_opt, beta_cov = opt.curve_fit(f, xdata, ydata)\n",
    "beta_opt, beta_cov"
   ]
  }
 ],
 "metadata": {
  "kernelspec": {
   "display_name": "Python 3.9.12 ('base')",
   "language": "python",
   "name": "python3"
  },
  "language_info": {
   "codemirror_mode": {
    "name": "ipython",
    "version": 3
   },
   "file_extension": ".py",
   "mimetype": "text/x-python",
   "name": "python",
   "nbconvert_exporter": "python",
   "pygments_lexer": "ipython3",
   "version": "3.9.12"
  },
  "orig_nbformat": 4,
  "vscode": {
   "interpreter": {
    "hash": "20a9e06a1eee47c4abbed4ec8225ad91d78d9800d202b71b6b0a6e47016c6abd"
   }
  }
 },
 "nbformat": 4,
 "nbformat_minor": 2
}
