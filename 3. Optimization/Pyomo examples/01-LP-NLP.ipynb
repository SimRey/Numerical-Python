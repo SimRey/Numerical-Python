{
 "cells": [
  {
   "attachments": {},
   "cell_type": "markdown",
   "metadata": {},
   "source": [
    "### **Optimization using Pyomo - LP and NLP**\n",
    "\n",
    "Let's start with a purely mathematical example (Non-linear Program):\n",
    "\n",
    "$$\\begin{align*} \\min_{x} \\quad & x_1^2 + 2 x_2^2 - x_3 \\\\\n",
    "\\mathrm{s.t.} \\quad & x_1 + x_2 = 1 \\\\\n",
    "& x_1 + 2 x_2 - x_3 = 5 \\\\\n",
    "& -10 \\leq x_1, x_2, x_3 \\leq 10 \n",
    "\\end{align*} $$\n",
    "\n",
    "We want to solve the constrained optimization problem numerically."
   ]
  },
  {
   "cell_type": "code",
   "execution_count": 1,
   "metadata": {},
   "outputs": [],
   "source": [
    "import pyomo.environ as pe\n",
    "import pyomo.opt as po\n",
    "import pandas as pd"
   ]
  },
  {
   "cell_type": "code",
   "execution_count": 2,
   "metadata": {},
   "outputs": [
    {
     "name": "stdout",
     "output_type": "stream",
     "text": [
      "3 Var Declarations\n",
      "    x1 : Size=1, Index=None\n",
      "        Key  : Lower : Value : Upper : Fixed : Stale : Domain\n",
      "        None :   -10 :  None :    10 : False :  True :  Reals\n",
      "    x2 : Size=1, Index=None\n",
      "        Key  : Lower : Value : Upper : Fixed : Stale : Domain\n",
      "        None :   -10 :  None :    10 : False :  True :  Reals\n",
      "    x3 : Size=1, Index=None\n",
      "        Key  : Lower : Value : Upper : Fixed : Stale : Domain\n",
      "        None :   -10 :  None :    10 : False :  True :  Reals\n",
      "\n",
      "1 Objective Declarations\n",
      "    OBJ : Size=1, Index=None, Active=True\n",
      "        Key  : Active : Sense    : Expression\n",
      "        None :   True : minimize : x1**2 + 2*x2**2 - x3\n",
      "\n",
      "2 Constraint Declarations\n",
      "    con1 : Size=1, Index=None, Active=True\n",
      "        Key  : Lower : Body    : Upper : Active\n",
      "        None :   1.0 : x1 + x2 :   1.0 :   True\n",
      "    con2 : Size=1, Index=None, Active=True\n",
      "        Key  : Lower : Body           : Upper : Active\n",
      "        None :   5.0 : x1 + 2*x2 - x3 :   5.0 :   True\n",
      "\n",
      "6 Declarations: x1 x2 x3 OBJ con1 con2\n"
     ]
    }
   ],
   "source": [
    "# Create instance of concrete pemo model.\n",
    "# concrete means all of the sets and model data are specified at the time of model construction.\n",
    "# In this class, you'll use a concrete model.\n",
    "m = pe.ConcreteModel()\n",
    "\n",
    "## Declare variables with initial values with bounds\n",
    "bnds = (-10, 10)\n",
    "m.x1 = pe.Var(bounds=bnds)\n",
    "m.x2 = pe.Var(bounds=bnds)\n",
    "m.x3 = pe.Var(bounds=bnds)\n",
    "\n",
    "## Declare objective\n",
    "m.OBJ = pe.Objective(expr=m.x1**2 + 2*m.x2**2 - m.x3, sense = pe.minimize)\n",
    "\n",
    "## Declare equality constraints\n",
    "m.con1 = pe.Constraint(expr= m.x1 + m.x2 == 1)\n",
    "m.con2 = pe.Constraint(expr= m.x1 + 2*m.x2 - m.x3 == 5)\n",
    "\n",
    "\n",
    "## Display model\n",
    "m.pprint()"
   ]
  },
  {
   "cell_type": "code",
   "execution_count": 3,
   "metadata": {},
   "outputs": [],
   "source": [
    "solver = po.SolverFactory('IPOPT')\n",
    "results = solver.solve(m)"
   ]
  },
  {
   "cell_type": "code",
   "execution_count": 4,
   "metadata": {},
   "outputs": [
    {
     "name": "stdout",
     "output_type": "stream",
     "text": [
      "x1 =  0.4999999999666826\n",
      "x2 =  0.5000000000333173\n",
      "x3 =  -3.499999999966682\n",
      "\n",
      "\n"
     ]
    }
   ],
   "source": [
    "## Return the solution\n",
    "print(\"x1 = \",pe.value(m.x1))\n",
    "print(\"x2 = \",pe.value(m.x2))\n",
    "print(\"x3 = \",pe.value(m.x3))\n",
    "print(\"\\n\")"
   ]
  },
  {
   "cell_type": "markdown",
   "metadata": {},
   "source": [
    "#### *Linear Programs*: Student Diet Example"
   ]
  },
  {
   "cell_type": "markdown",
   "metadata": {},
   "source": [
    "You want to save money eating while remaining healthy. A healthy diet requires at least P=6 units of protein, C=15 units of carbohydrates, F=5 units of fats and V=7 units of vitamins. Due to compounding factors (blizzard during Lent), our campus only has these options:"
   ]
  },
  {
   "cell_type": "code",
   "execution_count": 5,
   "metadata": {},
   "outputs": [
    {
     "data": {
      "text/html": [
       "<div>\n",
       "<style scoped>\n",
       "    .dataframe tbody tr th:only-of-type {\n",
       "        vertical-align: middle;\n",
       "    }\n",
       "\n",
       "    .dataframe tbody tr th {\n",
       "        vertical-align: top;\n",
       "    }\n",
       "\n",
       "    .dataframe thead th {\n",
       "        text-align: right;\n",
       "    }\n",
       "</style>\n",
       "<table border=\"1\" class=\"dataframe\">\n",
       "  <thead>\n",
       "    <tr style=\"text-align: right;\">\n",
       "      <th></th>\n",
       "      <th>Unnamed: 0</th>\n",
       "      <th>P</th>\n",
       "      <th>C</th>\n",
       "      <th>F</th>\n",
       "      <th>V</th>\n",
       "      <th>price</th>\n",
       "    </tr>\n",
       "  </thead>\n",
       "  <tbody>\n",
       "    <tr>\n",
       "      <th>0</th>\n",
       "      <td>takeaway</td>\n",
       "      <td>3.0</td>\n",
       "      <td>3</td>\n",
       "      <td>2</td>\n",
       "      <td>1</td>\n",
       "      <td>5</td>\n",
       "    </tr>\n",
       "    <tr>\n",
       "      <th>1</th>\n",
       "      <td>vegtables</td>\n",
       "      <td>1.0</td>\n",
       "      <td>2</td>\n",
       "      <td>0</td>\n",
       "      <td>4</td>\n",
       "      <td>1</td>\n",
       "    </tr>\n",
       "    <tr>\n",
       "      <th>2</th>\n",
       "      <td>bread</td>\n",
       "      <td>0.5</td>\n",
       "      <td>4</td>\n",
       "      <td>1</td>\n",
       "      <td>0</td>\n",
       "      <td>2</td>\n",
       "    </tr>\n",
       "  </tbody>\n",
       "</table>\n",
       "</div>"
      ],
      "text/plain": [
       "  Unnamed: 0    P  C  F  V  price\n",
       "0   takeaway  3.0  3  2  1      5\n",
       "1  vegtables  1.0  2  0  4      1\n",
       "2      bread  0.5  4  1  0      2"
      ]
     },
     "execution_count": 5,
     "metadata": {},
     "output_type": "execute_result"
    }
   ],
   "source": [
    "df = pd.read_csv(\"https://ndcbe.github.io/CBE60499/data/student_diet.csv\")\n",
    "df.head()"
   ]
  },
  {
   "cell_type": "markdown",
   "metadata": {},
   "source": [
    "##### Propose an Optimization Model"
   ]
  },
  {
   "cell_type": "code",
   "execution_count": 6,
   "metadata": {},
   "outputs": [],
   "source": [
    "m = pe.ConcreteModel()"
   ]
  },
  {
   "cell_type": "markdown",
   "metadata": {},
   "source": [
    "**Sets**"
   ]
  },
  {
   "cell_type": "code",
   "execution_count": 7,
   "metadata": {},
   "outputs": [
    {
     "name": "stdout",
     "output_type": "stream",
     "text": [
      "WARNING: Initializing ordered Set N with a fundamentally unordered data source\n",
      "    (type: set).  This WILL potentially lead to nondeterministic behavior in\n",
      "    Pyomo\n",
      "WARNING: Initializing ordered Set M with a fundamentally unordered data source\n",
      "    (type: set).  This WILL potentially lead to nondeterministic behavior in\n",
      "    Pyomo\n"
     ]
    }
   ],
   "source": [
    "nutrients = {'P', 'C', \"F\", \"V\"}\n",
    "modes = {\"takeaway\", \"vegtables\", \"bread\"}\n",
    "\n",
    "m.N = pe.Set(initialize=nutrients)\n",
    "m.M = pe.Set(initialize=modes)"
   ]
  },
  {
   "cell_type": "markdown",
   "metadata": {},
   "source": [
    "**Parameters**"
   ]
  },
  {
   "cell_type": "code",
   "execution_count": 8,
   "metadata": {},
   "outputs": [],
   "source": [
    "price = {\n",
    "    \"takeaway\": 5,\n",
    "    \"vegtables\": 1,\n",
    "    \"bread\": 2\n",
    "}\n",
    "\n",
    "m.price = pe.Param(m.M, initialize=price)\n",
    "\n",
    "vals = {\n",
    "    ('takeaway', 'P'): 3.0,\n",
    "    ('takeaway', 'C'): 3.0,\n",
    "    ('takeaway', 'F'): 2.0,\n",
    "    ('takeaway', 'V'): 1.0,\n",
    "    ('vegtables', 'P'): 1.0,\n",
    "    ('vegtables', 'C'): 2.0,\n",
    "    ('vegtables', 'F'): 0.0,\n",
    "    ('vegtables', 'V'): 4.0,\n",
    "    ('bread', 'P'): 0.5,\n",
    "    ('bread', 'C'): 4.0,\n",
    "    ('bread', 'F'): 1.0,\n",
    "    ('bread', 'V'): 0.0\n",
    " }\n",
    "\n",
    "m.vals = pe.Param(m.M, m.N, initialize=vals)\n",
    "\n",
    "nr = {\n",
    "    'P':6, \n",
    "    'C':15, \n",
    "    \"F\": 5, \n",
    "    \"V\": 7\n",
    "}\n",
    "\n",
    "m.nr = pe.Param(m.N, initialize=nr)\n"
   ]
  },
  {
   "cell_type": "markdown",
   "metadata": {},
   "source": [
    "**Variables**"
   ]
  },
  {
   "cell_type": "code",
   "execution_count": 9,
   "metadata": {},
   "outputs": [],
   "source": [
    "m.x = pe.Var(m.M, domain=pe.NonNegativeReals)"
   ]
  },
  {
   "cell_type": "markdown",
   "metadata": {},
   "source": [
    "**Constraints**"
   ]
  },
  {
   "cell_type": "code",
   "execution_count": 10,
   "metadata": {},
   "outputs": [],
   "source": [
    "def cons1(m, j):\n",
    "    return sum(m.x[i]*m.vals[i, j] for i in m.M) >= m.nr[j]\n",
    "m.cons = pe.Constraint(m.N, rule=cons1)"
   ]
  },
  {
   "cell_type": "markdown",
   "metadata": {},
   "source": [
    "**Objective**"
   ]
  },
  {
   "cell_type": "code",
   "execution_count": 11,
   "metadata": {},
   "outputs": [],
   "source": [
    "def objective(m):\n",
    "    a =  sum(m.x[i]*m.price[i] for i in m.M)\n",
    "    return a\n",
    "\n",
    "m.TotCost = pe.Objective(rule=objective, sense=pe.minimize)"
   ]
  },
  {
   "cell_type": "markdown",
   "metadata": {},
   "source": [
    "**Degree of Freedom Analysis**\n",
    "\n",
    "We will later learn more about how to factor inequality constraints into degree of freedom analysis. For now, please count the number of equality and inequality constraints separately."
   ]
  },
  {
   "cell_type": "code",
   "execution_count": 12,
   "metadata": {},
   "outputs": [],
   "source": [
    "# Specify the solver\n",
    "solver = po.SolverFactory('glpk')\n",
    "\n",
    "# Solve\n",
    "results = solver.solve(m)"
   ]
  },
  {
   "cell_type": "code",
   "execution_count": 13,
   "metadata": {},
   "outputs": [
    {
     "name": "stdout",
     "output_type": "stream",
     "text": [
      "x[takeaway] \t 1.0\n",
      "x[vegtables] \t 1.5\n",
      "x[bread] \t 3.0\n"
     ]
    }
   ],
   "source": [
    "for c in m.component_data_objects(pe.Var):\n",
    "    print(c.name,\"\\t\", pe.value(c))\n"
   ]
  },
  {
   "attachments": {},
   "cell_type": "markdown",
   "metadata": {},
   "source": [
    "**Take Away Messages**\n",
    "\n",
    "Linear programs are convex. We will learn this means all local optima are global optima.\n",
    "Nonlinear programs may be nonconvex. For nonconvex problems, there often existings many local optima that are not also global optima."
   ]
  }
 ],
 "metadata": {
  "kernelspec": {
   "display_name": "myenv",
   "language": "python",
   "name": "python3"
  },
  "language_info": {
   "codemirror_mode": {
    "name": "ipython",
    "version": 3
   },
   "file_extension": ".py",
   "mimetype": "text/x-python",
   "name": "python",
   "nbconvert_exporter": "python",
   "pygments_lexer": "ipython3",
   "version": "3.9.13"
  },
  "orig_nbformat": 4
 },
 "nbformat": 4,
 "nbformat_minor": 2
}
