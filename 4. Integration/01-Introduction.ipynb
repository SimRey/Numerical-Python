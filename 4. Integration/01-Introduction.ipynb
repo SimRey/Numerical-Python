{
 "cells": [
  {
   "cell_type": "markdown",
   "metadata": {},
   "source": [
    "## <center> Introduction to integration methdos </center>"
   ]
  },
  {
   "cell_type": "code",
   "execution_count": 1,
   "metadata": {},
   "outputs": [],
   "source": [
    "from scipy import integrate\n",
    "import numpy as np\n",
    "import matplotlib.pyplot as plt"
   ]
  },
  {
   "cell_type": "markdown",
   "metadata": {},
   "source": [
    "### Univariate integration\n",
    "The numerical quadrature routines in the SciPy integrate module can be categorized into two types: routines that take\n",
    "the integrand as a Python function and routines that take arrays with samples of the integrand at given points. The\n",
    "functions of the first type use Gaussian quadrature (quad, quadrature, fixed_quad), while functions of the second type\n",
    "use Newton-Cotes methods (trapz, simps, and romb)."
   ]
  },
  {
   "cell_type": "markdown",
   "metadata": {},
   "source": [
    "**Example** --> Gaussian quadrature\n",
    "\n",
    "$$ y = \\int_{-\\infty}^{\\infty} e^{-x^2}dx $$"
   ]
  },
  {
   "cell_type": "markdown",
   "metadata": {},
   "source": [
    "*Note*:\n",
    "The quad routine supports infinite integration limits. To represent integration limits that are infinite, we use the floating-point representation of infinity, float('inf')\n",
    "\n"
   ]
  },
  {
   "cell_type": "code",
   "execution_count": 2,
   "metadata": {},
   "outputs": [
    {
     "name": "stdout",
     "output_type": "stream",
     "text": [
      "1.7724538509055159 1.4202636781830878e-08\n"
     ]
    }
   ],
   "source": [
    "fun = lambda x, a: np.exp(-x ** a)\n",
    "\n",
    "val, err = integrate.quad(fun, -np.inf, np.inf, args=(2))  # args=() substitutes missing variables\n",
    "print(val, err)\n",
    "\n",
    "# The quad function returns a tuple that contains the numerical estimate of the integral, val, \n",
    "# and an estimate of the absolute error, err."
   ]
  },
  {
   "cell_type": "markdown",
   "metadata": {},
   "source": [
    "The quad function is also able to handle many integrals with integrable singularities.\n",
    "\n",
    "**Example** --> Non-continuous function\n",
    "\n",
    "$$ y = \\int_{-1}^{1} \\frac{1}{\\sqrt{|x|}}dx $$"
   ]
  },
  {
   "cell_type": "code",
   "execution_count": 6,
   "metadata": {},
   "outputs": [
    {
     "name": "stdout",
     "output_type": "stream",
     "text": [
      "3.999999999999999\n"
     ]
    }
   ],
   "source": [
    "f = lambda x: 1 / np.sqrt(abs(x))\n",
    "\n",
    "# value, error = integrate.quad(f, -1, 1)\n",
    "# print(value) --> (inf, inf)\n",
    "\n",
    "value, error = integrate.quad(f, -1, 1, points=[0])  # points=[] states the points not to be evaluated\n",
    "print(value)"
   ]
  },
  {
   "cell_type": "markdown",
   "metadata": {},
   "source": [
    "### Tabulated  Integrand\n",
    "We have seen that the quad routine is suitable for evaluating integrals when the integrand is specified using a Python function that the routine can evaluate at arbitrary points (which is determined by the specific quadrature rule). However, in many situations we may have an integrand that is only specified at predetermined points, such as evenly spaced points in the integration interval [a, b]. This type of situation can occur, for example, when the integrand is obtained from experiments or observations that cannot be controlled by the particular integration routine. In this case we can use a Newton-Cotes quadrature, such as the midpoint rule, trapezoid rule, or Simpson’s rule."
   ]
  },
  {
   "cell_type": "markdown",
   "metadata": {},
   "source": [
    "**Example**\n",
    "$$ y = \\int_{0}^{2} \\sqrt{x}dx $$\n"
   ]
  },
  {
   "cell_type": "code",
   "execution_count": 9,
   "metadata": {},
   "outputs": [
    {
     "name": "stdout",
     "output_type": "stream",
     "text": [
      "1.8652953655957172\n",
      "1.8788448242701692\n",
      "1.8819931375475458\n",
      "1.883281362131247\n",
      "1.883952907509645\n",
      "1.8843544824312572\n",
      "1.8846169553415666\n",
      "1.8847995720659774\n",
      "1.8849326589234765\n",
      "1.8850331850950104\n"
     ]
    }
   ],
   "source": [
    "fun_sqrt = lambda x: np.sqrt(x)\n",
    "a, b = 0, 2\n",
    "\n",
    "points = np.arange(10, 110, 10)\n",
    "for point in points:\n",
    "    x = np.linspace(a, b, point) # More points, gives a better accuracy\n",
    "    y = fun_sqrt(x)\n",
    "    # Trapezoidal rule\n",
    "    val_trapz = integrate.trapz(y, x)\n",
    "    print(val_trapz)"
   ]
  },
  {
   "cell_type": "code",
   "execution_count": 10,
   "metadata": {},
   "outputs": [
    {
     "name": "stdout",
     "output_type": "stream",
     "text": [
      "1.885260412687424\n"
     ]
    }
   ],
   "source": [
    "# Simpson rule\n",
    "val_simps = integrate.simps(y, x)\n",
    "print(val_simps)"
   ]
  },
  {
   "cell_type": "markdown",
   "metadata": {},
   "source": [
    "The Romberg method is a Newton-Cotes method but one that uses Richardson extrapolation to accelerate the convergence\n",
    "of the trapezoid method; however this method does require that the sample points are evenly spaced and also that\n",
    "there are $2^n+1$ sample points, where n is an integer. Like the trapz and simps methods, romb takes an array with\n",
    "integrand samples as first argument, but the second argument must (if given) be the sample-point spacing $dx$.\n"
   ]
  },
  {
   "cell_type": "code",
   "execution_count": 11,
   "metadata": {},
   "outputs": [
    {
     "name": "stdout",
     "output_type": "stream",
     "text": [
      "1.8852392847412136\n"
     ]
    }
   ],
   "source": [
    "pow = 1 + 2 ** 6\n",
    "x_romb = np.linspace(a, b, pow)\n",
    "dx = x_romb[1] - x_romb[0]\n",
    "y_romb = fun_sqrt(x_romb)\n",
    "val_romb = integrate.romb(y_romb, dx=dx)\n",
    "print(val_romb)"
   ]
  },
  {
   "cell_type": "markdown",
   "metadata": {},
   "source": [
    "### Multiple integration\n",
    "Multiple integrals, such as double integrals and triple integrals can be evaluated using the dblquad and tplquad\n",
    "functions from the SciPy integrate module. Also, integration over n variables over some domain D, can be evaluated\n",
    "using the nquad function. These functions are wrappers around the single-variable quadrature function quad, which is\n",
    "called repeatedly along each dimension of the integral.\n",
    "\n",
    "The double integral routine dblquad can evaluate integrals on the form:\n",
    "$$ y = \\int_{a}^{b} \\int_{h(x)}^{g(x)} f(x,y)dxdy $$\n",
    "\n",
    "and it has the function signature dblquad(f, a, b, g, h), where f is a Python function for the integrand, a and b are constant integration limits along the x dimension, and gand f are Python functions (taking x as argument) that specify the integration limits along the y dimension. \n",
    "\n",
    "\n",
    "The tplquad function can compute integrals on the form:\n",
    "\n",
    "$$ y = \\int_{a}^{b} \\int_{h(x)}^{g(x)} \\int_{r(x,y)}^{q(x,y)} f(x,y,z)dxdydz $$\n",
    "\n",
    "which is a generalization of the double integral expression computed with dblquad. It additionally takes two Python functions as arguments, which specifies the integration limits along the z dimension. These functions take two arguments, x and y, but note that g and h still only take one argument (x).\n"
   ]
  },
  {
   "cell_type": "code",
   "execution_count": 12,
   "metadata": {},
   "outputs": [
    {
     "name": "stdout",
     "output_type": "stream",
     "text": [
      "(-0.011472621424148842, 1.4480124059831105e-08)\n"
     ]
    }
   ],
   "source": [
    "# Example for triple integral (double, lambda fun oly takes x dependant variables in the first integral)\n",
    "\n",
    "def f(x, y, z):\n",
    "    return np.exp(-x ** 2 - y ** 2 - z ** 2)\n",
    "\n",
    "\n",
    "g, h = 0.1, 1\n",
    "i, j = lambda x: 2 * x ** 2 + 15 * x + 3, lambda x: np.sqrt(x)\n",
    "k, l = lambda x, y: x*y**2 - x + 1/y, lambda x, y: np.sqrt(1/(x*y))\n",
    "\n",
    "res_triple = integrate.tplquad(f, g, h, i, j, k, l)\n",
    "print(res_triple)"
   ]
  }
 ],
 "metadata": {
  "kernelspec": {
   "display_name": "Python 3.9.12 ('base')",
   "language": "python",
   "name": "python3"
  },
  "language_info": {
   "codemirror_mode": {
    "name": "ipython",
    "version": 3
   },
   "file_extension": ".py",
   "mimetype": "text/x-python",
   "name": "python",
   "nbconvert_exporter": "python",
   "pygments_lexer": "ipython3",
   "version": "3.9.12"
  },
  "orig_nbformat": 4,
  "vscode": {
   "interpreter": {
    "hash": "20a9e06a1eee47c4abbed4ec8225ad91d78d9800d202b71b6b0a6e47016c6abd"
   }
  }
 },
 "nbformat": 4,
 "nbformat_minor": 2
}
