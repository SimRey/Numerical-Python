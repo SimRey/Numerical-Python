{
 "cells": [
  {
   "cell_type": "markdown",
   "metadata": {},
   "source": [
    "## <center> Hypothesis testing </center>"
   ]
  },
  {
   "cell_type": "markdown",
   "metadata": {},
   "source": [
    "Point estimates and confidence intervals are basic inference tools that act as the foundation for another inference technique: statistical hypothesis testing. Statistical hypothesis testing is a framework for determining whether observed data deviates from what is expected. Python's scipy.stats library contains an array of functions that make it easy to carry out hypothesis tests."
   ]
  },
  {
   "cell_type": "code",
   "execution_count": 1,
   "metadata": {},
   "outputs": [],
   "source": [
    "import numpy as np\n",
    "import pandas as pd\n",
    "import scipy.stats as stats\n",
    "import matplotlib.pyplot as plt"
   ]
  },
  {
   "cell_type": "markdown",
   "metadata": {},
   "source": [
    "### Tests on continous data"
   ]
  },
  {
   "cell_type": "markdown",
   "metadata": {},
   "source": [
    "#### One-Sample t-test\n",
    "\n",
    "A one-sample t-test checks whether a sample mean differs from the population mean. \n",
    "\n",
    "To check the mean value of normally distributed data against a reference value, we typically use the one sample t-test, which is based on the t-distribution. If we knew the mean and the standard deviation of a normally distributed population, we could calculate the corresponding standard error, and use values from the normal distribution to determine how likely it is to find a certain value. However, in practice we have to estimate the mean and standard deviation from the sample; and the t-distribution, which characterizes the distribution of sample means for normally distributed data, deviates slightly from the normal distribution."
   ]
  },
  {
   "cell_type": "markdown",
   "metadata": {},
   "source": [
    "Ex: The daily energy intake from 11 healthy women is [5260, 5470, 5640, 6180, 6390, 6515, 6805, 7515, 7515, 8230, 8770] kJ. Test the claim that the mean value is 7725, with a significance level of 0.05."
   ]
  },
  {
   "cell_type": "code",
   "execution_count": 2,
   "metadata": {},
   "outputs": [
    {
     "data": {
      "text/plain": [
       "(-2.8207540608310198, 0.018137235176105812)"
      ]
     },
     "execution_count": 2,
     "metadata": {},
     "output_type": "execute_result"
    }
   ],
   "source": [
    "data = np.array([5260, 5470, 5640, 6180, 6390, 6515, 6805, 7515, 7515, 8230, 8770])\n",
    "\n",
    "t, p_val = stats.ttest_1samp(data, 7725, alternative='two-sided')\n",
    "t, p_val"
   ]
  },
  {
   "cell_type": "markdown",
   "metadata": {},
   "source": [
    "$H_0$ is rejected, due to $p$ value being less than $\\alpha$, so there is a difference between the recommeneded mean valua and the optained mean value"
   ]
  },
  {
   "cell_type": "markdown",
   "metadata": {},
   "source": [
    "If the data are not normally distributed, the one-sample t-test should not be used. Instead, we must use a nonparametric test on the mean value. We can do this by performing a Wilcoxon signed rank sum test (rank gives the sum of the ranks of the negative values). Note that in contrast to the one-sample t-test, this test checks for a difference from null:\n",
    "\n",
    "\n",
    "      (rank, pVal) = stats.wilcoxon(data-checkValue)"
   ]
  },
  {
   "cell_type": "code",
   "execution_count": 3,
   "metadata": {},
   "outputs": [
    {
     "data": {
      "text/plain": [
       "(8.0, 0.0244140625)"
      ]
     },
     "execution_count": 3,
     "metadata": {},
     "output_type": "execute_result"
    }
   ],
   "source": [
    "data = np.array([5260, 5470, 5640, 6180, 6390, 6515, 6805, 7515, 7515, 8230, 8770])\n",
    "\n",
    "t, p_val = stats.wilcoxon(data - 7725)\n",
    "t, p_val"
   ]
  },
  {
   "cell_type": "markdown",
   "metadata": {},
   "source": [
    "#### Two-sample t-test\n",
    "\n",
    "A two-sample t-test investigates whether the means of two independent data samples differ from one another. In a two-sample test, the null hypothesis is that the means of both groups are the same. Unlike the one sample-test where we test against a known population parameter, the two sample test only involves sample means."
   ]
  },
  {
   "cell_type": "markdown",
   "metadata": {},
   "source": [
    "##### Testing from stats\n",
    "T-test for means of two independent samples from descriptive statistics."
   ]
  },
  {
   "cell_type": "code",
   "execution_count": 4,
   "metadata": {},
   "outputs": [
    {
     "data": {
      "text/plain": [
       "(3.5349416415661556, 0.0006244158265099108)"
      ]
     },
     "execution_count": 4,
     "metadata": {},
     "output_type": "execute_result"
    }
   ],
   "source": [
    "# Suppose we have the summary data for two samples, as follows \n",
    "# (with the Sample Variance being the corrected sample variance):\n",
    "\n",
    "#                 Sample   Sample\n",
    "#           Size   Mean   Variance\n",
    "# Sample 1    45    204.4     13825.3\n",
    "# Sample 2    55    130.0     8632.0\n",
    "\n",
    "t, p_val = stats.ttest_ind_from_stats(mean1=204.4, std1=np.sqrt(13825.3), nobs1=45,\n",
    "                                mean2=130.0, std2=np.sqrt(8632.0), nobs2=55,\n",
    "                                alternative='two-sided')\n",
    "\n",
    "t, p_val"
   ]
  },
  {
   "cell_type": "markdown",
   "metadata": {},
   "source": [
    "##### Paired t-test\n",
    "Two values recorded from the same subject at different times are compared to each other."
   ]
  },
  {
   "cell_type": "markdown",
   "metadata": {},
   "source": [
    "Ex: Weekly mean men-hour loss due to accidents in ten plants. Test the claim that the new regulations had a significant impact, with a significance level of 0.05."
   ]
  },
  {
   "cell_type": "code",
   "execution_count": 5,
   "metadata": {},
   "outputs": [
    {
     "data": {
      "text/plain": [
       "(4.03328398196115, 0.002958322868433042)"
      ]
     },
     "execution_count": 5,
     "metadata": {},
     "output_type": "execute_result"
    }
   ],
   "source": [
    "before = np.array([45, 73, 46, 124, 33, 57, 83, 34, 26, 17])\n",
    "after = np.array([36, 60, 44, 119, 35, 51, 77, 29, 24, 11])\n",
    "\n",
    "t, p_val = stats.ttest_rel(a=before, b=after, alternative='two-sided')\n",
    "t, p_val"
   ]
  },
  {
   "cell_type": "markdown",
   "metadata": {},
   "source": [
    "$H_0$ is rejected, due to $p$ value being less than $\\alpha$, so there is an improvement in the plant security, with the new regulations."
   ]
  },
  {
   "cell_type": "markdown",
   "metadata": {},
   "source": [
    "##### t-Test between Independent Groups\n",
    "\n",
    "An unpaired t-test, or t-test for two independent groups, compares two groups. An example would be the comparison of the effect of two medications given to two different groups of patients.\n",
    "The basic idea is the same as for the one-sample t-test. But instead of the variance of the mean, we now need the variance of the difference between the means of the two groups. Since the variance of a sum (or difference) of independent random variables equals the sum of the variances."
   ]
  },
  {
   "cell_type": "markdown",
   "metadata": {},
   "source": [
    "Ex: In a clinic, 15 lazy patients weigh [76, 101, 66, 72, 88, 82, 79, 73, 76, 85, 75, 64, 76, 81, 86.] kg, and 15 sporty patients weigh [ 64, 65, 56, 62, 59, 76, 66, 82, 91, 57, 92, 80, 82, 67, 54] kg.\n",
    "Are the lazy patients significantly heavier?"
   ]
  },
  {
   "cell_type": "code",
   "execution_count": 6,
   "metadata": {},
   "outputs": [
    {
     "data": {
      "text/plain": [
       "(2.0968730776547093, 0.046052661509003605)"
      ]
     },
     "execution_count": 6,
     "metadata": {},
     "output_type": "execute_result"
    }
   ],
   "source": [
    "lazy = np.array([76, 101, 66, 72, 88, 82, 79, 73, 76, 85, 75, 64, 76, 81, 86])\n",
    "sporty = np.array([64, 65, 56, 62, 59, 76, 66, 82, 91, 57, 92, 80, 82, 67, 54])\n",
    "\n",
    "t, p_val = stats.ttest_ind(a=lazy, b=sporty,\n",
    "                           equal_var=False, # If True (default), perform a standard independent 2 sample test \n",
    "                                           # that assumes equal population variances.\n",
    "                                           # If False, perform Welch’s t-test, which does not assume equal population \n",
    "                                           # variance.\n",
    "                           alternative='two-sided')\n",
    "t, p_val"
   ]
  },
  {
   "cell_type": "markdown",
   "metadata": {},
   "source": [
    "$H_0$ is rejected, due to $p$ value being less than $\\alpha$, so there is significant difference between the weights of the two groups."
   ]
  },
  {
   "cell_type": "markdown",
   "metadata": {},
   "source": [
    "If the measurement values from two groups are not normally distributed we have\n",
    "to resort to a nonparametric test. The most common nonparametric test for the\n",
    "comparison of two independent groups is the Mann–Whitney(–Wilcoxon) test.\n",
    "Watch out, because this test is sometimes also referred to as Wilcoxon rank-sum\n",
    "test. This is different from the Wilcoxon signed rank sum test! The test-statistic for\n",
    "this test is commonly indicated with u:\n",
    "\n",
    "\n",
    "        u_statistic, pVal = stats.mannwhitneyu(group1, group2)"
   ]
  },
  {
   "cell_type": "markdown",
   "metadata": {},
   "source": [
    "### Tests on categorical data"
   ]
  },
  {
   "cell_type": "markdown",
   "metadata": {},
   "source": [
    "#### Chi-square test \n",
    "This is the most common type. It is a hypothesis test, which checks if the entries in the individual cells in a frequency\n",
    "table all come from the same distribution. In other words, it checks the null hypothesis $H_0$ that the results are independent of the row or column in which they appear. The alternative hypothesis Ha does not specify the type of association, so close attention to the data is required to interpret the information provided by the test."
   ]
  },
  {
   "cell_type": "markdown",
   "metadata": {},
   "source": [
    "##### One-Way Chi-Square Test --- Goodness of fit\n",
    "The chi-squared goodness-of-fit test is an analog of the one-way t-test for categorical variables: it tests whether the distribution of sample categorical data matches an expected distribution.\n",
    "\n",
    "$$ \\chi^2 = \\sum^k_{i=1} \\frac{(observed_i - expected_i)^2}{expected_i}$$"
   ]
  },
  {
   "cell_type": "markdown",
   "metadata": {},
   "source": [
    "Ex: Prove that a distribution approximates a Possion distribution with parameter $\\lambda = 4.6$ with a signficance level of 0.01"
   ]
  },
  {
   "cell_type": "code",
   "execution_count": 7,
   "metadata": {},
   "outputs": [
    {
     "data": {
      "text/plain": [
       "(8.471484713365697, 0.7472860318162149)"
      ]
     },
     "execution_count": 7,
     "metadata": {},
     "output_type": "execute_result"
    }
   ],
   "source": [
    "observed = np.array([3, 15, 47, 76, 68, 74, 46, 39, 15, 9, 5, 2, 0, 1])\n",
    "expected = np.array([4, 18.4, 42.8, 65.2, 74.8, 69.2, 52.8, 34.8, 20, 10, 4.8, 2, 0.8, 0.4])\n",
    "\n",
    "chisq, p = stats.chisquare(f_obs=observed,\n",
    "                           f_exp=expected,\n",
    "                           ddof=1)\n",
    "chisq, p"
   ]
  },
  {
   "cell_type": "markdown",
   "metadata": {},
   "source": [
    "In this case $H_0$ is failed to reject, so we don't have enough information to declare that the Poission distribution is an actual good fit."
   ]
  },
  {
   "cell_type": "markdown",
   "metadata": {},
   "source": [
    "##### Chi-Square Contingency Test\n",
    "\n",
    "The chi-squared test of independence or chi-Square contingency test tests whether two categorical variables are independent. The chi-square contingency test is based on a test statistic that measures the divergence of the observed data from the values that would be expected under the null hypothesis of no association."
   ]
  },
  {
   "cell_type": "markdown",
   "metadata": {},
   "source": [
    "Ex: Determine if there is a relationship between the employee's performance in the company's training program and his subsequent success on the job. Use a significance level of 0.01"
   ]
  },
  {
   "cell_type": "code",
   "execution_count": 8,
   "metadata": {},
   "outputs": [
    {
     "data": {
      "text/plain": [
       "(20.178903582087926,\n",
       " 0.00046038041384262443,\n",
       " 4,\n",
       " array([[16.8 , 52.64, 42.56],\n",
       "        [25.05, 78.49, 63.46],\n",
       "        [18.15, 56.87, 45.98]]))"
      ]
     },
     "execution_count": 8,
     "metadata": {},
     "output_type": "execute_result"
    }
   ],
   "source": [
    "data = np.array([\n",
    "    [23, 60, 29],\n",
    "    [28, 79, 60],\n",
    "    [9, 49, 63]\n",
    "])\n",
    "\n",
    "chi2, p, dof, ex = stats.chi2_contingency(data, \n",
    "                                          correction=True) # Small sample, Yates correction must be done\n",
    "chi2, p, dof, ex"
   ]
  },
  {
   "cell_type": "markdown",
   "metadata": {},
   "source": [
    "##### Cochran’s Q Test\n",
    "Cochran’s Q test is a hypothesis test where the response variable can take only two\n",
    "possible outcomes (coded as 0 and 1). It is a nonparametric statistical test to verify\n",
    "if k treatments have identical effects. \n",
    "\n",
    "The null hypothesis for the Cochran’s Q test is that there are no differences\n",
    "between the variables. If the calculated probability p is below the selected significance\n",
    "level, the null hypothesis is rejected, and it can be concluded that the\n",
    "proportions in at least 2 of the variables are significantly different from each other."
   ]
  },
  {
   "cell_type": "markdown",
   "metadata": {},
   "source": [
    "Ex: Twelve subjects are asked to perform three tasks. The outcome of each task is\n",
    "success or failure. The results are coded 0 for failure and 1 for success. In the\n",
    "example, subject 1 was successful in task 2, but failed tasks 1 and 3"
   ]
  },
  {
   "cell_type": "code",
   "execution_count": 9,
   "metadata": {},
   "outputs": [],
   "source": [
    "from statsmodels.sandbox.stats.runs import cochrans_q"
   ]
  },
  {
   "cell_type": "code",
   "execution_count": 10,
   "metadata": {},
   "outputs": [
    {
     "data": {
      "text/plain": [
       "(8.666666666666666, 0.013123728736940971)"
      ]
     },
     "execution_count": 10,
     "metadata": {},
     "output_type": "execute_result"
    }
   ],
   "source": [
    "tasks = np.array([[0,1,1,0,1,0,0,1,0,0,0,0],\n",
    "                      [1,1,1,0,0,1,0,1,1,1,1,1],\n",
    "                      [0,0,1,0,0,1,0,0,0,0,0,0]])\n",
    "    \n",
    "\n",
    "df = pd.DataFrame(tasks.T, columns = ['Task1', 'Task2', 'Task3'])\n",
    "Q, pVal = cochrans_q(df)\n",
    "Q, pVal "
   ]
  }
 ],
 "metadata": {
  "kernelspec": {
   "display_name": "Python 3.9.12 ('base')",
   "language": "python",
   "name": "python3"
  },
  "language_info": {
   "codemirror_mode": {
    "name": "ipython",
    "version": 3
   },
   "file_extension": ".py",
   "mimetype": "text/x-python",
   "name": "python",
   "nbconvert_exporter": "python",
   "pygments_lexer": "ipython3",
   "version": "3.9.12 (main, Apr  4 2022, 05:22:27) [MSC v.1916 64 bit (AMD64)]"
  },
  "orig_nbformat": 4,
  "vscode": {
   "interpreter": {
    "hash": "20a9e06a1eee47c4abbed4ec8225ad91d78d9800d202b71b6b0a6e47016c6abd"
   }
  }
 },
 "nbformat": 4,
 "nbformat_minor": 2
}
