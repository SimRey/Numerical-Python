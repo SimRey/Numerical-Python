{
 "cells": [
  {
   "cell_type": "markdown",
   "metadata": {},
   "source": [
    "## <center> Non-linear equations - solving methods </center>"
   ]
  },
  {
   "cell_type": "code",
   "execution_count": 1,
   "metadata": {},
   "outputs": [],
   "source": [
    "import numpy as np\n",
    "import sympy as sym\n",
    "from scipy import optimize as opt"
   ]
  },
  {
   "cell_type": "markdown",
   "metadata": {},
   "source": [
    "### Symbolic solving"
   ]
  },
  {
   "cell_type": "code",
   "execution_count": 2,
   "metadata": {},
   "outputs": [
    {
     "data": {
      "text/plain": [
       "[-2*atan((b - sqrt(a**2 + b**2))/a), -2*atan((b + sqrt(a**2 + b**2))/a)]"
      ]
     },
     "execution_count": 2,
     "metadata": {},
     "output_type": "execute_result"
    }
   ],
   "source": [
    "x, a, b = sym.symbols(\"x, a, b\")\n",
    "sol = sym.solve(a * sym.cos(x) - b * sym.sin(x), x)\n",
    "sol"
   ]
  },
  {
   "cell_type": "markdown",
   "metadata": {},
   "source": [
    "In general nonlinear equations are typically not solvable analytically. For example, equations that contain both polynomial expressions and elementary functions, such as sinx = x, are often transcendental and do not have an algebraic solution. If we attempt to solve such an equation using SymPy, we obtain an error in the form of an exception:\n",
    "\n",
    "    sym.solve(sympy.sin(x)-x, x) --> NotImplementedError: multiple generators [x, sin(x)]\n",
    "\n",
    "No algorithms are implemented to solve equation -x + sin(x)\n"
   ]
  },
  {
   "cell_type": "markdown",
   "metadata": {},
   "source": [
    "### Numeric solving - Optimization module\n",
    "The SciPy optimize module provides multiple functions for numerical root finding. The optimize.bisect and optimize.newton functions implement variants of bisection and Newton methods. \n",
    "\n",
    "The optimize.bisect takes three arguments: first a Python function (e.g., a lambda function) that represents the mathematical function for the equation for which a root is to be calculated and the second and third arguments are the lower and upper values of the interval for which to perform the bisection method.\n"
   ]
  },
  {
   "cell_type": "code",
   "execution_count": 3,
   "metadata": {},
   "outputs": [
    {
     "name": "stdout",
     "output_type": "stream",
     "text": [
      "0.6931471805601177\n"
     ]
    }
   ],
   "source": [
    "# Taking as example exp(x) -2\n",
    "f_sol = opt.bisect(lambda x: np.exp(x) - 2, -2, 2)\n",
    "print(f_sol)"
   ]
  },
  {
   "cell_type": "markdown",
   "metadata": {},
   "source": [
    "The SciPy optimize module provides additional functions for root finding. In particular, the optimize.brentq and optimize.brenth functions, which are variants of the bisection method, also work on an interval where the function changes sign."
   ]
  },
  {
   "cell_type": "code",
   "execution_count": 4,
   "metadata": {},
   "outputs": [
    {
     "name": "stdout",
     "output_type": "stream",
     "text": [
      "0.6931471805599592\n"
     ]
    }
   ],
   "source": [
    "# Newton method\n",
    "x_root_guess = 0\n",
    "f = lambda x: np.exp(x) - 2\n",
    "f_newton = opt.newton(f, x_root_guess)\n",
    "print(f_newton)"
   ]
  },
  {
   "cell_type": "code",
   "execution_count": 5,
   "metadata": {},
   "outputs": [
    {
     "name": "stdout",
     "output_type": "stream",
     "text": [
      "0.6931471805599453\n"
     ]
    }
   ],
   "source": [
    "fprime = lambda x: np.exp(x)  # the derivative is calculated\n",
    "\n",
    "f_advanced_newton = opt.newton(f, x_root_guess, fprime=fprime)  # more accurate\n",
    "print(f_advanced_newton)"
   ]
  },
  {
   "cell_type": "markdown",
   "metadata": {},
   "source": [
    "#### Systems of Nonlinear Equations\n",
    "Taking as an example the following system of nonlinear equations:\n",
    "$$ y - x^3-2x^2+1 = 0 $$\n",
    "$$ y+x^2-1 = 0 $$\n",
    "To solve this equation system using SciPy, we need to define a Python function for $f(x_1, x_2)$ and call, for example,\n",
    "the optimize.fsolve using the function and an initial guess for the solution vector:"
   ]
  },
  {
   "cell_type": "code",
   "execution_count": 6,
   "metadata": {},
   "outputs": [
    {
     "data": {
      "text/plain": [
       "array([0.73205081, 0.46410162])"
      ]
     },
     "execution_count": 6,
     "metadata": {},
     "output_type": "execute_result"
    }
   ],
   "source": [
    "def f(var):\n",
    "    x = var[0]\n",
    "    y = var[1]\n",
    "    return [y - x ** 3 - 2 * x ** 2 + 1, y + x ** 2 - 1]\n",
    "\n",
    "\n",
    "guess = [1, 1]\n",
    "sol, infodict, ier, mesg = opt.fsolve(f, guess, full_output=True)\n",
    "sol"
   ]
  },
  {
   "cell_type": "code",
   "execution_count": 7,
   "metadata": {},
   "outputs": [
    {
     "name": "stdout",
     "output_type": "stream",
     "text": [
      "[-0.95153319+0.30754606j -0.95153319-0.30754606j]\n",
      "[[ 7.07106781e-01+0.j          7.07106781e-01-0.j        ]\n",
      " [-2.29934717e-17+0.70710678j -2.29934717e-17-0.70710678j]]\n"
     ]
    }
   ],
   "source": [
    "Jacobian = (infodict[\"fjac\"])\n",
    "eigenvalues, eigenvectors = np.linalg.eig(Jacobian)\n",
    "\n",
    "print(eigenvalues) # Eigenvalues are calculated form the Jacobian matrix displayed from the fsolve function\n",
    "print(eigenvectors)\n",
    " "
   ]
  },
  {
   "cell_type": "code",
   "execution_count": 8,
   "metadata": {},
   "outputs": [
    {
     "data": {
      "text/latex": [
       "$\\displaystyle \\left[\\begin{matrix}- 3 x^{2} - 4 x & 1\\\\2 x & 1\\end{matrix}\\right]$"
      ],
      "text/plain": [
       "Matrix([\n",
       "[-3*x**2 - 4*x, 1],\n",
       "[          2*x, 1]])"
      ]
     },
     "execution_count": 8,
     "metadata": {},
     "output_type": "execute_result"
    }
   ],
   "source": [
    "# To specify a Jacobian for optimize.fsolve to use, we need to define a function that evaluates the Jacobian for a\n",
    "# given input vector. This requires that we first derive the Jacobian by hand or, for example, using SymPy\n",
    "\n",
    "x, y = sym.symbols(\"x, y\")\n",
    "f_mat = sym.Matrix([y - x ** 3 - 2 * x ** 2 + 1, y + x ** 2 - 1])\n",
    "jacob = f_mat.jacobian(sym.Matrix([x, y]))\n",
    "jacob"
   ]
  },
  {
   "cell_type": "code",
   "execution_count": 9,
   "metadata": {},
   "outputs": [
    {
     "name": "stdout",
     "output_type": "stream",
     "text": [
      "[0.73205081 0.46410162]\n"
     ]
    }
   ],
   "source": [
    "def jacobian(v):\n",
    "    x = v[0]\n",
    "    return [[-3 * x ** 2 - 4 * x, 1], [2 * x, 1]]\n",
    "\n",
    "\n",
    "accu_sol = opt.fsolve(f, guess, fprime=jacobian)  # As it can be seen it's not necessary, results are the same\n",
    "print(accu_sol)"
   ]
  }
 ],
 "metadata": {
  "kernelspec": {
   "display_name": "Python 3.9.12 ('base')",
   "language": "python",
   "name": "python3"
  },
  "language_info": {
   "codemirror_mode": {
    "name": "ipython",
    "version": 3
   },
   "file_extension": ".py",
   "mimetype": "text/x-python",
   "name": "python",
   "nbconvert_exporter": "python",
   "pygments_lexer": "ipython3",
   "version": "3.9.12"
  },
  "orig_nbformat": 4,
  "vscode": {
   "interpreter": {
    "hash": "20a9e06a1eee47c4abbed4ec8225ad91d78d9800d202b71b6b0a6e47016c6abd"
   }
  }
 },
 "nbformat": 4,
 "nbformat_minor": 2
}
