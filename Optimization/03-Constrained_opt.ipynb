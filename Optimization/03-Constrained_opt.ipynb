{
 "cells": [
  {
   "cell_type": "markdown",
   "metadata": {},
   "source": [
    "## <center> Constrained optimization </center>\n",
    "\n",
    "Constraints add another level of complexity to optimization problems, and they require a classification of their own. A simple form of constrained optimization is the optimization where the coordinate variables are subject to some bounds. his type of problems can be solved using the L-BFGS-B method in SciPy, which is a variant of the BFGS method we used earlier. This solver is available through the function optimize.fmin_l_bgfs_b or via optimize.minimize with the method argument set to 'L-BFGS-B'."
   ]
  },
  {
   "cell_type": "code",
   "execution_count": 1,
   "metadata": {},
   "outputs": [],
   "source": [
    "from scipy import optimize as opt\n",
    "import matplotlib.pyplot as plt\n",
    "import numpy as np"
   ]
  },
  {
   "cell_type": "markdown",
   "metadata": {},
   "source": [
    "#### Example:\n",
    "$ f(x) = (x_1 − 1)^2 − (x_2 − 1)^2 $ subject to the constraints 2 ≤ $x_1$ ≤ 3 and 0 ≤ $x_2$ ≤ 2."
   ]
  },
  {
   "cell_type": "code",
   "execution_count": 2,
   "metadata": {},
   "outputs": [
    {
     "name": "stdout",
     "output_type": "stream",
     "text": [
      "[1. 1.]\n",
      "[2. 1.]\n"
     ]
    }
   ],
   "source": [
    "def fun(var):\n",
    "    x1 = var[0]\n",
    "    x2 = var[1]\n",
    "    return (x1 - 1) ** 2 - (x2 - 1) ** 2\n",
    "\n",
    "\n",
    "bnd_x1, bnd_x2 = (2, 3), (0, 2)\n",
    "x0 = np.array([1, 1])\n",
    "\n",
    "# Without constrain\n",
    "x_opt = opt.minimize(fun, x0, method='L-BFGS-B')\n",
    "print(x_opt.x)\n",
    "\n",
    "# With constrain\n",
    "x_cons_opt = opt.minimize(fun, x0, method='L-BFGS-B', bounds=[bnd_x1, bnd_x2])\n",
    "print(x_cons_opt.x)\n"
   ]
  },
  {
   "cell_type": "markdown",
   "metadata": {},
   "source": [
    "Constraints that are defined by equalities or inequalities that include more than one variable are somewhat more complicated to deal with. However, there are general techniques also for this type of problems. \n",
    "\n",
    "\n",
    "The method known as sequential least square programming, abbreviated as SLSQP, which is available in the SciPy as the optimize.slsqp function and via optimize.minimize with method='SLSQP'. The optimize.minimize function takes the keyword argument constraints, which should be a list of dictionaries that each specifies a constraint. The allowed keys (values) in this dictionary are type ('eq' or 'ineq'), fun (constraint function), jac (Jacobian of the constraint function), and args (additional argument to constraint function and the function for evaluating its Jacobian).\n"
   ]
  },
  {
   "cell_type": "code",
   "execution_count": 4,
   "metadata": {},
   "outputs": [
    {
     "data": {
      "text/plain": [
       "     fun: 0.0\n",
       "     jac: array([ 2.00000001, -1.99999999])\n",
       " message: 'Positive directional derivative for linesearch'\n",
       "    nfev: 9\n",
       "     nit: 7\n",
       "    njev: 3\n",
       "  status: 8\n",
       " success: False\n",
       "       x: array([2., 2.])"
      ]
     },
     "execution_count": 4,
     "metadata": {},
     "output_type": "execute_result"
    }
   ],
   "source": [
    "# Enriching the previous example with a constrain function g(x) = x2 − 1.75 − (x1 − 0.75)^4 ≥ 0\n",
    "\n",
    "def g(var):\n",
    "    x1 = var[0]\n",
    "    x2 = var[1]\n",
    "    return x2 - 1.75 - (x1 - 0.75) ** 4\n",
    "\n",
    "\n",
    "cons = [dict(type='ineq', fun=g)]\n",
    "x_cons_opt_2 = opt.minimize(fun, x0, method='SLSQP', constraints=cons, bounds=[bnd_x1, bnd_x2])\n",
    "x_cons_opt_2"
   ]
  },
  {
   "cell_type": "code",
   "execution_count": 8,
   "metadata": {},
   "outputs": [
    {
     "data": {
      "text/plain": [
       "     fun: -910409.1206492637\n",
       "   maxcv: 0.0\n",
       " message: 'Maximum number of function evaluations has been exceeded.'\n",
       "    nfev: 1000\n",
       "  status: 2\n",
       " success: False\n",
       "       x: array([ -3.65155725, 955.16495305])"
      ]
     },
     "execution_count": 8,
     "metadata": {},
     "output_type": "execute_result"
    }
   ],
   "source": [
    "# For optimization problems with only inequality constraints, SciPy provides an alternative solver using the constrained\n",
    "# optimization by linear approximation (COBYLA) method. This solver is accessible either through optimize.fmin_cobyla\n",
    "# or optimize. minimize with method='COBYLA'. This method doesn't handle bounds.\n",
    "\n",
    "x_cons_opt_3 = opt.minimize(fun, x0, method='COBYLA', constraints=cons)\n",
    "x_cons_opt_3"
   ]
  }
 ],
 "metadata": {
  "kernelspec": {
   "display_name": "Python 3.9.12 ('base')",
   "language": "python",
   "name": "python3"
  },
  "language_info": {
   "codemirror_mode": {
    "name": "ipython",
    "version": 3
   },
   "file_extension": ".py",
   "mimetype": "text/x-python",
   "name": "python",
   "nbconvert_exporter": "python",
   "pygments_lexer": "ipython3",
   "version": "3.9.12"
  },
  "orig_nbformat": 4,
  "vscode": {
   "interpreter": {
    "hash": "20a9e06a1eee47c4abbed4ec8225ad91d78d9800d202b71b6b0a6e47016c6abd"
   }
  }
 },
 "nbformat": 4,
 "nbformat_minor": 2
}
