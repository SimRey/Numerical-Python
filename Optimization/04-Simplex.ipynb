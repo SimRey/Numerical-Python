{
 "cells": [
  {
   "cell_type": "markdown",
   "metadata": {},
   "source": [
    "## <center> Linear Programming -Simplex </center>\n",
    "\n",
    "Linear programming problems are typically written in the so-called standard form: $$min_x c^T x$$ where $Ax ≤ b$ and $x ≥ 0$. Here $c$ and $x$ are vectors of length $n$, and $A$ is a $m × n$ matrix and $b$ a $m$-vector.\n"
   ]
  },
  {
   "cell_type": "markdown",
   "metadata": {},
   "source": [
    "#### Example:\n",
    "\n",
    "$$ f(x) = −x_0 + 2x_1 − 3 x_2 $$  \n",
    "\n",
    "subject to the three inequality constraints $x_0+x_1 ≤ 1$, $−x_0+3x_1 ≤ 2$, and $−x_1+x_2 ≤ 3$.\n"
   ]
  },
  {
   "cell_type": "code",
   "execution_count": 1,
   "metadata": {},
   "outputs": [],
   "source": [
    "import numpy as np\n",
    "import cvxopt"
   ]
  },
  {
   "cell_type": "code",
   "execution_count": 2,
   "metadata": {},
   "outputs": [
    {
     "name": "stdout",
     "output_type": "stream",
     "text": [
      "     pcost       dcost       gap    pres   dres   k/t\n",
      " 0: -1.0000e+01 -1.6000e+01  7e+00  5e-01  8e-01  1e+00\n",
      " 1: -1.0052e+01 -1.0256e+01  2e-01  2e-02  4e-02  9e-02\n",
      " 2: -1.0001e+01 -1.0003e+01  2e-03  2e-04  4e-04  1e-03\n",
      " 3: -1.0000e+01 -1.0000e+01  2e-05  2e-06  4e-06  1e-05\n",
      " 4: -1.0000e+01 -1.0000e+01  2e-07  2e-08  4e-08  1e-07\n",
      "Optimal solution found.\n",
      "{'x': <3x1 matrix, tc='d'>, 'y': <0x1 matrix, tc='d'>, 's': <3x1 matrix, tc='d'>, 'z': <3x1 matrix, tc='d'>, 'status': 'optimal', 'gap': 1.516236214276307e-07, 'relative gap': 1.516236206233976e-08, 'primal objective': -10.000000053041413, 'dual objective': -10.000000259808651, 'primal infeasibility': 2.004467137134631e-08, 'dual infeasibility': 3.6596396620764334e-08, 'primal slack': 7.158147599366521e-09, 'dual slack': 4.3301440742742723e-08, 'residual as primal infeasibility certificate': None, 'residual as dual infeasibility certificate': None, 'iterations': 4}\n",
      "[[0.43162943]\n",
      " [0.56837051]\n",
      " [3.56837055]]\n"
     ]
    }
   ],
   "source": [
    "c = np.array([-1.0, 2.0, -3.0])  # objective function\n",
    "A = np.array([[1.0, 1.0, 0.0], [-1.0, 3.0, 0.0], [0.0, -1.0, 1.0]])  # constrains\n",
    "b = np.array([1.0, 2.0, 3.0])  # equalities of constrains\n",
    "\n",
    "A_ = cvxopt.matrix(A)\n",
    "b_ = cvxopt.matrix(b)\n",
    "c_ = cvxopt.matrix(c)\n",
    "\n",
    "sol = cvxopt.solvers.lp(c_, A_, b_)\n",
    "print(sol)\n",
    "print(np.array(sol['x']))"
   ]
  },
  {
   "cell_type": "code",
   "execution_count": 3,
   "metadata": {},
   "outputs": [
    {
     "name": "stdout",
     "output_type": "stream",
     "text": [
      "     pcost       dcost       gap    pres   dres   k/t\n",
      " 0: -1.3286e+02 -1.3286e+02  4e+01  3e-01  1e-16  1e+00\n",
      " 1: -1.1165e+02 -1.1023e+02  1e+01  1e-01  9e-16  2e+00\n",
      " 2: -1.1002e+02 -1.1000e+02  1e-01  1e-03  7e-16  2e-02\n",
      " 3: -1.1000e+02 -1.1000e+02  1e-03  1e-05  3e-16  2e-04\n",
      " 4: -1.1000e+02 -1.1000e+02  1e-05  1e-07  9e-16  2e-06\n",
      " 5: -1.1000e+02 -1.1000e+02  1e-07  1e-09  4e-16  2e-08\n",
      "Optimal solution found.\n",
      "{'x': <2x1 matrix, tc='d'>, 'y': <0x1 matrix, tc='d'>, 's': <3x1 matrix, tc='d'>, 'z': <3x1 matrix, tc='d'>, 'status': 'optimal', 'gap': 1.3120574057959283e-07, 'relative gap': 1.1927794596229855e-09, 'primal objective': -110.00000001765996, 'dual objective': -110.00000000228574, 'primal infeasibility': 1.0806020218596187e-09, 'dual infeasibility': 4.2700240909353857e-16, 'primal slack': 4.607415602894233e-08, 'dual slack': 5.714285700017665e-11, 'residual as primal infeasibility certificate': None, 'residual as dual infeasibility certificate': None, 'iterations': 5}\n",
      "[[ 9.99999996]\n",
      " [20.00000014]]\n"
     ]
    }
   ],
   "source": [
    "# Maximization example:\n",
    "\n",
    "obj_fun = np.array([-7.0, -2.0])\n",
    "constrains = np.array([[2.0, 1.0], [3.0, 1.0], [5.0, 1.0]])\n",
    "ineq = np.array([80.0, 50.0, 70.0])\n",
    "\n",
    "constrains_ = cvxopt.matrix(constrains)\n",
    "ineq_ = cvxopt.matrix(ineq)\n",
    "objective_ = cvxopt.matrix(obj_fun)\n",
    "\n",
    "solution = cvxopt.solvers.lp(objective_, constrains_, ineq_)\n",
    "print(solution)\n",
    "print(np.array(solution['x']))"
   ]
  }
 ],
 "metadata": {
  "kernelspec": {
   "display_name": "Python 3.9.12 ('base')",
   "language": "python",
   "name": "python3"
  },
  "language_info": {
   "codemirror_mode": {
    "name": "ipython",
    "version": 3
   },
   "file_extension": ".py",
   "mimetype": "text/x-python",
   "name": "python",
   "nbconvert_exporter": "python",
   "pygments_lexer": "ipython3",
   "version": "3.9.12"
  },
  "orig_nbformat": 4,
  "vscode": {
   "interpreter": {
    "hash": "20a9e06a1eee47c4abbed4ec8225ad91d78d9800d202b71b6b0a6e47016c6abd"
   }
  }
 },
 "nbformat": 4,
 "nbformat_minor": 2
}
