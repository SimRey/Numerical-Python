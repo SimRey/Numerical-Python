{
 "cells": [
  {
   "cell_type": "code",
   "execution_count": 1,
   "metadata": {},
   "outputs": [],
   "source": [
    "import pyomo.environ as pe\n",
    "import pyomo.opt as po"
   ]
  },
  {
   "cell_type": "code",
   "execution_count": 2,
   "metadata": {},
   "outputs": [],
   "source": [
    "solver = po.SolverFactory(\"glpk\")"
   ]
  },
  {
   "cell_type": "code",
   "execution_count": 3,
   "metadata": {},
   "outputs": [],
   "source": [
    "m = pe.ConcreteModel()"
   ]
  },
  {
   "cell_type": "code",
   "execution_count": 4,
   "metadata": {},
   "outputs": [],
   "source": [
    "m.N = pe.RangeSet(1,5)"
   ]
  },
  {
   "cell_type": "code",
   "execution_count": 5,
   "metadata": {},
   "outputs": [],
   "source": [
    "c = {1: 3, \n",
    "     2: 4, \n",
    "     3: 5, \n",
    "     4: 8, \n",
    "     5: 9}\n",
    "a = {1: 2,\n",
    "     2: 3,\n",
    "     3: 4,\n",
    "     4: 5, \n",
    "     5: 9}\n",
    "b = 20"
   ]
  },
  {
   "cell_type": "code",
   "execution_count": 6,
   "metadata": {},
   "outputs": [],
   "source": [
    "m.c = pe.Param(m.N, initialize=c)\n",
    "m.a = pe.Param(m.N, initialize=a)\n",
    "m.b = pe.Param(initialize=b)\n",
    "\n",
    "m.x = pe.Var(m.N, domain=pe.Binary)"
   ]
  },
  {
   "cell_type": "code",
   "execution_count": 7,
   "metadata": {},
   "outputs": [],
   "source": [
    "obj_fun = sum(m.x[i]*m.c[i] for i in m.N)\n",
    "m.ob = pe.Objective(sense=pe.maximize, expr=obj_fun)"
   ]
  },
  {
   "cell_type": "code",
   "execution_count": 8,
   "metadata": {},
   "outputs": [],
   "source": [
    "con_lhs = sum(m.x[i]*m.a[i] for i in m.N)\n",
    "m.con = pe.Constraint(expr=(con_lhs <= m.b))"
   ]
  },
  {
   "cell_type": "code",
   "execution_count": 9,
   "metadata": {},
   "outputs": [],
   "source": [
    "result = solver.solve(m)"
   ]
  },
  {
   "cell_type": "code",
   "execution_count": 10,
   "metadata": {},
   "outputs": [
    {
     "name": "stdout",
     "output_type": "stream",
     "text": [
      "1.0\n",
      "0.0\n",
      "1.0\n",
      "1.0\n",
      "1.0\n",
      "25.0\n"
     ]
    }
   ],
   "source": [
    "for i in m.N:\n",
    "    print(pe.value(m.x[i]))\n",
    "\n",
    "print(pe.value(m.ob))"
   ]
  }
 ],
 "metadata": {
  "interpreter": {
   "hash": "20a9e06a1eee47c4abbed4ec8225ad91d78d9800d202b71b6b0a6e47016c6abd"
  },
  "kernelspec": {
   "display_name": "Python 3.9.7 ('base')",
   "language": "python",
   "name": "python3"
  },
  "language_info": {
   "codemirror_mode": {
    "name": "ipython",
    "version": 3
   },
   "file_extension": ".py",
   "mimetype": "text/x-python",
   "name": "python",
   "nbconvert_exporter": "python",
   "pygments_lexer": "ipython3",
   "version": "3.9.12"
  },
  "orig_nbformat": 4
 },
 "nbformat": 4,
 "nbformat_minor": 2
}
