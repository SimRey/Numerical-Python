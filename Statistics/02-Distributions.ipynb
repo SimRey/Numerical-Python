{
 "cells": [
  {
   "cell_type": "markdown",
   "metadata": {},
   "source": [
    "## <center> Distributions of one variable </center>"
   ]
  },
  {
   "cell_type": "code",
   "execution_count": 1,
   "metadata": {},
   "outputs": [],
   "source": [
    "import numpy as np\n",
    "import matplotlib.pyplot as plt\n",
    "import pandas as pd\n",
    "import scipy.stats as stats\n",
    "import seaborn as sns"
   ]
  },
  {
   "cell_type": "markdown",
   "metadata": {},
   "source": [
    "### Bernoulli distributions\n",
    "\n",
    "The simplest case of a univariate distribution, and also the basis of the binomial distribution, is the Bernoulli distribution which has only two states, e.g., the simple coin flipping test. If we flip a coin (and the coin is not rigged), the chance that “heads” comes up is $p_{heads} = 0.5 $ \n",
    "\n",
    "And since it has to be heads or tails, we must have $p_{heads} + p_{tails} = 1 $"
   ]
  },
  {
   "cell_type": "code",
   "execution_count": 2,
   "metadata": {},
   "outputs": [],
   "source": [
    "p = 0.5\n",
    "bernoulliDist = stats.bernoulli(p)"
   ]
  },
  {
   "cell_type": "markdown",
   "metadata": {},
   "source": [
    "In Python this is called a “frozen distribution function”, and it allows us to calculate everything we want for this distribution. For example, the probability if head comes up zero or one times is given by the *probability mass function (PMF)*"
   ]
  },
  {
   "cell_type": "code",
   "execution_count": 3,
   "metadata": {},
   "outputs": [
    {
     "data": {
      "text/plain": [
       "(0.5, 0.5)"
      ]
     },
     "execution_count": 3,
     "metadata": {},
     "output_type": "execute_result"
    }
   ],
   "source": [
    "p_tails = bernoulliDist.pmf(0)\n",
    "p_heads = bernoulliDist.pmf(1)\n",
    "p_tails, p_heads"
   ]
  },
  {
   "cell_type": "code",
   "execution_count": 4,
   "metadata": {},
   "outputs": [
    {
     "data": {
      "text/plain": [
       "array([1, 0, 0, 1, 1, 0, 1, 0, 0, 1])"
      ]
     },
     "execution_count": 4,
     "metadata": {},
     "output_type": "execute_result"
    }
   ],
   "source": [
    "# Simulate 10 Bernoulli trials with rvs stands for random variates.\n",
    "bernoulliDist.rvs(10)"
   ]
  },
  {
   "cell_type": "markdown",
   "metadata": {},
   "source": [
    "### Binomial distribution\n",
    "$$ P[X=x] = \\binom nx p^x(1-p)^{n-x}$$\n",
    "\n",
    "In Python the frozen distribution function takes the parameters $n$ and $p$ as follows:\n",
    "\n",
    "    stats.binom(n, p)"
   ]
  },
  {
   "cell_type": "markdown",
   "metadata": {},
   "source": [
    "Ex: Studies show colour blindness affects about 8% of men. A random sample of 10 men is taken. Find the probabilities:"
   ]
  },
  {
   "cell_type": "code",
   "execution_count": 5,
   "metadata": {},
   "outputs": [
    {
     "name": "stdout",
     "output_type": "stream",
     "text": [
      "1.0737418240000003e-11\n",
      "0.4343884542236323\n",
      "0.18788245514712265\n",
      "0.9999979752208833\n"
     ]
    },
    {
     "data": {
      "image/png": "[encoded data removed]",
      "text/plain": [
       "<Figure size 432x288 with 1 Axes>"
      ]
     },
     "metadata": {
      "needs_background": "light"
     },
     "output_type": "display_data"
    }
   ],
   "source": [
    "binomDist = stats.binom(10, 8/100)\n",
    "\n",
    "# a. All 10 men are colourblind\n",
    "print(binomDist.pmf(10))\n",
    "\n",
    "# b. No men are colourblind\n",
    "print(binomDist.pmf(0))\n",
    "\n",
    "# c. At least 2 men are colourblind\n",
    "print(1-binomDist.cdf(1))\n",
    "\n",
    "# d. At the most 6 men are colourblind\n",
    "print(binomDist.cdf(6))\n",
    "\n",
    "# Probability distribution plot\n",
    "x = np.arange(0, 7, 1)\n",
    "\n",
    "plt.bar(x, binomDist.pmf(x), label=\"PMF\")\n",
    "plt.plot(x, binomDist.cdf(x), color=\"red\", label=\"CDF\")\n",
    "plt.xlabel(\"Colourblind men\")\n",
    "plt.ylabel(\"P(x)\")\n",
    "plt.title(\"Binomial distribution\")\n",
    "plt.legend(loc=\"best\");"
   ]
  },
  {
   "cell_type": "markdown",
   "metadata": {},
   "source": [
    "### Poisson distribution\n",
    "$$ P[X=x] = \\frac{\\lambda^xe^{-\\lambda}}{x!}$$\n",
    "\n",
    "In Python the frozen distribution function takes the parameter $\\lambda$ as follows:\n",
    "\n",
    "    stats.poisson(lambda)"
   ]
  },
  {
   "cell_type": "markdown",
   "metadata": {},
   "source": [
    "Ex: In 2012 there were 62 fatal accidents on streets in Austria. Assuming that those are evenly distributed, we have on average 62/(365/7) = 1.19 fatal accidents per week. Find:"
   ]
  },
  {
   "cell_type": "code",
   "execution_count": 6,
   "metadata": {},
   "outputs": [
    {
     "name": "stdout",
     "output_type": "stream",
     "text": [
      "0.3042212640667041\n",
      "0.2154038660224298\n",
      "0.006049829391041528\n"
     ]
    },
    {
     "data": {
      "image/png": "[encoded data removed]",
      "text/plain": [
       "<Figure size 432x288 with 1 Axes>"
      ]
     },
     "metadata": {
      "needs_background": "light"
     },
     "output_type": "display_data"
    }
   ],
   "source": [
    "poissonDist = stats.poisson(1.19)\n",
    "\n",
    "# a. No accidents\n",
    "print(poissonDist.pmf(0))\n",
    "\n",
    "# 2 accidents\n",
    "print(poissonDist.pmf(2))\n",
    "\n",
    "# 5 accidents\n",
    "print(poissonDist.pmf(5))\n",
    "\n",
    "\n",
    "# Probability distribution plot\n",
    "x = np.arange(0, 7, 1)\n",
    "\n",
    "plt.bar(x, poissonDist.pmf(x), label=\"PMF\")\n",
    "plt.plot(x, poissonDist.cdf(x), color=\"red\", label=\"CDF\")\n",
    "plt.xlabel(\"Accidents\")\n",
    "plt.ylabel(\"P(x)\")\n",
    "plt.title(\"Poisson distribution\")\n",
    "plt.legend(loc=\"best\");"
   ]
  }
 ],
 "metadata": {
  "kernelspec": {
   "display_name": "Python 3.9.12 ('base')",
   "language": "python",
   "name": "python3"
  },
  "language_info": {
   "codemirror_mode": {
    "name": "ipython",
    "version": 3
   },
   "file_extension": ".py",
   "mimetype": "text/x-python",
   "name": "python",
   "nbconvert_exporter": "python",
   "pygments_lexer": "ipython3",
   "version": "3.9.12"
  },
  "orig_nbformat": 4,
  "vscode": {
   "interpreter": {
    "hash": "20a9e06a1eee47c4abbed4ec8225ad91d78d9800d202b71b6b0a6e47016c6abd"
   }
  }
 },
 "nbformat": 4,
 "nbformat_minor": 2
}
