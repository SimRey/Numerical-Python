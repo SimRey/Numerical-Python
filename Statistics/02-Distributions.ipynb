{
 "cells": [
  {
   "cell_type": "markdown",
   "metadata": {},
   "source": [
    "## <center> Distributions of one variable </center>"
   ]
  },
  {
   "cell_type": "code",
   "execution_count": 1,
   "metadata": {},
   "outputs": [],
   "source": [
    "import numpy as np\n",
    "import matplotlib.pyplot as plt\n",
    "import pandas as pd\n",
    "import scipy.stats as stats\n",
    "import seaborn as sns"
   ]
  },
  {
   "cell_type": "markdown",
   "metadata": {},
   "source": [
    "### Bernoulli distributions\n",
    "\n",
    "The simplest case of a univariate distribution, and also the basis of the binomial distribution, is the Bernoulli distribution which has only two states, e.g., the simple coin flipping test. If we flip a coin (and the coin is not rigged), the chance that “heads” comes up is $p_{heads} = 0.5 $ \n",
    "\n",
    "And since it has to be heads or tails, we must have $p_{heads} + p_{tails} = 1 $"
   ]
  },
  {
   "cell_type": "code",
   "execution_count": 2,
   "metadata": {},
   "outputs": [],
   "source": [
    "p = 0.5\n",
    "bernoulliDist = stats.bernoulli(p)"
   ]
  },
  {
   "cell_type": "markdown",
   "metadata": {},
   "source": [
    "In Python this is called a “frozen distribution function”, and it allows us to calculate everything we want for this distribution. For example, the probability if head comes up zero or one times is given by the *probability mass function (PMF)*"
   ]
  },
  {
   "cell_type": "code",
   "execution_count": 3,
   "metadata": {},
   "outputs": [
    {
     "data": {
      "text/plain": [
       "(0.5, 0.5)"
      ]
     },
     "execution_count": 3,
     "metadata": {},
     "output_type": "execute_result"
    }
   ],
   "source": [
    "p_tails = bernoulliDist.pmf(0)\n",
    "p_heads = bernoulliDist.pmf(1)\n",
    "p_tails, p_heads"
   ]
  },
  {
   "cell_type": "code",
   "execution_count": 4,
   "metadata": {},
   "outputs": [
    {
     "data": {
      "text/plain": [
       "array([0, 1, 0, 0, 1, 1, 1, 1, 0, 0])"
      ]
     },
     "execution_count": 4,
     "metadata": {},
     "output_type": "execute_result"
    }
   ],
   "source": [
    "# Simulate 10 Bernoulli trials with rvs stands for random variates.\n",
    "bernoulliDist.rvs(10)"
   ]
  },
  {
   "cell_type": "markdown",
   "metadata": {},
   "source": [
    "### Binomial distribution\n",
    "$$ P[X=x] = \\binom nx p^x(1-p)^{n-x}$$\n",
    "\n",
    "In Python the frozen distribution function takes the parameters $n$ and $p$ as follows:\n",
    "\n",
    "    stats.binom(n, p)"
   ]
  },
  {
   "cell_type": "markdown",
   "metadata": {},
   "source": [
    "Ex: Studies show colour blindness affects about 8% of men. A random sample of 10 men is taken. Find the probabilities:"
   ]
  },
  {
   "cell_type": "code",
   "execution_count": 5,
   "metadata": {},
   "outputs": [
    {
     "name": "stdout",
     "output_type": "stream",
     "text": [
      "1.0737418240000003e-11\n",
      "0.4343884542236323\n",
      "0.18788245514712265\n",
      "0.9999979752208833\n"
     ]
    },
    {
     "data": {
      "image/png": "[encoded data removed]",
      "text/plain": [
       "<Figure size 432x288 with 1 Axes>"
      ]
     },
     "metadata": {
      "needs_background": "light"
     },
     "output_type": "display_data"
    }
   ],
   "source": [
    "binomDist = stats.binom(10, 8/100)\n",
    "\n",
    "# a. All 10 men are colourblind\n",
    "print(binomDist.pmf(10))\n",
    "\n",
    "# b. No men are colourblind\n",
    "print(binomDist.pmf(0))\n",
    "\n",
    "# c. At least 2 men are colourblind\n",
    "print(1-binomDist.cdf(1))\n",
    "\n",
    "# d. At the most 6 men are colourblind\n",
    "print(binomDist.cdf(6))\n",
    "\n",
    "# Probability distribution plot\n",
    "x = np.arange(0, 7, 1)\n",
    "\n",
    "plt.bar(x, binomDist.pmf(x), label=\"PMF\")\n",
    "plt.plot(x, binomDist.cdf(x), color=\"red\", label=\"CDF\")\n",
    "plt.xlabel(\"Colourblind men\")\n",
    "plt.ylabel(\"P(x)\")\n",
    "plt.title(\"Binomial distribution\")\n",
    "plt.legend(loc=\"best\");"
   ]
  },
  {
   "cell_type": "markdown",
   "metadata": {},
   "source": [
    "### Poisson distribution\n",
    "$$ P[X=x] = \\frac{\\lambda^xe^{-\\lambda}}{x!}$$\n",
    "\n",
    "In Python the frozen distribution function takes the parameter $\\lambda$ as follows:\n",
    "\n",
    "    stats.poisson(lambda)"
   ]
  },
  {
   "cell_type": "markdown",
   "metadata": {},
   "source": [
    "Ex: In 2012 there were 62 fatal accidents on streets in Austria. Assuming that those are evenly distributed, we have on average 62/(365/7) = 1.19 fatal accidents per week. Find:"
   ]
  },
  {
   "cell_type": "code",
   "execution_count": 6,
   "metadata": {},
   "outputs": [
    {
     "name": "stdout",
     "output_type": "stream",
     "text": [
      "0.3042212640667041\n",
      "0.2154038660224298\n",
      "0.006049829391041528\n"
     ]
    },
    {
     "data": {
      "image/png": "[encoded data removed]",
      "text/plain": [
       "<Figure size 432x288 with 1 Axes>"
      ]
     },
     "metadata": {
      "needs_background": "light"
     },
     "output_type": "display_data"
    }
   ],
   "source": [
    "poissonDist = stats.poisson(1.19)\n",
    "\n",
    "# a. No accidents\n",
    "print(poissonDist.pmf(0))\n",
    "\n",
    "# 2 accidents\n",
    "print(poissonDist.pmf(2))\n",
    "\n",
    "# 5 accidents\n",
    "print(poissonDist.pmf(5))\n",
    "\n",
    "\n",
    "# Probability distribution plot\n",
    "x = np.arange(0, 7, 1)\n",
    "\n",
    "plt.bar(x, poissonDist.pmf(x), label=\"PMF\")\n",
    "plt.plot(x, poissonDist.cdf(x), color=\"red\", label=\"CDF\")\n",
    "plt.xlabel(\"Accidents\")\n",
    "plt.ylabel(\"P(x)\")\n",
    "plt.title(\"Poisson distribution\")\n",
    "plt.legend(loc=\"best\");"
   ]
  },
  {
   "cell_type": "markdown",
   "metadata": {},
   "source": [
    "### Normal distribution\n",
    "The Normal distribution or Gaussian distribution is by far the most important of all the distribution functions. This is due to the fact that the mean values of all distribution functions approximate a normal distribution for large enough sample numbers. Mathematically, the normal distribution is characterized by a mean value $\\mu$, and a standard deviation $\\sigma$:\n",
    "$$ f(x) =\\frac{1}{\\sigma\\sqrt{2\\pi}} e^{\\frac{-(x-\\mu)^2}{2\\sigma^2}}$$\n",
    "\n",
    "In Python the frozen distribution function takes the parameters $\\mu$ and $\\sigma$ as follows:\n",
    "\n",
    "    stats.norm(mu, sigma)"
   ]
  },
  {
   "cell_type": "markdown",
   "metadata": {},
   "source": [
    "Ex: Given a random variable with a normal distribution with $\\mu = 16.2$ and $\\sigma^2 = 1.5625$. Find:"
   ]
  },
  {
   "cell_type": "code",
   "execution_count": 7,
   "metadata": {},
   "outputs": [
    {
     "name": "stdout",
     "output_type": "stream",
     "text": [
      "0.3156136965162222\n",
      "0.14916995033098157\n",
      "0.66562353704884\n"
     ]
    },
    {
     "data": {
      "image/png": "[encoded data removed]",
      "text/plain": [
       "<Figure size 432x288 with 1 Axes>"
      ]
     },
     "metadata": {
      "needs_background": "light"
     },
     "output_type": "display_data"
    }
   ],
   "source": [
    "mu = 16.2\n",
    "sigma = np.sqrt(1.5625)\n",
    "normDist = stats.norm(mu, sigma)\n",
    "\n",
    "# Important PDF only evaluates x in the function, it doesn't give a probability\n",
    "# CDF is used to calculate the area under the curve and give a probability\n",
    "\n",
    "# a. X more than 16.8\n",
    "val1 = 1 - normDist.cdf(16.8)\n",
    "print(val1)\n",
    "\n",
    "# b. X less than 14.9\n",
    "val2 = normDist.cdf(14.9)\n",
    "print(val2)\n",
    "\n",
    "# c. X between 13.6 and 18.8\n",
    "val3 = normDist.cdf(16.8) - normDist.cdf(13.6) \n",
    "print(val3)\n",
    "\n",
    "\n",
    "# Probability distribution plot\n",
    "x = np.linspace(mu-4*sigma, mu+4*sigma, 100)\n",
    "\n",
    "plt.plot(x, normDist.pdf(x), label=\"PDF\") \n",
    "plt.xlabel(\"x\")\n",
    "plt.ylabel(\"f(x)\")\n",
    "plt.title(\"Normal distribution\")\n",
    "plt.legend(loc=\"best\");"
   ]
  },
  {
   "cell_type": "markdown",
   "metadata": {},
   "source": [
    "Ex: If cans are assumed to have a standard deviation of 4 g, what does the average weight need to be in order to ensure that 99% of all cans have a weight of at least 250 g?\n",
    "\n",
    "If you have the area, but you're missing a parameter ($\\mu$ or $\\sigma$) ... function ppf is used, to then apply the formula:\n",
    "$$ Z = \\frac{x-\\mu}{\\sigma}$$"
   ]
  },
  {
   "cell_type": "code",
   "execution_count": 8,
   "metadata": {},
   "outputs": [
    {
     "data": {
      "text/plain": [
       "240.69460850383663"
      ]
     },
     "execution_count": 8,
     "metadata": {},
     "output_type": "execute_result"
    }
   ],
   "source": [
    "prob = 0.99\n",
    "\n",
    "z_value = stats.norm.ppf(prob)\n",
    "x = 250\n",
    "sigma = 4\n",
    "mean = 250 - z_value*sigma\n",
    "mean"
   ]
  }
 ],
 "metadata": {
  "kernelspec": {
   "display_name": "Python 3.9.12 ('base')",
   "language": "python",
   "name": "python3"
  },
  "language_info": {
   "codemirror_mode": {
    "name": "ipython",
    "version": 3
   },
   "file_extension": ".py",
   "mimetype": "text/x-python",
   "name": "python",
   "nbconvert_exporter": "python",
   "pygments_lexer": "ipython3",
   "version": "3.9.12"
  },
  "orig_nbformat": 4,
  "vscode": {
   "interpreter": {
    "hash": "20a9e06a1eee47c4abbed4ec8225ad91d78d9800d202b71b6b0a6e47016c6abd"
   }
  }
 },
 "nbformat": 4,
 "nbformat_minor": 2
}
